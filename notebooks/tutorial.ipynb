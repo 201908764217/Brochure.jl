{
 "cells": [
  {
   "cell_type": "markdown",
   "metadata": {
    "slideshow": {
     "slide_type": "slide"
    }
   },
   "source": [
    "![Julia](http://104.224.129.42/media/julia-logo.svg)\n",
    "\n",
    "#### 一种科学计算的新尝试"
   ]
  },
  {
   "cell_type": "markdown",
   "metadata": {
    "slideshow": {
     "slide_type": "slide"
    }
   },
   "source": [
    "## 没有银弹\n",
    "\n",
    "**没有银弹: 软件工程的本质性与附属性工作** 是IBM大型机之父 Fred Brooks 所发表的一篇关于软件工程的经典论文。指没有任何一项技术或方法可以使软件工程的生产力在十年内提高十倍。\n",
    "\n",
    "- **Python** 胶水，简单，灵活，生态丰富，好上手，...\n",
    "- **MATLAB** 有大量历史积累，速度足够快，商业软件有充分支持，对矩阵计算支持好...\n",
    "- **Fortran** 速度最快，有大量历史代码，...\n",
    "- **C** 充分接近底层，几乎所有的硬件都支持，语法足够简单（容易制定标准），...\n",
    "- **C++** 有大量工程实践，能够保证低抽象，工具丰富...\n"
   ]
  },
  {
   "cell_type": "markdown",
   "metadata": {
    "slideshow": {
     "slide_type": "subslide"
    }
   },
   "source": [
    "- **Python** 慢，作为胶水需要写大量胶水代码进行封装，...\n",
    "- **MATLAB** 商业软件收费，不够工程化，...\n",
    "- **Fortran** 过于古老，历史遗留问题多，生态不够好，没有包管理器 ...\n",
    "- **C** 语法简单，缺乏足够的抽象能力 ...\n",
    "- **C++** 开发效率低（某种程度上正是因为工具太丰富了），为了兼容有很多的妥协 ...\n"
   ]
  },
  {
   "cell_type": "markdown",
   "metadata": {
    "slideshow": {
     "slide_type": "fragment"
    }
   },
   "source": [
    "## 劣势往往是优势所带来的"
   ]
  },
  {
   "cell_type": "markdown",
   "metadata": {
    "slideshow": {
     "slide_type": "subslide"
    }
   },
   "source": [
    "## 科学计算的问题\n",
    "\n",
    "简单来说是已有的工具对于新出现的问题不够好用，影响了效率。使用 `MATLAB` 难以开发大型的程序库（起初并非一般目的的编程语言），此外作为商业软件需要收费（很多学校和机构也只买了部分功能）。\n",
    "\n",
    "而使用 `Python` 在 `Python` 层面的逻辑过多的时候，会有不能使用例如 `numba` 等特定加速器的情况，而一般的JIT编译器又由于Python本身的简单和动态性变得难以优化，例如 `Pyston`/`PyPy` ，于是需要用 `C/C++/Fortran/Cython` 重写，而后者的开发效率则要低很多。此外，进入了2010年之后，随着计算能力的提高，很多数值任务的计算量和复杂度都提高了，我们的模型越来越复杂，以至于在很多任务里性能是非常关键的，它或许直接决定了一个项目能否进行下去。\n",
    "\n",
    "我们的问题是：是否能在科学计算，这个场景下在 `Python` 和 `C/C++/Fortran` 之间找到一个平衡点？让我们可以用**一种语言**开发和实践想法。"
   ]
  },
  {
   "cell_type": "markdown",
   "metadata": {
    "slideshow": {
     "slide_type": "slide"
    }
   },
   "source": [
    "## Julia语言的特点"
   ]
  },
  {
   "cell_type": "markdown",
   "metadata": {
    "slideshow": {
     "slide_type": "subslide"
    }
   },
   "source": [
    "## 性能好\n",
    "\n",
    "![](https://plot.ly/~Roger-luo/9.png?share_key=Lf91Q3vXngwR4BCCAxVHa2)"
   ]
  },
  {
   "cell_type": "markdown",
   "metadata": {
    "slideshow": {
     "slide_type": "subslide"
    }
   },
   "source": [
    "## 其它特点\n",
    "\n",
    "- 可读性更好，更贴近数学表达式的代码\n",
    "- 内建的包管理器\n",
    "- 继承自Lisp的宏\n",
    "- 为并行计算和分布式系统设计\n",
    "- 协程：“绿色”的线程\n",
    "- 从语言层面支持的GPU编程：JuliaGPU/CUDAnative\n",
    "\n",
    "详见：[juliacn.com/julialang](http://juliacn.com/julialang/)"
   ]
  },
  {
   "cell_type": "markdown",
   "metadata": {
    "slideshow": {
     "slide_type": "subslide"
    }
   },
   "source": [
    "## 适用于科学计算\n",
    "\n",
    "- 机器学习（内建的GPU编程，无缝调用Python，更快的native代码，etc.）\n",
    "- 数据处理（支持HDF5和DataFrame，CSV等常用数据格式，自带分布式特性）\n",
    "- 仿真模拟（自带多维数组和各类稀疏矩阵）\n",
    "- 数值分析（高性能的代码和方便的并行计算）\n",
    "- etc."
   ]
  },
  {
   "cell_type": "markdown",
   "metadata": {
    "slideshow": {
     "slide_type": "subslide"
    }
   },
   "source": [
    "## 缺点\n",
    "\n",
    "*这只是部分缺点，不存在没有坑的语言，没有坑只是你学的不到位*\n",
    "\n",
    "- 基于JIT，启动有预热时间，不适合小规模，只运行一次的任务（例如shell脚本，这是几乎所有JIT编译器都会有的问题）\n",
    "- 新语言的生态还不够强，不适合 **调库** 党（即便能使用所有Python和大部分R的库）\n",
    "- CLI工具缺乏，不适合在终端（Terminal）开发，需要借助能够热重启（reload）和IDE开发"
   ]
  },
  {
   "cell_type": "markdown",
   "metadata": {
    "slideshow": {
     "slide_type": "subslide"
    }
   },
   "source": [
    "**micro-benchmark** 实际上很难说明问题，Julia官网的benchmark实际上也常常被指出不是按照某种语言特定的方式编写。但是举例而言，如果大家都比矩阵乘法 `gemm` ，没有任何意义，大家都是调 `mkl`/`openBLAS`。对于语言来讲，纯Julia编写的库更加有说服力\n",
    "\n",
    "\n",
    "## 标准库和一些官方支持的库\n",
    "\n",
    "- [StaticArrays.jl](https://github.com/JuliaArrays/StaticArrays.jl) 纯Julia实现的静态数组（更快的小型线性代数计算）\n",
    "- [SparseArrays.jl](https://docs.julialang.org/en/latest/stdlib/SparseArrays/) 纯Julia实现的稀疏矩阵库（一些操作，例如kronecker乘积远超`scipy.sparse`）\n"
   ]
  },
  {
   "cell_type": "markdown",
   "metadata": {
    "slideshow": {
     "slide_type": "subslide"
    }
   },
   "source": [
    "以下是一些纯Julia的实践：\n",
    "\n",
    "## 我们自己的实践\n",
    "\n",
    "用Julia语言实现比同类 `Python` + `C++` 实现更快的量子线路模拟器：[Github/Yao.jl](https://github.com/QuantumBFS/Yao.jl)\n",
    "\n",
    "## 一些其它的实践\n",
    "\n",
    "- [TensorOperations.jl](https://github.com/Jutho/TensorOperations.jl) 比 `numpy.einsum` 快将近十倍的，语法更加自然的张量收缩\n",
    "- [DifferentialEquations.jl](https://github.com/JuliaDiffEq/DifferentialEquations.jl) 性能更好，功能更加强大的偏微分方程求解器\n",
    "- [CUDAnative.jl](https://github.com/JuliaGPU/CUDAnative.jl) 唯一一个在动态语言上支持CUDA编程的工具包\n",
    "- [Knet.jl](https://github.com/denizyuret/Knet.jl) 纯Julia实现的深度学习框架\n",
    "- [Turing.jl](https://github.com/TuringLang/Turing.jl) 纯Julia实现的统计推断语言（DSL）\n",
    "- [JuMP.jl](https://github.com/JuliaOpt/JuMP.jl) 利用Julia实现的优化器DSL（Domain Specific Language）\n"
   ]
  },
  {
   "cell_type": "markdown",
   "metadata": {
    "slideshow": {
     "slide_type": "slide"
    }
   },
   "source": [
    "## 如何安装和配置Julia开发环境"
   ]
  },
  {
   "cell_type": "markdown",
   "metadata": {
    "slideshow": {
     "slide_type": "subslide"
    }
   },
   "source": [
    "我推荐直接安装全家桶：Julia Pro：\n",
    "\n",
    "https://shop.juliacomputing.com/Products/juliapro-2-2-2-2-2/\n",
    "\n",
    "像Python一样，Julia可以通过从官网下载编译器安装：\n",
    "\n",
    "https://julialang.org/downloads/\n",
    "\n",
    "但是国内有些地区的速度可能较慢，所以我们也准备了境内的服务器：\n",
    "\n",
    "http://juliacn.com/downloads/\n"
   ]
  },
  {
   "cell_type": "markdown",
   "metadata": {
    "slideshow": {
     "slide_type": "subslide"
    }
   },
   "source": [
    "## 如何从源码编译Julia"
   ]
  },
  {
   "cell_type": "markdown",
   "metadata": {
    "slideshow": {
     "slide_type": "subslide"
    }
   },
   "source": [
    "从源码编译Julia非常简单（这部分仅限Linux和Mac系统）：\n",
    "\n",
    "### 1.下载源码\n",
    "\n",
    "下载源码有很多方式，你可以从官网的服务器或者中文社区的服务器上下载到某个Julia版本的源代码（Tarball）。\n",
    "\n",
    "或者也可以选择使用 `git` 从GitHub上直接下载Julia的源码：\n",
    "\n",
    "```sh\n",
    "git clone https://github.com/JuliaLang/julia.git\n",
    "```"
   ]
  },
  {
   "cell_type": "markdown",
   "metadata": {
    "slideshow": {
     "slide_type": "subslide"
    }
   },
   "source": [
    "### 2. 编译前的准备\n",
    "\n",
    "在编译前有一些基本准备，你需要保证你的系统上安装了：\n",
    "\n",
    "- GNU make 编译工具\n",
    "- GCC（>=4.7） （Julia的parser等是依赖于C/C++的）\n",
    "- libatomic 一般来说由gcc提供，用于支持原子操作\n",
    "- python (>=2.7) 用于编译LLVM\n",
    "- gfortran 用于编译和链接一些fortran库\n",
    "- perl 用于预处理头文件\n",
    "- wget/curl/fetch其中之一 用于自动下载依赖\n",
    "- m4 用于编译GMP\n",
    "- awk 用于帮助编写Makefiles\n",
    "- patch 用于修改源代码\n",
    "- cmake 用于编译 `libgit2`\n",
    "- pkg-config 用于编译 `libgit2`\n"
   ]
  },
  {
   "cell_type": "markdown",
   "metadata": {
    "slideshow": {
     "slide_type": "subslide"
    }
   },
   "source": [
    "在Debian系统上（例如Ubuntu），你可以直接用 `apt-get` 安装它们：\n",
    "\n",
    "```sh\n",
    "sudo apt-get install build-essential libatomic1 python gfortran perl wget m4 cmake pkg-config\n",
    "```\n",
    "\n",
    "其它平台请自行使用各自的包管理器安装，例如在Mac上你可以使用`brew`"
   ]
  },
  {
   "cell_type": "markdown",
   "metadata": {
    "slideshow": {
     "slide_type": "subslide"
    }
   },
   "source": [
    "## 安装jupyter notebook\n",
    "\n",
    "我们这次主要使用jupyter notebook来展示Julia。Julia和jupyter都是开源组织NumFocus的项目，所以jupyter实际上来自于：Julia，Python，R的开头。除了jupyter notebook以外，你还可以使用：\n",
    "\n",
    "- 在线的Julia环境：http://juliabox.com \n",
    "- 以及Atom上的Julia插件Juno\n",
    "- Jetbrain平台上的Julia插件：https://plugins.jetbrains.com/plugin/10413-julia （千里冰封）\n"
   ]
  },
  {
   "cell_type": "markdown",
   "metadata": {
    "slideshow": {
     "slide_type": "subslide"
    }
   },
   "source": [
    "首先打开你的Julia交互式环境（REPL）：\n",
    "\n",
    "- Linux用户请打开你的命令行，运行Julia的可执行文件：`你的Julia安装路径/julia`\n",
    "- Mac用户请在app里找到Julia然后点击打开，或者如果下载了其它二进制版本的，也请打开命令行运行可执行文件\n",
    "- Windows用户请在桌面/安装目录中找到Julia的快捷方式活着可执行文件，然后双击打开"
   ]
  },
  {
   "cell_type": "markdown",
   "metadata": {
    "slideshow": {
     "slide_type": "subslide"
    }
   },
   "source": [
    "然后按`]`键进入pkg模式：\n",
    "\n",
    "```\n",
    "(v0.7) pkg> add IJulia PyCall\n",
    "```\n",
    "\n",
    "`PyCall`的编译时间可能会比较久，不用着急，如果你之前没有安装过Python（或者Python不在标准路径里）那么它将会自动下载Python。\n",
    "\n",
    "如果你下载的是 `v0.6` 不用担心，也可以通过下面的命令安装\n",
    "\n",
    "```julia\n",
    "julia> Pkg.add(\"IJulia\"); Pkg.add(\"PyCall\");\n",
    "```"
   ]
  },
  {
   "cell_type": "markdown",
   "metadata": {
    "slideshow": {
     "slide_type": "subslide"
    }
   },
   "source": [
    "先别着急，在启动notebook之前，我们先了解一下Julia的REPL：\n",
    "\n",
    "```\n",
    "               _\n",
    "   _       _ _(_)_     |  A fresh approach to technical computing\n",
    "  (_)     | (_) (_)    |  Documentation: https://docs.julialang.org\n",
    "   _ _   _| |_  __ _   |  Type \"?\" for help, \"]?\" for Pkg help.\n",
    "  | | | | | | |/ _` |  |\n",
    "  | | |_| | | | (_| |  |  Version 0.7.0-beta2.33 (2018-07-18 08:33 UTC)\n",
    " _/ |\\__'_|_|_|\\__'_|  |  Commit 565bd4d265* (5 days old master)\n",
    "|__/                   |  x86_64-apple-darwin17.6.0\n",
    "```"
   ]
  },
  {
   "cell_type": "markdown",
   "metadata": {
    "slideshow": {
     "slide_type": "subslide"
    }
   },
   "source": [
    "如果对什么有疑问，可以按`?`进入 `help` （帮助）模式来查看文档：\n",
    "\n",
    "```\n",
    "help?> julia\n",
    "search:\n",
    "\n",
    "  Welcome to Julia 0.7.0-beta2.33. The full manual is available at\n",
    "\n",
    "  https://docs.julialang.org/\n",
    "\n",
    "  as well as many great tutorials and learning resources:\n",
    "\n",
    "  https://julialang.org/learning/\n",
    "\n",
    "  For help on a specific function or macro, type ? followed by its name, e.g. ?cos, or\n",
    "  ?@time, and press enter.\n",
    "```"
   ]
  },
  {
   "cell_type": "markdown",
   "metadata": {
    "slideshow": {
     "slide_type": "subslide"
    }
   },
   "source": [
    "如果需要临时进入shell进行操作，按 `;` 可以进入 `shell` 模式：\n",
    "\n",
    "```julia\n",
    "shell> ls\n",
    "Applications\tDocuments\tLibrary\t\tMusic\t\tPublic\n",
    "Desktop\t\tDownloads\tMovies\t\tPictures\ttest.jl\n",
    "```"
   ]
  },
  {
   "cell_type": "markdown",
   "metadata": {
    "slideshow": {
     "slide_type": "subslide"
    }
   },
   "source": [
    "顺便一提，你还可以通过重载 `REPL` 模块里的方法创建个性的交互式界面，比如 `OhMyREPL`\n",
    "\n",
    "![oh-my-repl](https://camo.githubusercontent.com/3cc1b639c8e0c129b419bb4727266cb56432241e/68747470733a2f2f692e696d6775722e636f6d2f777452304153442e706e67)"
   ]
  },
  {
   "cell_type": "markdown",
   "metadata": {
    "slideshow": {
     "slide_type": "subslide"
    }
   },
   "source": [
    "以及 `Cxx`：\n",
    "\n",
    "![cxx](https://github.com/Keno/Cxx.jl/raw/master/docs/screenshot.png)"
   ]
  },
  {
   "cell_type": "markdown",
   "metadata": {
    "slideshow": {
     "slide_type": "subslide"
    }
   },
   "source": [
    "现在使用julia kernel吧，在Julia REPL里调用 `IJulia` 模块：\n",
    "\n",
    "\n",
    "```julia\n",
    "julia> using IJulia\n",
    "\n",
    "julia> IJulia.notebook() # 启动notebook\n",
    "```"
   ]
  },
  {
   "cell_type": "markdown",
   "metadata": {
    "slideshow": {
     "slide_type": "slide"
    }
   },
   "source": [
    "## 基本语法\n",
    "\n",
    "这一部分我们将简单地学习Julia的语法，包括它的字符串，变量，控制流还有函数的声明。"
   ]
  },
  {
   "cell_type": "markdown",
   "metadata": {
    "slideshow": {
     "slide_type": "subslide"
    }
   },
   "source": [
    "### Hello World\n",
    "\n",
    "打印一个字符串非常简单，在Julia里类似于C语言，字符串使用双引号，而字符使用单引号。"
   ]
  },
  {
   "cell_type": "code",
   "execution_count": null,
   "metadata": {
    "slideshow": {
     "slide_type": "fragment"
    }
   },
   "outputs": [],
   "source": [
    "println(\"Hello World!\")"
   ]
  },
  {
   "cell_type": "code",
   "execution_count": null,
   "metadata": {
    "slideshow": {
     "slide_type": "fragment"
    }
   },
   "outputs": [],
   "source": [
    "@show \"Hello World!\""
   ]
  },
  {
   "cell_type": "markdown",
   "metadata": {
    "slideshow": {
     "slide_type": "subslide"
    }
   },
   "source": [
    "### 变量\n",
    "\n",
    "你也可以绑定一个变量"
   ]
  },
  {
   "cell_type": "code",
   "execution_count": null,
   "metadata": {
    "slideshow": {
     "slide_type": "fragment"
    }
   },
   "outputs": [],
   "source": [
    "x = \"Hello World\""
   ]
  },
  {
   "cell_type": "markdown",
   "metadata": {
    "slideshow": {
     "slide_type": "fragment"
    }
   },
   "source": [
    "变量名称不仅仅可以是ASCII字符，也可以是其它的Unicode字符，甚至是中文"
   ]
  },
  {
   "cell_type": "code",
   "execution_count": null,
   "metadata": {
    "slideshow": {
     "slide_type": "fragment"
    }
   },
   "outputs": [],
   "source": [
    "你好 = \"Hello!\"\n",
    "你好"
   ]
  },
  {
   "cell_type": "markdown",
   "metadata": {
    "slideshow": {
     "slide_type": "subslide"
    }
   },
   "source": [
    "还可以是Emoji，输入 `\\:smile` 然后再按 `tab`"
   ]
  },
  {
   "cell_type": "code",
   "execution_count": null,
   "metadata": {
    "slideshow": {
     "slide_type": "fragment"
    }
   },
   "outputs": [],
   "source": [
    "😄 = \"smile\""
   ]
  },
  {
   "cell_type": "markdown",
   "metadata": {
    "slideshow": {
     "slide_type": "fragment"
    }
   },
   "source": [
    "还可以利用LaTeX来输入特别的数学符号，在notebook或者REPL里输入 `\\` + `epsilon` 按 `tab` 键"
   ]
  },
  {
   "cell_type": "code",
   "execution_count": null,
   "metadata": {
    "slideshow": {
     "slide_type": "fragment"
    }
   },
   "outputs": [],
   "source": [
    "ϵ = 2.2"
   ]
  },
  {
   "cell_type": "markdown",
   "metadata": {
    "slideshow": {
     "slide_type": "fragment"
    }
   },
   "source": [
    "Julia还利用了LLVM的一些常数（无限精度）："
   ]
  },
  {
   "cell_type": "code",
   "execution_count": null,
   "metadata": {
    "slideshow": {
     "slide_type": "fragment"
    }
   },
   "outputs": [],
   "source": [
    "π"
   ]
  },
  {
   "cell_type": "markdown",
   "metadata": {
    "slideshow": {
     "slide_type": "subslide"
    }
   },
   "source": [
    "## 任务一：对数组求和\n",
    "\n",
    "我们定义一个求和函数 `sum(a)`，它会计算\n",
    "$$\n",
    "\\mathrm{sum}(a) = \\sum_{i=1}^n a_i,\n",
    "$$\n",
    "这里 $n$ 是 `a` 的长度。"
   ]
  },
  {
   "cell_type": "code",
   "execution_count": null,
   "metadata": {
    "slideshow": {
     "slide_type": "subslide"
    }
   },
   "outputs": [],
   "source": [
    "function mysum(A)\n",
    "    s = 0.0 # s = zero(eltype(A))\n",
    "    for a in A\n",
    "        s += a\n",
    "    end\n",
    "    s\n",
    "end"
   ]
  },
  {
   "cell_type": "code",
   "execution_count": null,
   "metadata": {},
   "outputs": [],
   "source": [
    "A = rand(1000)\n",
    "mysum(A)"
   ]
  },
  {
   "cell_type": "markdown",
   "metadata": {
    "slideshow": {
     "slide_type": "subslide"
    }
   },
   "source": [
    "对偶数角标求和："
   ]
  },
  {
   "cell_type": "code",
   "execution_count": null,
   "metadata": {},
   "outputs": [],
   "source": [
    "is_even(x::Int) = x % 2 == 0"
   ]
  },
  {
   "cell_type": "code",
   "execution_count": null,
   "metadata": {
    "slideshow": {
     "slide_type": "-"
    }
   },
   "outputs": [],
   "source": [
    "function sum_even(A)\n",
    "    s = 0.0\n",
    "    for i in eachindex(A)\n",
    "        if is_even(i)\n",
    "            s += A[i]\n",
    "        end\n",
    "    end\n",
    "    s\n",
    "end\n",
    "\n",
    "sum_even(A)"
   ]
  },
  {
   "cell_type": "markdown",
   "metadata": {
    "slideshow": {
     "slide_type": "subslide"
    }
   },
   "source": [
    "所有的Julia对象都有类型，当标注了类型而输入了错误的参数类型时就会报错。"
   ]
  },
  {
   "cell_type": "code",
   "execution_count": null,
   "metadata": {
    "slideshow": {
     "slide_type": "-"
    }
   },
   "outputs": [],
   "source": [
    "is_even(2.0)"
   ]
  },
  {
   "cell_type": "markdown",
   "metadata": {
    "slideshow": {
     "slide_type": "subslide"
    }
   },
   "source": [
    "最后让我们为 `is_even` 加上文档（文档是 `markdown` 格式，细则请参见文档：[英文](https://docs.julialang.org/en/latest/manual/documentation/)）"
   ]
  },
  {
   "cell_type": "code",
   "execution_count": null,
   "metadata": {},
   "outputs": [],
   "source": [
    "\"\"\"\n",
    "    is_even(x::Int) -> Bool\n",
    "\n",
    "判断一个整数 `x` 是否是偶数\n",
    "\"\"\"\n",
    "is_even"
   ]
  },
  {
   "cell_type": "markdown",
   "metadata": {
    "slideshow": {
     "slide_type": "subslide"
    }
   },
   "source": [
    "在notebook等环境下不能使用REPL的 `help` 模式，请用 `@doc` 宏来查看文档"
   ]
  },
  {
   "cell_type": "code",
   "execution_count": null,
   "metadata": {},
   "outputs": [],
   "source": [
    "@doc is_even"
   ]
  },
  {
   "cell_type": "markdown",
   "metadata": {
    "slideshow": {
     "slide_type": "slide"
    }
   },
   "source": [
    "## 一切都是对象\n",
    "\n",
    "Julia里所有的一切都是对象，Julia语言也是一个支持面向对象的语言。但是Julia的对象皆为**类型**的**实例**，而非 `class` 的实例，Julia没有 `class`，但是有更轻量级的类型。"
   ]
  },
  {
   "cell_type": "markdown",
   "metadata": {
    "slideshow": {
     "slide_type": "subslide"
    }
   },
   "source": [
    "## 任务二：定义一个复数类型\n",
    "\n",
    "复数是很多数值计算和数据分析算法都会用到的类型，然而一般的处理器上并不是自带复数类型的，我们往往使用两倍精度的浮点数来模拟一个复数，例如在 `C` 语言里，双精度的复数可以写作：\n",
    "\n",
    "```c\n",
    "double _Complex a;\n",
    "```\n",
    "\n",
    "或者在 `C++` 中，双精度的复数可以写作：\n",
    "\n",
    "```c++\n",
    "std::complex<double> a;\n",
    "```\n",
    "\n",
    "在 `Python` 里，没有显示类型，但是我们可以使用 `j`：\n",
    "\n",
    "```ipython\n",
    "In [1]: 1 + 1.j\n",
    "Out[1]: (1+1j)\n",
    "```"
   ]
  },
  {
   "cell_type": "markdown",
   "metadata": {
    "slideshow": {
     "slide_type": "subslide"
    }
   },
   "source": [
    "而实际上和 `C`/`C++` 一样，Julia的复数类型也是纯Julia实现的，我们这里会简单地实现一个复数类型 `MyComplex`。Julia的类型使用 `struct` 关键字，然后用 `end` 表示这一段表达式的结束。每个Julia类型有一个默认的构造函数，这个构造函数的变量即为类型声明的成员。"
   ]
  },
  {
   "cell_type": "code",
   "execution_count": null,
   "metadata": {},
   "outputs": [],
   "source": [
    "struct MyComplex\n",
    "    real::Float64\n",
    "    imag::Float64\n",
    "end\n",
    "\n",
    "# 一个复数就是 MyComplex 类型的一个实例，也就是一种对象\n",
    "a = MyComplex(1.0, 2.0)"
   ]
  },
  {
   "cell_type": "code",
   "execution_count": null,
   "metadata": {},
   "outputs": [],
   "source": [
    "a.real"
   ]
  },
  {
   "cell_type": "code",
   "execution_count": null,
   "metadata": {},
   "outputs": [],
   "source": [
    "a.imag"
   ]
  },
  {
   "cell_type": "markdown",
   "metadata": {
    "slideshow": {
     "slide_type": "subslide"
    }
   },
   "source": [
    "但是仅仅声明了类型还远远不够，我们还需要对复数定义复数运算，方便起见我们这里仅重载 `*` 算符：\n",
    "\n",
    "$$\n",
    "(a + b \\cdot i) (c + d \\cdot i) = (ac - bd) + (ad + bc)i\n",
    "$$\n",
    "\n",
    "\n",
    "首先我们需要将要重载的东西从 `Base` 模块中拿出来（而不是自己声明一个新的，为什么？留给大家之后思考），在Julia里，**运算符** 只是一种特殊的函数，并不会被特别对待"
   ]
  },
  {
   "cell_type": "code",
   "execution_count": null,
   "metadata": {},
   "outputs": [],
   "source": [
    "import Base: *\n",
    "\n",
    "*(a::MyComplex, b::MyComplex) = MyComplex(a.real * b.real - a.imag * b.imag, a.real * b.imag + a.imag * b.real)"
   ]
  },
  {
   "cell_type": "code",
   "execution_count": null,
   "metadata": {},
   "outputs": [],
   "source": [
    "b = MyComplex(1.0, 3.0)\n",
    "\n",
    "a * b"
   ]
  },
  {
   "cell_type": "markdown",
   "metadata": {
    "slideshow": {
     "slide_type": "subslide"
    }
   },
   "source": [
    "现在输出不是很好看，我们重载一下 `show` 方法把默认打印出来的字符串修改一下，这里字符串里的 `$` 是字符串插入，可以将一个Julia表达式的输出转换为字符串（ `String` 类型）然后插入到字符串里。"
   ]
  },
  {
   "cell_type": "code",
   "execution_count": null,
   "metadata": {},
   "outputs": [],
   "source": [
    "import Base: show\n",
    "\n",
    "show(io::IO, ::MIME\"text/plain\", x::MyComplex) = print(io, \"$(x.real) + $(x.imag)im\")"
   ]
  },
  {
   "cell_type": "code",
   "execution_count": null,
   "metadata": {},
   "outputs": [],
   "source": [
    "a * b"
   ]
  },
  {
   "cell_type": "markdown",
   "metadata": {
    "slideshow": {
     "slide_type": "subslide"
    }
   },
   "source": [
    "## 任意精度的复数类型\n",
    "\n",
    "我们已经有了一个简单的复数类型，但是实际上真正在用的时候，我们可能会需要不同精度的复数类型，例如使用 `32`位浮点精度的复数类型。为了能够使用不同的复数类型，我们需要使用参数类型，而复数的实部和虚部都是实数，我们还需要限制其类型范围"
   ]
  },
  {
   "cell_type": "code",
   "execution_count": null,
   "metadata": {},
   "outputs": [],
   "source": [
    "struct MyComplex2{T <: Real}\n",
    "    real::T\n",
    "    imag::T\n",
    "end"
   ]
  },
  {
   "cell_type": "markdown",
   "metadata": {},
   "source": [
    "参数类型也有默认的构造函数"
   ]
  },
  {
   "cell_type": "code",
   "execution_count": null,
   "metadata": {},
   "outputs": [],
   "source": [
    "MyComplex2{Float32}(1.0f0, 2.0f0)"
   ]
  },
  {
   "cell_type": "markdown",
   "metadata": {
    "slideshow": {
     "slide_type": "subslide"
    }
   },
   "source": [
    "但是实际上你还可以定义一些自己的构造函数，在 Julia 里因为是没有 `class` 的，除了 **构造函数** 以外的方法都不能写在类型声明内部。而一旦你在类型声明中声明了一个自己的构造函数，**默认的构造将被覆盖**。比如试试下面这个例子"
   ]
  },
  {
   "cell_type": "code",
   "execution_count": null,
   "metadata": {
    "slideshow": {
     "slide_type": "-"
    }
   },
   "outputs": [],
   "source": [
    "struct MyComplex3{T <: Real}\n",
    "    real::T\n",
    "    imag::T\n",
    "\n",
    "    MyComplex3(real::T) where {T <: Real} = new{T}(real, 0)\n",
    "end\n",
    "\n",
    "MyComplex3(1.0)"
   ]
  },
  {
   "cell_type": "markdown",
   "metadata": {
    "slideshow": {
     "slide_type": "subslide"
    }
   },
   "source": [
    "### 什么时候用内部构造函数，什么时候用外部构造函数？\n",
    "\n",
    "内部构造函数往往是为了在生成这个实例前做一些预处理（例如判断输入变量是否符合要求等）更详细的例子请参见文档：[英文](https://docs.julialang.org/en/latest/manual/constructors/)\n"
   ]
  },
  {
   "cell_type": "markdown",
   "metadata": {
    "slideshow": {
     "slide_type": "slide"
    }
   },
   "source": [
    "## 多重派发和Julia的面向对象\n",
    "\n",
    "Julia语言是没有 `class` 的，但这并不意味着 Julia 无法面向对象，Julia对象的方法（method）通过 **多重派发** 和 **类型树** 进行分配，而不依赖于 `class` 这种结构。"
   ]
  },
  {
   "cell_type": "markdown",
   "metadata": {
    "slideshow": {
     "slide_type": "-"
    }
   },
   "source": [
    "想了解什么是多重派发，我们要先从**单重派发（single dispatch）** 说起，大部分支持 `class` 的语言都是单重派发，我们用`C++`举例：\n",
    "\n",
    "```C++\n",
    "#include <iostream>\n",
    "\n",
    "struct A {};\n",
    "struct B : public A {};\n",
    "\n",
    "class Foo {\n",
    "public:\n",
    "    virtual void wooo(A *a, A *b) { std::cout << \"A/A\" << std::endl; };\n",
    "    virtual void wooo(A *a, B *b) { std::cout << \"A/B\" << std::endl; };\n",
    "};\n",
    "```"
   ]
  },
  {
   "cell_type": "markdown",
   "metadata": {
    "slideshow": {
     "slide_type": "subslide"
    }
   },
   "source": [
    "```c++\n",
    "void CallMyFn(Foo *p, A *arg1, A *arg2) {\n",
    "    p->wooo(arg1, arg2);\n",
    "}\n",
    "\n",
    "int main(int argc, char const *argv[]) {\n",
    "    Foo *f = new Foo();\n",
    "    A *a = new A(); B *b = new B();\n",
    "    CallMyFn(f, a, b);\n",
    "    return 0;\n",
    "}\n",
    "```"
   ]
  },
  {
   "cell_type": "markdown",
   "metadata": {
    "slideshow": {
     "slide_type": "subslide"
    }
   },
   "source": [
    "运行上面的 `C++` 代码将会得到\n",
    "\n",
    "```sh\n",
    "A/A\n",
    "```\n",
    "\n",
    "而我们预期的是\n",
    "\n",
    "```sh\n",
    "A/B\n",
    "```\n",
    "\n",
    "这是因为 `C++` 只支持 Single Dispatch (多重派发在提案中：[Report on language support for Multi-Methods and Open-Methods for C++](http://www.open-std.org/jtc1/sc22/wg21/docs/papers/2007/n2216.pdf))，对于动态类型，编译器只能通过 `class` 名称决定调用的方法，当需要根据参数等信息决定方法的时候就无能为力了。注意，多重派发是一个动态类型的特性，这里 `A`，`B`都是做成了动态类型，于函数重载不同，一些类似于多重派发在 `C++` 中实际上是函数重载，出现歧义（ambiguous）是由于 `C++` 的隐式类型转换。"
   ]
  },
  {
   "cell_type": "markdown",
   "metadata": {
    "slideshow": {
     "slide_type": "subslide"
    }
   },
   "source": [
    "如果你不是很懂 `C++` 也没有关系，我再用 `Python` 举个例子，Python 3.4有一个的提案（[PEP 443](https://www.python.org/dev/peps/pep-0443/)）里有一个对单重派发通用函数的提案：\n",
    "\n",
    "```python\n",
    "from functools import singledispatch\n",
    "\n",
    "@singledispatch\n",
    "def fun(arg, verbose=Falase):\n",
    "    print(arg)\n",
    "    \n",
    "@fun.register(int)\n",
    "def _(arg, verbose=False):\n",
    "    print(arg)\n",
    "```"
   ]
  },
  {
   "cell_type": "markdown",
   "metadata": {
    "slideshow": {
     "slide_type": "subslide"
    }
   },
   "source": [
    "## 总结一下\n",
    "\n",
    "单派发，**Single Dispatch** ，是说只按照一种类型进行派发，例如在 `C++` 的例子里，只按照所调用的 `Foo` 来派发动态类型，于是遇到方法里面重载了两种不同动态类型时，编译器不会报错，但是会调用 `A/A`。亦或者是PEP443里，会按照第一个参数的类型进行派发。"
   ]
  },
  {
   "cell_type": "markdown",
   "metadata": {
    "slideshow": {
     "slide_type": "subslide"
    }
   },
   "source": [
    "## 多重派发\n",
    "\n",
    "顾名思义，就是会根据所有的参数来进行派发。例如让我们在Julia里重新实现 `C++` 里的例子，注意由于 Julia 没有继承，我们在这里用抽象类型代替。Julia会匹配参数类型最符合的方法，然后调用。在Julia里，由于Julia本身是动态语言，函数的重载（overload）与多重派发是一个意思，但是实际上Julia的派发会发生在运行时和编译时，而这在很少的情况下有可能影响性能。"
   ]
  },
  {
   "cell_type": "code",
   "execution_count": null,
   "metadata": {},
   "outputs": [],
   "source": [
    "abstract type TypeA end\n",
    "\n",
    "struct TypeB <: TypeA end\n",
    "struct TypeC <: TypeA end\n",
    "\n",
    "wooo(a1::TypeA, a2::TypeA) = println(\"A/A\")\n",
    "wooo(a::TypeA, b::TypeB) = println(\"A/B\")\n",
    "\n",
    "callme(a1::TypeA, a2::TypeA) = wooo(a1, a2)\n",
    "\n",
    "b = TypeB(); c = TypeC();\n",
    "callme(c, b)"
   ]
  },
  {
   "cell_type": "markdown",
   "metadata": {
    "slideshow": {
     "slide_type": "subslide"
    }
   },
   "source": [
    "## 类型系统\n",
    "\n",
    "Julia的类型主要分为抽象类型（Abstract Type）和实体类型（Concrete Type），实体类型主要分为可变类型（Mutable Type）和不可变类型（Immutable Type）"
   ]
  },
  {
   "cell_type": "code",
   "execution_count": null,
   "metadata": {},
   "outputs": [],
   "source": [
    "abstract type AbstractType end\n",
    "\n",
    "struct ImmutableType <: AbstractType\n",
    "end\n",
    "\n",
    "mutable struct MutableType <: AbstractType\n",
    "end"
   ]
  },
  {
   "cell_type": "markdown",
   "metadata": {
    "slideshow": {
     "slide_type": "subslide"
    }
   },
   "source": [
    "一个抽象类型的所有子类型会构成一颗树，其中实体类型一定在树的叶子结点"
   ]
  },
  {
   "cell_type": "code",
   "execution_count": null,
   "metadata": {},
   "outputs": [],
   "source": [
    "using InteractiveUtils\n",
    "\n",
    "function view_tree(T, depth=0)\n",
    "    println(\"  \"^depth, T)\n",
    "    for each in subtypes(T)\n",
    "        view_tree(each, depth+1)\n",
    "    end\n",
    "end\n",
    "\n",
    "view_tree(AbstractType)"
   ]
  },
  {
   "cell_type": "markdown",
   "metadata": {
    "slideshow": {
     "slide_type": "subslide"
    }
   },
   "source": [
    "再看一个复杂一些的例子："
   ]
  },
  {
   "cell_type": "code",
   "execution_count": null,
   "metadata": {},
   "outputs": [],
   "source": [
    "abstract type AbstractAnimal end\n",
    "\n",
    "abstract type AbstractBird <: AbstractAnimal end\n",
    "abstract type AbstractDog <: AbstractAnimal end\n",
    "abstract type AbstractCat <: AbstractAnimal end\n",
    "\n",
    "struct Sparrow <: AbstractBird end\n",
    "struct Kitty <: AbstractCat end\n",
    "struct Snoope <: AbstractDog end\n",
    "\n",
    "view_tree(AbstractAnimal)"
   ]
  },
  {
   "cell_type": "markdown",
   "metadata": {
    "slideshow": {
     "slide_type": "subslide"
    }
   },
   "source": [
    "可以看到，Julia总会匹配类型树里总的来说最靠下的方法"
   ]
  },
  {
   "cell_type": "code",
   "execution_count": null,
   "metadata": {},
   "outputs": [],
   "source": [
    "combine(a::AbstractAnimal, b::AbstractAnimal, c::AbstractAnimal) = \"three animals get together!\" # method 1\n",
    "combine(a::Sparrow, b::AbstractCat, c::AbstractAnimal) = \"a sparrow, a cat and some animal\" # method 2\n",
    "\n",
    "combine(Sparrow(), Kitty(), Sparrow()) # 这个会匹配方法2"
   ]
  },
  {
   "cell_type": "markdown",
   "metadata": {
    "slideshow": {
     "slide_type": "subslide"
    }
   },
   "source": [
    "类型在 Julia 里是非常廉价的，利用多重派发和廉价的类型，我们可以针对数学对象实现更详细的优化，例如对于满足不同性质的矩阵，我们有对它们之间互相乘积的优化方法，我们可以将部分操作作为懒惰求值（Lazy Evaluation）加入运算中，然后再为满足不同性质的矩阵派发精细的优化方法：\n",
    "\n",
    "- 对满足 $A^T A = I$ 的矩阵，如果遇到了自己的转置可以什么都不算\n",
    "- 对满足上三角的矩阵（或者下三角矩阵），在一些矩阵分解等操作的时候可以调用更快的数值方法\n",
    "- 而对于单位矩阵，我们总可以什么都不算\n",
    "\n",
    "实际上Julia在标准库里已经这么做了 （但实际上依然还有更多的特殊矩阵）"
   ]
  },
  {
   "cell_type": "code",
   "execution_count": null,
   "metadata": {},
   "outputs": [],
   "source": [
    "view_tree(AbstractMatrix);"
   ]
  },
  {
   "cell_type": "markdown",
   "metadata": {
    "slideshow": {
     "slide_type": "subslide"
    }
   },
   "source": [
    "## 总结一下\n",
    "\n",
    "Julia有这样的特点：**廉价的类型**和**多重派发**+**类型树**的结构，我们可以**继承类型的行为（behavior）**而不能**继承类型的成员**，而多重派发让所有Julia类型很自然地变成了鸭子类型（Duck Type），我们只要定义好不同的**接口**/**interface**就足以定义类型的行为。\n",
    "\n",
    "实际上由于严格保持了树的结构，Julia也不允许多重继承，这避免了**钻石继承的问题**。\n",
    "\n",
    "需要说明的是，以上仅仅是Julia的特点，它带来了一些好处，也同时带来了一些缺点。限于篇幅暂且不表。"
   ]
  },
  {
   "cell_type": "markdown",
   "metadata": {
    "slideshow": {
     "slide_type": "slide"
    }
   },
   "source": [
    "## 一切都是表达式\n",
    "\n",
    "在Julia里，所有的东西不仅仅可以是**对象**，他们也都是**表达式**，当然**表达式**也是**对象**。也许你一开始还在讨厌Julia的 `end` 不够简洁，但是学了这一部分，你就会发现 `end` 关键字的妙处了。"
   ]
  },
  {
   "cell_type": "markdown",
   "metadata": {
    "slideshow": {
     "slide_type": "subslide"
    }
   },
   "source": [
    "为了理解Julia的元编程，我们首先需要大致了解一下Julia的编译过程\n",
    "\n",
    "![](compile-process.png)"
   ]
  },
  {
   "cell_type": "markdown",
   "metadata": {
    "slideshow": {
     "slide_type": "subslide"
    }
   },
   "source": [
    "### 如何获得Julia的表达式？\n",
    "\n",
    "在Julia里获得表达式的方法被称为引用（quote），可以有两种方法进行引用\n",
    "\n",
    "对于短小的表达式使用 `:( blabla )` 进行引用"
   ]
  },
  {
   "cell_type": "code",
   "execution_count": null,
   "metadata": {},
   "outputs": [],
   "source": [
    "ex = :(a + b)"
   ]
  },
  {
   "cell_type": "markdown",
   "metadata": {},
   "source": [
    "对于大段的表达式，使用 `quote` 关键字进行引用"
   ]
  },
  {
   "cell_type": "code",
   "execution_count": null,
   "metadata": {},
   "outputs": [],
   "source": [
    "quote\n",
    "    a + b\n",
    "    b + c\n",
    "end"
   ]
  },
  {
   "cell_type": "markdown",
   "metadata": {
    "slideshow": {
     "slide_type": "subslide"
    }
   },
   "source": [
    "到了这里你也许已经发现了，实际上任何一部分Julia代码都是表达式，而不同的表达式有不同的 `tag` 而正是因为使用了 `end` 才能够和各种不同的代码块进行匹配。例如实际上函数关键字 `function` 和 `end` 本身定义了一个代码块"
   ]
  },
  {
   "cell_type": "code",
   "execution_count": null,
   "metadata": {},
   "outputs": [],
   "source": [
    "ex = quote\n",
    "    function foo()\n",
    "        println()\n",
    "    end\n",
    "end\n",
    "\n",
    "ex.args"
   ]
  },
  {
   "cell_type": "markdown",
   "metadata": {
    "slideshow": {
     "slide_type": "subslide"
    }
   },
   "source": [
    "所有的表达式都是 `Expr`，`QuoteNode`，`Symbol` 三种类型之一。"
   ]
  },
  {
   "cell_type": "code",
   "execution_count": null,
   "metadata": {},
   "outputs": [],
   "source": [
    "typeof(:(a + b))"
   ]
  },
  {
   "cell_type": "code",
   "execution_count": null,
   "metadata": {},
   "outputs": [],
   "source": [
    "typeof(:(a))"
   ]
  },
  {
   "cell_type": "code",
   "execution_count": null,
   "metadata": {},
   "outputs": [],
   "source": [
    "typeof(:(:(a)))"
   ]
  },
  {
   "cell_type": "markdown",
   "metadata": {
    "slideshow": {
     "slide_type": "subslide"
    }
   },
   "source": [
    "在 Julia 里我们可以使用语言本身的语法来处理 Julia 自己的表达式，这被称为元编程（Meta Programming），那么元编程有什么用呢？\n",
    "\n",
    "- 代码生成，产生更加高效的代码（低抽象的代码）\n",
    "- 预处理表达式，提高代码可读性（例如实现一个DSL）\n",
    "\n",
    "在我开头提到的 **TensorOperations** 之所以比 `numpy` 快，很大的原因是因为作者使用元编程将大部分预处理挪到了编译时期（compile time）然后还顺便支持了数学上的einsum格式，而尽管`numpy.einsum`实际上有不少优化，但是仍然需要跑很多遍for循环。"
   ]
  },
  {
   "cell_type": "code",
   "execution_count": null,
   "metadata": {},
   "outputs": [],
   "source": []
  },
  {
   "cell_type": "markdown",
   "metadata": {
    "slideshow": {
     "slide_type": "slide"
    }
   },
   "source": [
    "## 在Julia里调用Python"
   ]
  },
  {
   "cell_type": "markdown",
   "metadata": {
    "slideshow": {
     "slide_type": "slide"
    }
   },
   "source": [
    "## 编写高性能Julia代码的建议"
   ]
  }
 ],
 "metadata": {
  "celltoolbar": "Slideshow",
  "kernelspec": {
   "display_name": "Julia 0.7.0-beta2",
   "language": "julia",
   "name": "julia-0.7"
  },
  "language_info": {
   "file_extension": ".jl",
   "mimetype": "application/julia",
   "name": "julia",
   "version": "0.7.0"
  }
 },
 "nbformat": 4,
 "nbformat_minor": 2
}
