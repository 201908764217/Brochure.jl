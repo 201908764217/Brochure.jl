{
 "cells": [
  {
   "cell_type": "markdown",
   "metadata": {
    "slideshow": {
     "slide_type": "slide"
    }
   },
   "source": [
    "![Julia](http://104.224.129.42/media/julia-logo.svg)\n",
    "\n",
    "#### 一种科学计算的新尝试"
   ]
  },
  {
   "cell_type": "markdown",
   "metadata": {
    "slideshow": {
     "slide_type": "slide"
    }
   },
   "source": [
    "## 没有银弹\n",
    "\n",
    "**没有银弹: 软件工程的本质性与附属性工作** 是IBM大型机之父 Fred Brooks 所发表的一篇关于软件工程的经典论文。指没有任何一项技术或方法可以使软件工程的生产力在十年内提高十倍。\n",
    "\n",
    "- **Python** 胶水，简单，灵活，生态丰富，好上手，...\n",
    "- **MATLAB** 有大量历史积累，速度足够快，商业软件有充分支持，对矩阵计算支持好...\n",
    "- **Fortran** 速度最快，有大量历史代码，...\n",
    "- **C** 充分接近底层，几乎所有的硬件都支持，语法足够简单（容易制定标准），...\n",
    "- **C++** 有大量工程实践，能够保证低抽象，工具丰富...\n"
   ]
  },
  {
   "cell_type": "markdown",
   "metadata": {
    "slideshow": {
     "slide_type": "subslide"
    }
   },
   "source": [
    "- **Python** 慢，作为胶水需要写大量胶水代码进行封装，...\n",
    "- **MATLAB** 商业软件收费，不够工程化，...\n",
    "- **Fortran** 过于古老，历史遗留问题多，生态不够好，没有包管理器 ...\n",
    "- **C** 语法简单，缺乏足够的抽象能力 ...\n",
    "- **C++** 开发效率低（某种程度上正是因为工具太丰富了），为了兼容有很多的妥协 ...\n"
   ]
  },
  {
   "cell_type": "markdown",
   "metadata": {
    "slideshow": {
     "slide_type": "fragment"
    }
   },
   "source": [
    "## 劣势往往是优势所带来的"
   ]
  },
  {
   "cell_type": "markdown",
   "metadata": {
    "slideshow": {
     "slide_type": "subslide"
    }
   },
   "source": [
    "## 科学计算的问题\n",
    "\n",
    "简单来说是已有的工具对于新出现的问题不够好用，影响了效率。使用 `MATLAB` 难以开发大型的程序库（起初并非一般目的的编程语言），此外作为商业软件需要收费（很多学校和机构也只买了部分功能）。\n",
    "\n",
    "而使用 `Python` 在 `Python` 层面的逻辑过多的时候，会有不能使用例如 `numba` 等特定加速器的情况，而一般的JIT编译器又由于Python本身的简单和动态性变得难以优化，例如 `Pyston`/`PyPy` ，于是需要用 `C/C++/Fortran/Cython` 重写，而后者的开发效率则要低很多。此外，进入了2010年之后，随着计算能力的提高，很多数值任务的计算量和复杂度都提高了，我们的模型越来越复杂，以至于在很多任务里性能是非常关键的，它或许直接决定了一个项目能否进行下去。\n",
    "\n",
    "我们的问题是：是否能在科学计算，这个场景下在 `Python` 和 `C/C++/Fortran` 之间找到一个平衡点？让我们可以用**一种语言**开发和实践想法，在保证Python一般的开发效率的前提下，尽可能地提高性能。"
   ]
  },
  {
   "cell_type": "markdown",
   "metadata": {
    "slideshow": {
     "slide_type": "subslide"
    }
   },
   "source": [
    "### 实践中的需求\n",
    "\n",
    "- 易用性：符合（数学）直觉（intuitive），代码易读，程序整体结构简单\n",
    "- 性能：能够充分榨干计算资源的性能，overhead尽可能的小\n",
    "- 描述能力：具有足够强大的抽象能力，使得代码干净无噪声（能够写出DRY的代码）\n",
    "- 免费开源：如果你的collaborator没有license怎么办？"
   ]
  },
  {
   "cell_type": "markdown",
   "metadata": {
    "slideshow": {
     "slide_type": "slide"
    }
   },
   "source": [
    "## Julia语言的特点"
   ]
  },
  {
   "cell_type": "markdown",
   "metadata": {
    "slideshow": {
     "slide_type": "subslide"
    }
   },
   "source": [
    "## 性能好\n",
    "\n",
    "![](https://plot.ly/~Roger-luo/9.png?share_key=Lf91Q3vXngwR4BCCAxVHa2)"
   ]
  },
  {
   "cell_type": "markdown",
   "metadata": {
    "slideshow": {
     "slide_type": "subslide"
    }
   },
   "source": [
    "## 其它特点\n",
    "\n",
    "- 可读性更好，更贴近数学表达式的代码\n",
    "- 内建的包管理器\n",
    "- 继承自Lisp的宏\n",
    "- 为并行计算和分布式系统设计\n",
    "- 协程：“绿色”的线程\n",
    "- 从语言层面支持的GPU编程：JuliaGPU/CUDAnative\n",
    "\n",
    "详见：[juliacn.com/julialang](http://juliacn.com/julialang/)"
   ]
  },
  {
   "cell_type": "markdown",
   "metadata": {
    "slideshow": {
     "slide_type": "subslide"
    }
   },
   "source": [
    "## 适用于科学计算\n",
    "\n",
    "- 机器学习（内建的GPU编程，无缝调用Python，更快的native代码，etc.）\n",
    "- 数据处理（支持HDF5和DataFrame，CSV等常用数据格式，自带分布式特性）\n",
    "- 仿真模拟（自带多维数组和各类稀疏矩阵）\n",
    "- 数值分析（高性能的代码和方便的并行计算）\n",
    "- etc."
   ]
  },
  {
   "cell_type": "markdown",
   "metadata": {
    "slideshow": {
     "slide_type": "subslide"
    }
   },
   "source": [
    "## 缺点\n",
    "\n",
    "*这只是部分缺点，不存在没有坑的语言，没有坑只是你学的不到位*\n",
    "\n",
    "- 基于JIT，启动有预热时间，不适合小规模，只运行一次的任务（例如shell脚本，这是几乎所有JIT编译器都会有的问题）\n",
    "- 新语言的生态还不够强，不适合 **调库** 党（即便能使用所有Python和大部分R的库）\n",
    "- CLI工具缺乏，不适合在终端（Terminal）开发，需要借助能够热重启（reload）和IDE开发"
   ]
  },
  {
   "cell_type": "markdown",
   "metadata": {
    "slideshow": {
     "slide_type": "subslide"
    }
   },
   "source": [
    "**micro-benchmark** 实际上很难说明问题，Julia官网的benchmark实际上也常常被指出不是按照某种语言特定的方式编写。但是举例而言，如果大家都比矩阵乘法 `gemm` ，没有任何意义，大家都是调 `mkl`/`openBLAS`。对于语言来讲，纯Julia编写的库更加有说服力\n",
    "\n",
    "\n",
    "## 标准库和一些官方支持的库\n",
    "\n",
    "- [StaticArrays.jl](https://github.com/JuliaArrays/StaticArrays.jl) 纯Julia实现的静态数组（更快的小型线性代数计算）\n",
    "- [SparseArrays.jl](https://docs.julialang.org/en/latest/stdlib/SparseArrays/) 纯Julia实现的稀疏矩阵库（一些操作，例如kronecker乘积远超`scipy.sparse`）\n"
   ]
  },
  {
   "cell_type": "markdown",
   "metadata": {
    "slideshow": {
     "slide_type": "subslide"
    }
   },
   "source": [
    "以下是一些纯Julia的实践：\n",
    "\n",
    "## 我们自己的实践\n",
    "\n",
    "用Julia语言实现比同类 `Python` + `C++` 实现更快的量子线路模拟器：[Github/Yao.jl](https://github.com/QuantumBFS/Yao.jl)\n",
    "\n",
    "## 一些其它的实践\n",
    "\n",
    "- [TensorOperations.jl](https://github.com/Jutho/TensorOperations.jl) 比 `numpy.einsum` 快将近十倍的，语法更加自然的张量收缩\n",
    "- [DifferentialEquations.jl](https://github.com/JuliaDiffEq/DifferentialEquations.jl) 性能更好，功能更加强大的偏微分方程求解器\n",
    "- [CUDAnative.jl](https://github.com/JuliaGPU/CUDAnative.jl) 唯一一个在动态语言上支持CUDA编程的工具包\n",
    "- [Knet.jl](https://github.com/denizyuret/Knet.jl) 纯Julia实现的深度学习框架\n",
    "- [Turing.jl](https://github.com/TuringLang/Turing.jl) 纯Julia实现的统计推断语言（DSL）\n",
    "- [JuMP.jl](https://github.com/JuliaOpt/JuMP.jl) 利用Julia实现的优化器DSL（Domain Specific Language）\n"
   ]
  },
  {
   "cell_type": "markdown",
   "metadata": {
    "slideshow": {
     "slide_type": "subslide"
    }
   },
   "source": [
    "延伸阅读：\n",
    "\n",
    "1. [JuliaCon 2018: Why Julia is the most suitable language for science](https://www.youtube.com/watch?v=7y-ahkUsIrY) 科学计算软件开发者谈Julia语言\n",
    "2. [Why numba and cython are not substitutes for Julia](http://www.stochasticlifestyle.com/why-numba-and-cython-are-not-substitutes-for-julia/) 从Julia社区的角度看Numba和cython\n",
    "5. [Github/numba: #3814, Why Julia? Will Python/Numba and Python/Cython lose to Julia?](https://github.com/numba/numba/issues/3814) 从Numba社区的角度看Julia\n",
    "3. [Why Julia work so well](https://ucidatascienceinitiative.github.io/IntroToJulia/Html/WhyJulia) 深入了解多重派发和Julia的类型系统\n",
    "4. [为什么我们要创造Julia](https://julialang.org/blog/2012/02/why-we-created-julia-zh_CN) Julia最初的设想\n",
    "6. [The Julia paper](https://arxiv.org/abs/1209.5145) 介绍了编程语言语义设计和优化的矛盾"
   ]
  },
  {
   "cell_type": "markdown",
   "metadata": {
    "slideshow": {
     "slide_type": "slide"
    }
   },
   "source": [
    "## 如何安装和配置Julia开发环境"
   ]
  },
  {
   "cell_type": "markdown",
   "metadata": {
    "slideshow": {
     "slide_type": "subslide"
    }
   },
   "source": [
    "我推荐直接安装全家桶：Julia Pro：\n",
    "\n",
    "https://shop.juliacomputing.com/Products/juliapro-2-2-2-2-2/\n",
    "\n",
    "像Python一样，Julia可以通过从官网下载编译器安装：\n",
    "\n",
    "https://julialang.org/downloads/\n",
    "\n",
    "但是国内有些地区的速度可能较慢，所以我们也准备了境内的服务器：\n",
    "\n",
    "http://juliacn.com/downloads/\n"
   ]
  },
  {
   "cell_type": "markdown",
   "metadata": {
    "slideshow": {
     "slide_type": "subslide"
    }
   },
   "source": [
    "## 如何获得帮助\n",
    "\n",
    "- 查文档：官方文档（docs.julialang.org），中文文档（在建，juliacn.com）\n",
    "- 搜索：Google 或者 Bing\n",
    "- 论坛：https://discourse.julialang.org （英文）/ https://discourse.juliacn.com (中文)\n",
    "- 知乎：搜索或者提问\n",
    "- QQ群：316628299\n"
   ]
  },
  {
   "cell_type": "markdown",
   "metadata": {
    "slideshow": {
     "slide_type": "subslide"
    }
   },
   "source": [
    "## 安装jupyter notebook\n",
    "\n",
    "我们这次主要使用jupyter notebook来展示Julia。Julia和jupyter都是开源组织NumFocus的项目，所以jupyter实际上来自于：Julia，Python，R的开头。除了jupyter notebook以外，你还可以使用：\n",
    "\n",
    "- 在线的Julia环境：http://juliabox.com \n",
    "- 以及Atom上的Julia插件Juno\n",
    "- Jetbrain平台上的Julia插件：https://plugins.jetbrains.com/plugin/10413-julia （千里冰封）\n",
    "- VS code上的Julia插件\n"
   ]
  },
  {
   "cell_type": "markdown",
   "metadata": {
    "slideshow": {
     "slide_type": "subslide"
    }
   },
   "source": [
    "首先打开你的Julia交互式环境（REPL）：\n",
    "\n",
    "- Linux用户请打开你的命令行，运行Julia的可执行文件：`你的Julia安装路径/julia`\n",
    "- Mac用户请在app里找到Julia然后点击打开，或者如果下载了其它二进制版本的，也请打开命令行运行可执行文件\n",
    "- Windows用户请在桌面/安装目录中找到Julia的快捷方式活着可执行文件，然后双击打开"
   ]
  },
  {
   "cell_type": "markdown",
   "metadata": {
    "slideshow": {
     "slide_type": "subslide"
    }
   },
   "source": [
    "然后按`]`键进入pkg模式：\n",
    "\n",
    "```\n",
    "(v1.0) pkg> add IJulia PyCall\n",
    "```\n",
    "\n",
    "`PyCall`的编译时间可能会比较久，不用着急，如果你之前没有安装过Python（或者Python不在标准路径里）那么它将会自动下载Python。"
   ]
  },
  {
   "cell_type": "markdown",
   "metadata": {
    "slideshow": {
     "slide_type": "subslide"
    }
   },
   "source": [
    "先别着急，在启动notebook之前，我们先了解一下Julia的REPL：\n",
    "\n",
    "![](julia-repl.png)"
   ]
  },
  {
   "cell_type": "markdown",
   "metadata": {
    "slideshow": {
     "slide_type": "subslide"
    }
   },
   "source": [
    "我们可以按 `]` 键进入package模式来安装package\n",
    "\n",
    "<img src=\"https://discourse.juliacn.com/uploads/default/original/1X/01e4b983dccf7311b78afdd76a65f9117411f444.gif\"></img>"
   ]
  },
  {
   "cell_type": "markdown",
   "metadata": {
    "slideshow": {
     "slide_type": "subslide"
    }
   },
   "source": [
    "### 安装这个教程\n",
    "\n",
    "本教程也是一个标准的Julia package，你可以直接通过Julia的包管理器下载（安装）这个教程到本地。**在pkg模式下**输入下面的指令\n",
    "\n",
    "```julia\n",
    "(v1.0) pkg> add https://github.com/Roger-luo/TutorialZH.jl.git\n",
    "```"
   ]
  },
  {
   "cell_type": "markdown",
   "metadata": {
    "slideshow": {
     "slide_type": "subslide"
    }
   },
   "source": [
    "### 安装常用的package\n",
    "\n",
    "有一些常用的package是非常推荐一开始就装好的，这包括以下的package，你可以选择性的安装：\n",
    "\n",
    "- [Revise]() 代码热加载\n",
    "- [Debugger]() 命令行断点和调试工具\n",
    "- [IJulia]() Julia的jupyter notebook启动器 \n",
    "- [PyPlot]() matplotlib的Julia封装，用于绘图\n",
    "- [GR]() 一个基于C的轻量级绘图库\n",
    "\n",
    "本教程会自动安装 **Revise**，**IJulia** 和 **GR**"
   ]
  },
  {
   "cell_type": "markdown",
   "metadata": {
    "slideshow": {
     "slide_type": "subslide"
    }
   },
   "source": [
    "### 养成查阅文档的好习惯\n",
    "\n",
    "Julia官方文档是最权威，也是最标准的参考资料。你甚至可以直接通过阅读文档来学习Julia：\n",
    "\n",
    "- 中文文档：[docs.juliacn.com](https://docs.juliacn.com)\n",
    "- 英文文档：[docs.julialang.org](https://docs.julialang.org)\n",
    "\n",
    "文档的左手边可以进行搜索"
   ]
  },
  {
   "cell_type": "markdown",
   "metadata": {
    "slideshow": {
     "slide_type": "subslide"
    }
   },
   "source": [
    "如果对什么有疑问，可以按`?`进入 `help` （帮助）模式来查看文档：\n",
    "\n",
    "```\n",
    "help?> julia\n",
    "search:\n",
    "\n",
    "  Welcome to Julia 0.7.0-beta2.33. The full manual is available at\n",
    "\n",
    "  https://docs.julialang.org/\n",
    "\n",
    "  as well as many great tutorials and learning resources:\n",
    "\n",
    "  https://julialang.org/learning/\n",
    "\n",
    "  For help on a specific function or macro, type ? followed by its name, e.g. ?cos, or\n",
    "  ?@time, and press enter.\n",
    "```"
   ]
  },
  {
   "cell_type": "markdown",
   "metadata": {
    "slideshow": {
     "slide_type": "subslide"
    }
   },
   "source": [
    "如果需要临时进入shell进行操作，按 `;` 可以进入 `shell` 模式：\n",
    "\n",
    "```julia\n",
    "shell> ls\n",
    "Applications\tDocuments\tLibrary\t\tMusic\t\tPublic\n",
    "Desktop\t\tDownloads\tMovies\t\tPictures\ttest.jl\n",
    "```"
   ]
  },
  {
   "cell_type": "markdown",
   "metadata": {
    "slideshow": {
     "slide_type": "subslide"
    }
   },
   "source": [
    "顺便一提，你还可以通过重载 `REPL` 模块里的方法创建个性的交互式界面，比如 `OhMyREPL`\n",
    "\n",
    "![oh-my-repl](https://camo.githubusercontent.com/3cc1b639c8e0c129b419bb4727266cb56432241e/68747470733a2f2f692e696d6775722e636f6d2f777452304153442e706e67)"
   ]
  },
  {
   "cell_type": "markdown",
   "metadata": {
    "slideshow": {
     "slide_type": "subslide"
    }
   },
   "source": [
    "### 运行这个教程的示例程序\n",
    "\n",
    "这个教程使用jupyter notebook编写，你可以在安装TutorialZH以后通过在REPL中输入\n",
    "\n",
    "```julia\n",
    "julia> using TutorialZH\n",
    "\n",
    "julia> tutorial()\n",
    "```\n",
    "\n",
    "来打开这个notebook。"
   ]
  },
  {
   "cell_type": "markdown",
   "metadata": {
    "slideshow": {
     "slide_type": "slide"
    }
   },
   "source": [
    "## 本次教程的目标\n",
    "\n",
    "- 学会基本的语法（变量，控制流）\n",
    "- 了解开发Julia的工具\n",
    "- 了解一些常用的包和工具\n",
    "- 了解宏和Julia编译器\n",
    "- 了解如何编写高性能的Julia代码\n"
   ]
  },
  {
   "cell_type": "markdown",
   "metadata": {
    "slideshow": {
     "slide_type": "slide"
    }
   },
   "source": [
    "## 基本语法\n",
    "\n",
    "这一部分我们将简单地学习Julia的语法，包括它的字符串，变量，控制流还有函数的声明。"
   ]
  },
  {
   "cell_type": "markdown",
   "metadata": {
    "slideshow": {
     "slide_type": "subslide"
    }
   },
   "source": [
    "### Hello World\n",
    "\n",
    "打印一个字符串非常简单，在Julia里类似于C语言，字符串使用双引号，而字符使用单引号。"
   ]
  },
  {
   "cell_type": "code",
   "execution_count": 1,
   "metadata": {
    "slideshow": {
     "slide_type": "fragment"
    }
   },
   "outputs": [
    {
     "name": "stdout",
     "output_type": "stream",
     "text": [
      "Hello World!\n"
     ]
    }
   ],
   "source": [
    "println(\"Hello World!\")"
   ]
  },
  {
   "cell_type": "code",
   "execution_count": 2,
   "metadata": {
    "slideshow": {
     "slide_type": "fragment"
    }
   },
   "outputs": [
    {
     "name": "stdout",
     "output_type": "stream",
     "text": [
      "\"Hello World!\" = \"Hello World!\"\n"
     ]
    },
    {
     "data": {
      "text/plain": [
       "\"Hello World!\""
      ]
     },
     "execution_count": 2,
     "metadata": {},
     "output_type": "execute_result"
    }
   ],
   "source": [
    "@show \"Hello World!\""
   ]
  },
  {
   "cell_type": "markdown",
   "metadata": {
    "slideshow": {
     "slide_type": "subslide"
    }
   },
   "source": [
    "### 变量\n",
    "\n",
    "你也可以绑定一个变量"
   ]
  },
  {
   "cell_type": "code",
   "execution_count": 3,
   "metadata": {
    "slideshow": {
     "slide_type": "fragment"
    }
   },
   "outputs": [
    {
     "data": {
      "text/plain": [
       "\"Hello World\""
      ]
     },
     "execution_count": 3,
     "metadata": {},
     "output_type": "execute_result"
    }
   ],
   "source": [
    "x = \"Hello World\""
   ]
  },
  {
   "cell_type": "markdown",
   "metadata": {
    "slideshow": {
     "slide_type": "fragment"
    }
   },
   "source": [
    "变量名称不仅仅可以是ASCII字符，也可以是其它的Unicode字符，甚至是中文"
   ]
  },
  {
   "cell_type": "code",
   "execution_count": 4,
   "metadata": {
    "slideshow": {
     "slide_type": "fragment"
    }
   },
   "outputs": [
    {
     "data": {
      "text/plain": [
       "\"Hello!\""
      ]
     },
     "execution_count": 4,
     "metadata": {},
     "output_type": "execute_result"
    }
   ],
   "source": [
    "你好 = \"Hello!\"\n",
    "你好"
   ]
  },
  {
   "cell_type": "markdown",
   "metadata": {
    "slideshow": {
     "slide_type": "subslide"
    }
   },
   "source": [
    "还可以是Emoji，输入 `\\:smile` 然后再按 `tab`"
   ]
  },
  {
   "cell_type": "code",
   "execution_count": 5,
   "metadata": {
    "slideshow": {
     "slide_type": "fragment"
    }
   },
   "outputs": [
    {
     "data": {
      "text/plain": [
       "\"smile\""
      ]
     },
     "execution_count": 5,
     "metadata": {},
     "output_type": "execute_result"
    }
   ],
   "source": [
    "😄 = \"smile\""
   ]
  },
  {
   "cell_type": "markdown",
   "metadata": {
    "slideshow": {
     "slide_type": "fragment"
    }
   },
   "source": [
    "还可以利用LaTeX来输入特别的数学符号，在notebook或者REPL里输入 `\\` + `epsilon` 按 `tab` 键"
   ]
  },
  {
   "cell_type": "code",
   "execution_count": 6,
   "metadata": {
    "slideshow": {
     "slide_type": "fragment"
    }
   },
   "outputs": [
    {
     "data": {
      "text/plain": [
       "2.2"
      ]
     },
     "execution_count": 6,
     "metadata": {},
     "output_type": "execute_result"
    }
   ],
   "source": [
    "ϵ = 2.2"
   ]
  },
  {
   "cell_type": "markdown",
   "metadata": {
    "slideshow": {
     "slide_type": "fragment"
    }
   },
   "source": [
    "Julia还利用了LLVM的一些常数（无限精度）："
   ]
  },
  {
   "cell_type": "code",
   "execution_count": 7,
   "metadata": {
    "slideshow": {
     "slide_type": "fragment"
    }
   },
   "outputs": [
    {
     "data": {
      "text/plain": [
       "π = 3.1415926535897..."
      ]
     },
     "execution_count": 7,
     "metadata": {},
     "output_type": "execute_result"
    }
   ],
   "source": [
    "π"
   ]
  },
  {
   "cell_type": "markdown",
   "metadata": {
    "slideshow": {
     "slide_type": "subslide"
    }
   },
   "source": [
    "## 任务一：对数组求和\n",
    "\n",
    "我们定义一个求和函数 `sum(a)`，它会计算\n",
    "$$\n",
    "\\mathrm{sum}(a) = \\sum_{i=1}^n a_i,\n",
    "$$\n",
    "这里 $n$ 是 `a` 的长度。"
   ]
  },
  {
   "cell_type": "markdown",
   "metadata": {
    "slideshow": {
     "slide_type": "subslide"
    }
   },
   "source": [
    "#### 首先，我们来创建一个数组（Array）\n",
    "\n",
    "下面这行代码创建了一个随机矩阵（二维数组），然后将它绑定到名字为 `A` 的变量上去"
   ]
  },
  {
   "cell_type": "code",
   "execution_count": 8,
   "metadata": {
    "slideshow": {
     "slide_type": "fragment"
    }
   },
   "outputs": [
    {
     "data": {
      "text/plain": [
       "10×10 Array{Float64,2}:\n",
       " 0.306353  0.705611   0.690511   0.162836  …  0.67547    0.0236994  0.130676 \n",
       " 0.980274  0.548541   0.88613    0.954211     0.706791   0.3126     0.612143 \n",
       " 0.970238  0.375384   0.573854   0.246364     0.853297   0.603992   0.0405729\n",
       " 0.309581  0.471756   0.0635857  0.532025     0.895417   0.555255   0.145271 \n",
       " 0.333782  0.971056   0.988635   0.876698     0.162753   0.104283   0.803232 \n",
       " 0.378345  0.0160126  0.599115   0.298105  …  0.718648   0.800233   0.376256 \n",
       " 0.868365  0.888003   0.974723   0.576744     0.583315   0.0320234  0.0104292\n",
       " 0.191297  0.394701   0.093314   0.975909     0.383071   0.466239   0.0353525\n",
       " 0.685256  0.797699   0.545098   0.577594     0.0983902  0.746272   0.458692 \n",
       " 0.609426  0.0695333  0.403478   0.832357     0.205592   0.113325   0.696338 "
      ]
     },
     "execution_count": 8,
     "metadata": {},
     "output_type": "execute_result"
    }
   ],
   "source": [
    "A = rand(10, 10)"
   ]
  },
  {
   "cell_type": "markdown",
   "metadata": {
    "slideshow": {
     "slide_type": "subslide"
    }
   },
   "source": [
    "变量（Variable）：某个值的名字，以方便你保存这个值供后面使用。"
   ]
  },
  {
   "cell_type": "markdown",
   "metadata": {
    "slideshow": {
     "slide_type": "subslide"
    }
   },
   "source": [
    "如何创建一个随机向量（一维数组）？"
   ]
  },
  {
   "cell_type": "code",
   "execution_count": 9,
   "metadata": {
    "slideshow": {
     "slide_type": "fragment"
    }
   },
   "outputs": [
    {
     "data": {
      "text/plain": [
       "10-element Array{Float64,1}:\n",
       " 0.5046176465873373 \n",
       " 0.686280492609177  \n",
       " 0.00883023080236911\n",
       " 0.3393977955457379 \n",
       " 0.37235334019266575\n",
       " 0.3604810116117827 \n",
       " 0.5884644569401396 \n",
       " 0.7653118933890426 \n",
       " 0.7481748732825357 \n",
       " 0.44608560248685203"
      ]
     },
     "execution_count": 9,
     "metadata": {},
     "output_type": "execute_result"
    }
   ],
   "source": [
    "A = rand(10)"
   ]
  },
  {
   "cell_type": "markdown",
   "metadata": {
    "slideshow": {
     "slide_type": "subslide"
    }
   },
   "source": [
    "参考资料：\n",
    "\n",
    "- [Multidimensional Array](https://docs.julialang.org/en/v1/manual/arrays/)\n",
    "- [中文文档：多维数组](https://docs.juliacn.com/latest/manual/arrays/)"
   ]
  },
  {
   "cell_type": "markdown",
   "metadata": {
    "slideshow": {
     "slide_type": "subslide"
    }
   },
   "source": [
    "### 函数声明\n",
    "\n",
    "在Julia里我们使用 `function` 关键字声明一个函数，例如我们可以这样声明一个 `foo` 函数，它接收一个变量然后把它打印出来\n",
    "\n",
    "```julia\n",
    "function foo(x)\n",
    "    println(x)\n",
    "end\n",
    "```"
   ]
  },
  {
   "cell_type": "markdown",
   "metadata": {
    "slideshow": {
     "slide_type": "subslide"
    }
   },
   "source": [
    "或者还有更加简介的声明方式，就像我们在数学表达式中定义函数一样\n",
    "\n",
    "```julia\n",
    "foo(x) = println(x)\n",
    "```"
   ]
  },
  {
   "cell_type": "code",
   "execution_count": 10,
   "metadata": {
    "slideshow": {
     "slide_type": "subslide"
    }
   },
   "outputs": [
    {
     "data": {
      "text/plain": [
       "mysum (generic function with 1 method)"
      ]
     },
     "execution_count": 10,
     "metadata": {},
     "output_type": "execute_result"
    }
   ],
   "source": [
    "function mysum(x)\n",
    "    acc = 0\n",
    "    for each in x\n",
    "        acc += each\n",
    "    end\n",
    "    return acc\n",
    "end"
   ]
  },
  {
   "cell_type": "markdown",
   "metadata": {
    "slideshow": {
     "slide_type": "subslide"
    }
   },
   "source": [
    "随机的数组求和不太容易检验，我们就对1到10的整数进行求和来看看结果对不对。如何声明1到10的整数呢？\n",
    "\n",
    "方法一：构造一个都是零的一维数组，然后赋值"
   ]
  },
  {
   "cell_type": "code",
   "execution_count": 11,
   "metadata": {},
   "outputs": [
    {
     "data": {
      "text/plain": [
       "10-element Array{Float64,1}:\n",
       " 0.0\n",
       " 0.0\n",
       " 0.0\n",
       " 0.0\n",
       " 0.0\n",
       " 0.0\n",
       " 0.0\n",
       " 0.0\n",
       " 0.0\n",
       " 0.0"
      ]
     },
     "execution_count": 11,
     "metadata": {},
     "output_type": "execute_result"
    }
   ],
   "source": [
    "V = zeros(10)"
   ]
  },
  {
   "cell_type": "code",
   "execution_count": 12,
   "metadata": {
    "slideshow": {
     "slide_type": "subslide"
    }
   },
   "outputs": [
    {
     "data": {
      "text/plain": [
       "10-element Array{Float64,1}:\n",
       "  1.0\n",
       "  2.0\n",
       "  3.0\n",
       "  4.0\n",
       "  5.0\n",
       "  6.0\n",
       "  7.0\n",
       "  8.0\n",
       "  9.0\n",
       " 10.0"
      ]
     },
     "execution_count": 12,
     "metadata": {},
     "output_type": "execute_result"
    }
   ],
   "source": [
    "for k in 1:10\n",
    "    V[k] = k\n",
    "end\n",
    "\n",
    "V"
   ]
  },
  {
   "cell_type": "markdown",
   "metadata": {},
   "source": [
    "方法二：列表推导（list comprehension）\n",
    "\n",
    "这是Julia的一个语法糖（syntax sugar）可以让你写出更加简洁的代码，是我们鼓励的写法"
   ]
  },
  {
   "cell_type": "code",
   "execution_count": 13,
   "metadata": {},
   "outputs": [
    {
     "data": {
      "text/plain": [
       "10-element Array{Int64,1}:\n",
       "  1\n",
       "  2\n",
       "  3\n",
       "  4\n",
       "  5\n",
       "  6\n",
       "  7\n",
       "  8\n",
       "  9\n",
       " 10"
      ]
     },
     "execution_count": 13,
     "metadata": {},
     "output_type": "execute_result"
    }
   ],
   "source": [
    "V = [k for k in 1:10]"
   ]
  },
  {
   "cell_type": "code",
   "execution_count": 14,
   "metadata": {},
   "outputs": [
    {
     "data": {
      "text/plain": [
       "55"
      ]
     },
     "execution_count": 14,
     "metadata": {},
     "output_type": "execute_result"
    }
   ],
   "source": [
    "mysum(V)"
   ]
  },
  {
   "cell_type": "markdown",
   "metadata": {
    "slideshow": {
     "slide_type": "subslide"
    }
   },
   "source": [
    "对偶数角标求和："
   ]
  },
  {
   "cell_type": "code",
   "execution_count": 15,
   "metadata": {},
   "outputs": [
    {
     "data": {
      "text/plain": [
       "is_even (generic function with 1 method)"
      ]
     },
     "execution_count": 15,
     "metadata": {},
     "output_type": "execute_result"
    }
   ],
   "source": [
    "is_even(x::Int) = x % 2 == 0"
   ]
  },
  {
   "cell_type": "code",
   "execution_count": 16,
   "metadata": {
    "slideshow": {
     "slide_type": "-"
    }
   },
   "outputs": [
    {
     "data": {
      "text/plain": [
       "2.5975567956425922"
      ]
     },
     "execution_count": 16,
     "metadata": {},
     "output_type": "execute_result"
    }
   ],
   "source": [
    "function sum_even(A)\n",
    "    acc = 0.0\n",
    "    for i in eachindex(A)\n",
    "        if is_even(i)\n",
    "            acc += A[i]\n",
    "        end\n",
    "    end\n",
    "    return acc\n",
    "end\n",
    "\n",
    "sum_even(A)"
   ]
  },
  {
   "cell_type": "markdown",
   "metadata": {
    "slideshow": {
     "slide_type": "subslide"
    }
   },
   "source": [
    "所有的Julia对象都有类型，当标注了类型而输入了错误的参数类型时就会报错。"
   ]
  },
  {
   "cell_type": "code",
   "execution_count": 17,
   "metadata": {
    "slideshow": {
     "slide_type": "-"
    }
   },
   "outputs": [
    {
     "ename": "MethodError",
     "evalue": "MethodError: no method matching is_even(::Float64)\nClosest candidates are:\n  is_even(!Matched::Int64) at In[15]:1",
     "output_type": "error",
     "traceback": [
      "MethodError: no method matching is_even(::Float64)\nClosest candidates are:\n  is_even(!Matched::Int64) at In[15]:1",
      "",
      "Stacktrace:",
      " [1] top-level scope at In[17]:1"
     ]
    }
   ],
   "source": [
    "is_even(2.0)"
   ]
  },
  {
   "cell_type": "markdown",
   "metadata": {
    "slideshow": {
     "slide_type": "subslide"
    }
   },
   "source": [
    "最后让我们为 `is_even` 加上文档（文档是 `markdown` 格式，细则请参见文档：[英文](https://docs.julialang.org/en/latest/manual/documentation/)）"
   ]
  },
  {
   "cell_type": "code",
   "execution_count": 18,
   "metadata": {},
   "outputs": [
    {
     "data": {
      "text/plain": [
       "is_even"
      ]
     },
     "execution_count": 18,
     "metadata": {},
     "output_type": "execute_result"
    }
   ],
   "source": [
    "\"\"\"\n",
    "    is_even(x::Int) -> Bool\n",
    "\n",
    "判断一个整数 `x` 是否是偶数\n",
    "\"\"\"\n",
    "is_even"
   ]
  },
  {
   "cell_type": "markdown",
   "metadata": {
    "slideshow": {
     "slide_type": "subslide"
    }
   },
   "source": [
    "用 `@doc` 宏来查看或编辑文档，或者使用帮助模式（help mode）"
   ]
  },
  {
   "cell_type": "code",
   "execution_count": 19,
   "metadata": {},
   "outputs": [
    {
     "name": "stdout",
     "output_type": "stream",
     "text": [
      "search: \u001b[0m\u001b[1mi\u001b[22m\u001b[0m\u001b[1ms\u001b[22m\u001b[0m\u001b[1m_\u001b[22m\u001b[0m\u001b[1me\u001b[22m\u001b[0m\u001b[1mv\u001b[22m\u001b[0m\u001b[1me\u001b[22m\u001b[0m\u001b[1mn\u001b[22m\n",
      "\n"
     ]
    },
    {
     "data": {
      "text/latex": [
       "\\begin{verbatim}\n",
       "is_even(x::Int) -> Bool\n",
       "\\end{verbatim}\n",
       "判断一个整数 \\texttt{x} 是否是偶数\n",
       "\n"
      ],
      "text/markdown": [
       "```\n",
       "is_even(x::Int) -> Bool\n",
       "```\n",
       "\n",
       "判断一个整数 `x` 是否是偶数\n"
      ],
      "text/plain": [
       "  \u001b[38;5;81mis_even\u001b[0m(\u001b[0m\u001b[39mx\u001b[0m\u001b[38;5;81m::\u001b[0m\u001b[38;5;81mInt\u001b[0m\u001b[39m)\u001b[0m \u001b[0m\u001b[38;5;197m->\u001b[0m \u001b[0m\u001b[39mBool\u001b[0m\u001b[39m\u001b[0m\n",
       "\n",
       "\n",
       "  判断一个整数 \u001b[36mx\u001b[39m 是否是偶数"
      ]
     },
     "execution_count": 19,
     "metadata": {},
     "output_type": "execute_result"
    }
   ],
   "source": [
    "?is_even"
   ]
  },
  {
   "cell_type": "markdown",
   "metadata": {
    "slideshow": {
     "slide_type": "subslide"
    }
   },
   "source": [
    "你可能已经从以上打印的信息中注意到，Julia的所有变量都有 **类型（type）**，例如 `A` 这个随机数组是 `Array{Float64, 2}` 类型，意思是说一个二维的，元素类型为 `Float64` 的 `Array` 数组类型。我们往往使用类型来描述一个对象（object），例如\n",
    "\n",
    "比如我们可以这样定义一个车子类型\n",
    "\n",
    "```julia\n",
    "struct Car end\n",
    "```"
   ]
  },
  {
   "cell_type": "markdown",
   "metadata": {
    "slideshow": {
     "slide_type": "subslide"
    }
   },
   "source": [
    "下面我们来实现一个叫 `OneTo` 的类型"
   ]
  },
  {
   "cell_type": "code",
   "execution_count": 20,
   "metadata": {},
   "outputs": [],
   "source": [
    "struct OneTo\n",
    "    stop::Int\n",
    "end"
   ]
  },
  {
   "cell_type": "markdown",
   "metadata": {},
   "source": [
    "使得它传入 `mysum` 以后会从 `1` 加到 `stop`"
   ]
  },
  {
   "cell_type": "markdown",
   "metadata": {
    "slideshow": {
     "slide_type": "subslide"
    }
   },
   "source": [
    "构造一个类型需要实现构造器（constructor），Julia的每个类型都自带一个构造器。我们可以直接这样构造一个 `OneTo` 类型的实例（instance）"
   ]
  },
  {
   "cell_type": "code",
   "execution_count": 21,
   "metadata": {},
   "outputs": [
    {
     "data": {
      "text/plain": [
       "OneTo(10)"
      ]
     },
     "execution_count": 21,
     "metadata": {},
     "output_type": "execute_result"
    }
   ],
   "source": [
    "OneTo(10)"
   ]
  },
  {
   "cell_type": "markdown",
   "metadata": {
    "slideshow": {
     "slide_type": "subslide"
    }
   },
   "source": [
    "而对于这个类型，我们可以直接计算出结果，而不是进行for循环\n",
    "\n",
    "$$\n",
    "\\frac{n (n + 1)}{2}\n",
    "$$"
   ]
  },
  {
   "cell_type": "code",
   "execution_count": 22,
   "metadata": {},
   "outputs": [
    {
     "data": {
      "text/plain": [
       "mysum (generic function with 2 methods)"
      ]
     },
     "execution_count": 22,
     "metadata": {},
     "output_type": "execute_result"
    }
   ],
   "source": [
    "mysum(x::OneTo) = x.stop * (x.stop + 1) ÷ 2"
   ]
  },
  {
   "cell_type": "code",
   "execution_count": 23,
   "metadata": {
    "slideshow": {
     "slide_type": "fragment"
    }
   },
   "outputs": [
    {
     "data": {
      "text/plain": [
       "55"
      ]
     },
     "execution_count": 23,
     "metadata": {},
     "output_type": "execute_result"
    }
   ],
   "source": [
    "mysum(OneTo(10))"
   ]
  },
  {
   "cell_type": "markdown",
   "metadata": {
    "slideshow": {
     "slide_type": "subslide"
    }
   },
   "source": [
    "在Julia里，我们有两个概念：generic function和method，每个函数名字定义了一个generic function，而每一种函数变量类型的组合定义了一个method。Julia会在你定义了一个method之后自动产生这个generic函数，然后给这个generic函数增加一个method。\n",
    "\n",
    "所以当然你可以只声明一个generic函数"
   ]
  },
  {
   "cell_type": "code",
   "execution_count": 24,
   "metadata": {},
   "outputs": [
    {
     "data": {
      "text/plain": [
       "foo (generic function with 0 methods)"
      ]
     },
     "execution_count": 24,
     "metadata": {},
     "output_type": "execute_result"
    }
   ],
   "source": [
    "function foo end"
   ]
  },
  {
   "cell_type": "markdown",
   "metadata": {
    "slideshow": {
     "slide_type": "subslide"
    }
   },
   "source": [
    "我们上面定义的 `mysum` 作为一个generic函数拥有两个method，一个是非常general的用循环求和的实现，另外一个是针对 `OneTo` 的实现，但他们的意义都是一样的。\n",
    "\n",
    "实际上不同于其它编程语言，Julia程序的设计采用所谓的 **面向方法的编程范式（method oriented programming）**，如果你想深入了解面向方法和面向对象的区别，可以阅读：[再谈Julia的编程范式](https://zhuanlan.zhihu.com/p/54957610)"
   ]
  },
  {
   "cell_type": "markdown",
   "metadata": {
    "slideshow": {
     "slide_type": "subslide"
    }
   },
   "source": [
    "但是问题来了，如果有两个实际意义不同但是名字相同的generic函数或者变量，亦或者是类型，如何区分他们呢？例如\n",
    "\n",
    "\n",
    "对于文本文件，可以有 `readfile` 这个函数，但对于图片或者其它文件也可以有 `readfile` 这个函数，但是他们的实际实现是不同的，但输入的类型都是用 `String` 类型表示的地址\n",
    "\n",
    "```julia\n",
    "readfile(\"foo.txt\")\n",
    "```\n",
    "\n",
    "和\n",
    "\n",
    "```julia\n",
    "readfile(\"foo.png\")\n",
    "```"
   ]
  },
  {
   "cell_type": "markdown",
   "metadata": {
    "slideshow": {
     "slide_type": "subslide"
    }
   },
   "source": [
    "Julia提供了模块（module）来进行名字空间的管理，你可以使用 **module** 关键字声明一个模块，上面的例子就可以变成"
   ]
  },
  {
   "cell_type": "code",
   "execution_count": 25,
   "metadata": {},
   "outputs": [
    {
     "data": {
      "text/plain": [
       "Main.PNGFile"
      ]
     },
     "execution_count": 25,
     "metadata": {},
     "output_type": "execute_result"
    }
   ],
   "source": [
    "module PNGFile\n",
    "   function readfile(path::String)\n",
    "      println(\"read a png file\")\n",
    "   end\n",
    "end"
   ]
  },
  {
   "cell_type": "code",
   "execution_count": 26,
   "metadata": {},
   "outputs": [
    {
     "data": {
      "text/plain": [
       "Main.TextFile"
      ]
     },
     "execution_count": 26,
     "metadata": {},
     "output_type": "execute_result"
    }
   ],
   "source": [
    "module TextFile\n",
    "   function readfile(path::String)\n",
    "      println(\"read a text file\")\n",
    "   end\n",
    "end"
   ]
  },
  {
   "cell_type": "markdown",
   "metadata": {
    "slideshow": {
     "slide_type": "subslide"
    }
   },
   "source": [
    "然后你就可以通过点操作符号，来访问不同函数"
   ]
  },
  {
   "cell_type": "code",
   "execution_count": 27,
   "metadata": {},
   "outputs": [
    {
     "name": "stdout",
     "output_type": "stream",
     "text": [
      "read a text file\n"
     ]
    }
   ],
   "source": [
    "TextFile.readfile(\"foo.txt\")"
   ]
  },
  {
   "cell_type": "code",
   "execution_count": 28,
   "metadata": {},
   "outputs": [
    {
     "name": "stdout",
     "output_type": "stream",
     "text": [
      "read a png file\n"
     ]
    }
   ],
   "source": [
    "PNGFile.readfile(\"foo.png\")"
   ]
  },
  {
   "cell_type": "markdown",
   "metadata": {
    "slideshow": {
     "slide_type": "subslide"
    }
   },
   "source": [
    "实际上所有的Julia程序都是在一个模块里。默认Julia代码存在于 `Main` 模块中，你可以通过 `@__MODULE__` 来获得当前的module"
   ]
  },
  {
   "cell_type": "code",
   "execution_count": 29,
   "metadata": {},
   "outputs": [
    {
     "data": {
      "text/plain": [
       "Main"
      ]
     },
     "execution_count": 29,
     "metadata": {},
     "output_type": "execute_result"
    }
   ],
   "source": [
    "@__MODULE__"
   ]
  },
  {
   "cell_type": "markdown",
   "metadata": {
    "slideshow": {
     "slide_type": "subslide"
    }
   },
   "source": [
    "有时候当我们确认命名没有冲突，或者只需要其中一个函数的时候。每次都写全模块全称很麻烦，所以我们可以使用 `import` 来导入一个模块的名称，例如\n",
    "\n",
    "```julia\n",
    "import TextFile: readfile\n",
    "```\n",
    "\n",
    "或者我们可以在模块内部标记默认会导出的命名"
   ]
  },
  {
   "cell_type": "code",
   "execution_count": 30,
   "metadata": {},
   "outputs": [
    {
     "name": "stderr",
     "output_type": "stream",
     "text": [
      "WARNING: replacing module TextFile.\n",
      "WARNING: replacing module PNGFile.\n"
     ]
    },
    {
     "data": {
      "text/plain": [
       "Main.PNGFile"
      ]
     },
     "execution_count": 30,
     "metadata": {},
     "output_type": "execute_result"
    }
   ],
   "source": [
    "module TextFile\n",
    "    export readfile\n",
    "    function readfile(path::String)\n",
    "      println(\"read a text file\")\n",
    "   end\n",
    "end\n",
    "\n",
    "module PNGFile\n",
    "   export readfile\n",
    "   function readfile(path::String)\n",
    "      println(\"read a png file\")\n",
    "   end\n",
    "end"
   ]
  },
  {
   "cell_type": "code",
   "execution_count": 31,
   "metadata": {
    "slideshow": {
     "slide_type": "subslide"
    }
   },
   "outputs": [
    {
     "name": "stdout",
     "output_type": "stream",
     "text": [
      "read a text file\n"
     ]
    }
   ],
   "source": [
    "using .TextFile\n",
    "readfile(\"foo.txt\")"
   ]
  },
  {
   "cell_type": "markdown",
   "metadata": {},
   "source": [
    "这里 `.` 用于标记路径为当前module中的相对路径，它等价于 `using Main.TextFile` "
   ]
  },
  {
   "cell_type": "markdown",
   "metadata": {
    "slideshow": {
     "slide_type": "subslide"
    }
   },
   "source": [
    "在编程语言中，我们常见的一个概念是作用域（scope），它决定了一个变量的可见区域。在Julia里作用域的结束一般使用 `end` 标记，开始由不同的关键字标记（ **function**, **begin**, **quote** 等等）\n",
    "\n",
    "总体而言，Julia有两种作用域：\n",
    "\n",
    "- 全局作用域（global scope）\n",
    "- 局部作用域（local scope）"
   ]
  },
  {
   "cell_type": "markdown",
   "metadata": {
    "slideshow": {
     "slide_type": "subslide"
    }
   },
   "source": [
    "局部作用域可以互相嵌套，子作用域会继承父作用域的变量名，例如我们上面的 `mysum`\n",
    "\n",
    "```julia\n",
    "function mysum(x)\n",
    "    s = 0\n",
    "    for each in x\n",
    "        s += each\n",
    "    end\n",
    "    return s\n",
    "end\n",
    "```\n",
    "\n",
    "函数作用域和for循环中的作用域都是局部作用域，所以for循环会继承函数的作用域，使得我们可以在for循环中对s进行累加。"
   ]
  },
  {
   "cell_type": "markdown",
   "metadata": {
    "slideshow": {
     "slide_type": "subslide"
    }
   },
   "source": [
    "但，全局作用域不会被局部作用域继承，例如"
   ]
  },
  {
   "cell_type": "code",
   "execution_count": 32,
   "metadata": {},
   "outputs": [
    {
     "ename": "UndefVarError",
     "evalue": "UndefVarError: a not defined",
     "output_type": "error",
     "traceback": [
      "UndefVarError: a not defined",
      "",
      "Stacktrace:",
      " [1] foo() at ./In[32]:4",
      " [2] top-level scope at In[32]:7"
     ]
    }
   ],
   "source": [
    "a = 2\n",
    "\n",
    "function foo()\n",
    "    a += a + 1\n",
    "    return a\n",
    "end\n",
    "\n",
    "foo()"
   ]
  },
  {
   "cell_type": "markdown",
   "metadata": {
    "slideshow": {
     "slide_type": "slide"
    }
   },
   "source": [
    "## 随机行走\n",
    "\n",
    "**随机行走** （Random Walk）是在 **物理**，**金融**，**化学**，**生物** 等领域都会遇到的基本问题，我们这里将模拟最简单的一种：随机在一维坐标下行走。通过这个例子我们来了解基本的Julia程序编写过程。"
   ]
  },
  {
   "cell_type": "code",
   "execution_count": 33,
   "metadata": {
    "slideshow": {
     "slide_type": "subslide"
    }
   },
   "outputs": [
    {
     "data": {
      "text/plain": [
       "walk"
      ]
     },
     "execution_count": 33,
     "metadata": {},
     "output_type": "execute_result"
    }
   ],
   "source": [
    "\"\"\"\n",
    "    walk(t) -> trajectory\n",
    "\n",
    "模拟随机行走\n",
    "\"\"\"\n",
    "function walk(t)\n",
    "    x = 0 # 初始位置\n",
    "    trajectory = [x] # 初始化轨迹\n",
    "    \n",
    "    for t in 1:t\n",
    "        if rand() < 0.5\n",
    "            x += 1\n",
    "        else\n",
    "            x -= 1\n",
    "        end\n",
    "        push!(trajectory, x)\n",
    "    end\n",
    "    return trajectory\n",
    "end"
   ]
  },
  {
   "cell_type": "code",
   "execution_count": 34,
   "metadata": {
    "slideshow": {
     "slide_type": "subslide"
    }
   },
   "outputs": [
    {
     "name": "stdout",
     "output_type": "stream",
     "text": [
      "search: \u001b[0m\u001b[1mw\u001b[22m\u001b[0m\u001b[1ma\u001b[22m\u001b[0m\u001b[1ml\u001b[22m\u001b[0m\u001b[1mk\u001b[22m \u001b[0m\u001b[1mw\u001b[22m\u001b[0m\u001b[1ma\u001b[22m\u001b[0m\u001b[1ml\u001b[22m\u001b[0m\u001b[1mk\u001b[22mdir sho\u001b[0m\u001b[1mw\u001b[22m\u001b[0m\u001b[1ma\u001b[22mb\u001b[0m\u001b[1ml\u001b[22me is\u001b[0m\u001b[1mw\u001b[22mrit\u001b[0m\u001b[1ma\u001b[22mb\u001b[0m\u001b[1ml\u001b[22me\n",
      "\n"
     ]
    },
    {
     "data": {
      "text/latex": [
       "\\begin{verbatim}\n",
       "walk(t) -> trajectory\n",
       "\\end{verbatim}\n",
       "模拟随机行走\n",
       "\n"
      ],
      "text/markdown": [
       "```\n",
       "walk(t) -> trajectory\n",
       "```\n",
       "\n",
       "模拟随机行走\n"
      ],
      "text/plain": [
       "  \u001b[38;5;81mwalk\u001b[0m(\u001b[0m\u001b[39mt\u001b[0m\u001b[39m)\u001b[0m \u001b[0m\u001b[38;5;197m->\u001b[0m \u001b[0m\u001b[39mtrajectory\u001b[0m\u001b[39m\u001b[0m\n",
       "\n",
       "\n",
       "  模拟随机行走"
      ]
     },
     "execution_count": 34,
     "metadata": {},
     "output_type": "execute_result"
    }
   ],
   "source": [
    "?walk"
   ]
  },
  {
   "cell_type": "markdown",
   "metadata": {
    "slideshow": {
     "slide_type": "subslide"
    }
   },
   "source": [
    "### 可视化\n",
    "\n",
    "Julia有很多绘图库，这里我推荐 `GR` 模块，它的速度飞快，如果只是简单的绘图，使用 GR 最方便。当然你也可以使用官方推荐的 `Plots` 模块，它是一个提供了多种后端的绘图库。"
   ]
  },
  {
   "cell_type": "code",
   "execution_count": 35,
   "metadata": {},
   "outputs": [
    {
     "name": "stderr",
     "output_type": "stream",
     "text": [
      "┌ Info: Recompiling stale cache file /Users/roger/.julia/compiled/v1.1/Interact/XmYW4.ji for Interact [c601a237-2ae4-5e1e-952c-7a85b0c7eef1]\n",
      "└ @ Base loading.jl:1184\n"
     ]
    },
    {
     "data": {
      "text/html": [
       "<script>\n",
       "// Immediately-invoked-function-expression to avoid global variables.\n",
       "(function() {\n",
       "    var warning_div = document.getElementById(\"webio-warning-13805496773359067276\");\n",
       "    var hide = function () {\n",
       "        var script = document.getElementById(\"webio-setup-2344970141879211649\");\n",
       "        var parent = script && script.parentElement;\n",
       "        var grandparent = parent && parent.parentElement;\n",
       "        if (grandparent) {\n",
       "            grandparent.style.display = \"none\";\n",
       "        }\n",
       "        warning_div.style.display = \"none\";\n",
       "    };\n",
       "    if (typeof Jupyter !== \"undefined\") {\n",
       "        console.log(\"WebIO detected Jupyter notebook environment.\");\n",
       "        // Jupyter notebook.\n",
       "        var extensions = (\n",
       "            Jupyter\n",
       "            && Jupyter.notebook.config.data\n",
       "            && Jupyter.notebook.config.data.load_extensions\n",
       "        );\n",
       "        if (extensions && extensions[\"webio/main\"]) {\n",
       "            // Extension already loaded.\n",
       "            console.log(\"Jupyter WebIO nbextension detected; not loading ad-hoc.\");\n",
       "            hide();\n",
       "            return;\n",
       "        }\n",
       "        console.warn(\"Loading WebIO Jupyter extension on an ad-hoc basis. Consider enabling the WebIO nbextension for a stabler experience (this should happen automatically when building WebIO).\");\n",
       "        require([\"/assetserver/2d0721f8d0c54f2ad4e5202e53a922d6ebb5c6cb-dist/main.js\"], function (webIOModule) {\n",
       "            webIOModule.load_ipython_extension();\n",
       "        });\n",
       "        warning_div.innerHTML = \"<strong>Loading WebIO Jupyter extension on an ad-hoc basis. Consider enabling the WebIO nbextension for a stabler experience (this should happen automatically when building WebIO).</strong>\";\n",
       "    } else if (window.location.pathname.includes(\"/lab\")) {\n",
       "        // Guessing JupyterLa\n",
       "        console.log(\"Jupyter Lab detected; make sure the @webio/jupyter-lab-provider labextension is installed.\");\n",
       "        hide();\n",
       "        return;\n",
       "    }\n",
       "})();\n",
       "\n",
       "</script>\n",
       "<div\n",
       "    id=\"webio-warning-13805496773359067276\"\n",
       "    class=\"output_text output_stderr\"\n",
       "    style=\"padding: 1em; font-weight: bold;\"\n",
       ">\n",
       "    Unable to load WebIO. Please make sure WebIO works for your Jupyter client.\n",
       "    <!-- TODO: link to installation docs. -->\n",
       "</div>\n"
      ],
      "text/plain": [
       "HTML{String}(\"<script>\\n// Immediately-invoked-function-expression to avoid global variables.\\n(function() {\\n    var warning_div = document.getElementById(\\\"webio-warning-13805496773359067276\\\");\\n    var hide = function () {\\n        var script = document.getElementById(\\\"webio-setup-2344970141879211649\\\");\\n        var parent = script && script.parentElement;\\n        var grandparent = parent && parent.parentElement;\\n        if (grandparent) {\\n            grandparent.style.display = \\\"none\\\";\\n        }\\n        warning_div.style.display = \\\"none\\\";\\n    };\\n    if (typeof Jupyter !== \\\"undefined\\\") {\\n        console.log(\\\"WebIO detected Jupyter notebook environment.\\\");\\n        // Jupyter notebook.\\n        var extensions = (\\n            Jupyter\\n            && Jupyter.notebook.config.data\\n            && Jupyter.notebook.config.data.load_extensions\\n        );\\n        if (extensions && extensions[\\\"webio/main\\\"]) {\\n            // Extension already loaded.\\n            console.log(\\\"Jupyter WebIO nbextension detected; not loading ad-hoc.\\\");\\n            hide();\\n            return;\\n        }\\n        console.warn(\\\"Loading WebIO Jupyter extension on an ad-hoc basis. Consider enabling the WebIO nbextension for a stabler experience (this should happen automatically when building WebIO).\\\");\\n        require([\\\"/assetserver/2d0721f8d0c54f2ad4e5202e53a922d6ebb5c6cb-dist/main.js\\\"], function (webIOModule) {\\n            webIOModule.load_ipython_extension();\\n        });\\n        warning_div.innerHTML = \\\"<strong>Loading WebIO Jupyter extension on an ad-hoc basis. Consider enabling the WebIO nbextension for a stabler experience (this should happen automatically when building WebIO).</strong>\\\";\\n    } else if (window.location.pathname.includes(\\\"/lab\\\")) {\\n        // Guessing JupyterLa\\n        console.log(\\\"Jupyter Lab detected; make sure the @webio/jupyter-lab-provider labextension is installed.\\\");\\n        hide();\\n        return;\\n    }\\n})();\\n\\n</script>\\n<div\\n    id=\\\"webio-warning-13805496773359067276\\\"\\n    class=\\\"output_text output_stderr\\\"\\n    style=\\\"padding: 1em; font-weight: bold;\\\"\\n>\\n    Unable to load WebIO. Please make sure WebIO works for your Jupyter client.\\n    <!-- TODO: link to installation docs. -->\\n</div>\\n\")"
      ]
     },
     "metadata": {},
     "output_type": "display_data"
    },
    {
     "data": {
      "image/svg+xml": [
       "<?xml version=\"1.0\" encoding=\"utf-8\"?>\n",
       "<svg xmlns=\"http://www.w3.org/2000/svg\" xmlns:xlink=\"http://www.w3.org/1999/xlink\" width=\"614.5\" height=\"460.75\" viewBox=\"0 0 2458 1843\">\n",
       "<defs>\n",
       "  <clipPath id=\"clip2600\">\n",
       "    <rect x=\"307\" y=\"138\" width=\"1967\" height=\"1475\"/>\n",
       "  </clipPath>\n",
       "</defs>\n",
       "<defs>\n",
       "  <clipPath id=\"clip2601\">\n",
       "    <rect x=\"0\" y=\"0\" width=\"2458\" height=\"1843\"/>\n",
       "  </clipPath>\n",
       "</defs>\n",
       "<polyline clip-path=\"url(#clip2601)\" style=\"stroke:#ededed; stroke-width:4.301; stroke-opacity:1; fill:none\" points=\"\n",
       "  307.25,1583.14 2273.65,1583.14 \n",
       "  \"/>\n",
       "<polyline clip-path=\"url(#clip2601)\" style=\"stroke:#ededed; stroke-width:4.301; stroke-opacity:1; fill:none\" points=\"\n",
       "  307.25,1524.16 2273.65,1524.16 \n",
       "  \"/>\n",
       "<polyline clip-path=\"url(#clip2601)\" style=\"stroke:#cccccc; stroke-width:4.301; stroke-opacity:1; fill:none\" points=\"\n",
       "  307.25,1465.18 2273.65,1465.18 \n",
       "  \"/>\n",
       "<polyline clip-path=\"url(#clip2601)\" style=\"stroke:#ededed; stroke-width:4.301; stroke-opacity:1; fill:none\" points=\"\n",
       "  307.25,1406.21 2273.65,1406.21 \n",
       "  \"/>\n",
       "<polyline clip-path=\"url(#clip2601)\" style=\"stroke:#ededed; stroke-width:4.301; stroke-opacity:1; fill:none\" points=\"\n",
       "  307.25,1347.23 2273.65,1347.23 \n",
       "  \"/>\n",
       "<polyline clip-path=\"url(#clip2601)\" style=\"stroke:#ededed; stroke-width:4.301; stroke-opacity:1; fill:none\" points=\"\n",
       "  307.25,1288.26 2273.65,1288.26 \n",
       "  \"/>\n",
       "<polyline clip-path=\"url(#clip2601)\" style=\"stroke:#ededed; stroke-width:4.301; stroke-opacity:1; fill:none\" points=\"\n",
       "  307.25,1229.28 2273.65,1229.28 \n",
       "  \"/>\n",
       "<polyline clip-path=\"url(#clip2601)\" style=\"stroke:#cccccc; stroke-width:4.301; stroke-opacity:1; fill:none\" points=\"\n",
       "  307.25,1170.3 2273.65,1170.3 \n",
       "  \"/>\n",
       "<polyline clip-path=\"url(#clip2601)\" style=\"stroke:#ededed; stroke-width:4.301; stroke-opacity:1; fill:none\" points=\"\n",
       "  307.25,1111.33 2273.65,1111.33 \n",
       "  \"/>\n",
       "<polyline clip-path=\"url(#clip2601)\" style=\"stroke:#ededed; stroke-width:4.301; stroke-opacity:1; fill:none\" points=\"\n",
       "  307.25,1052.35 2273.65,1052.35 \n",
       "  \"/>\n",
       "<polyline clip-path=\"url(#clip2601)\" style=\"stroke:#ededed; stroke-width:4.301; stroke-opacity:1; fill:none\" points=\"\n",
       "  307.25,993.377 2273.65,993.377 \n",
       "  \"/>\n",
       "<polyline clip-path=\"url(#clip2601)\" style=\"stroke:#ededed; stroke-width:4.301; stroke-opacity:1; fill:none\" points=\"\n",
       "  307.25,934.401 2273.65,934.401 \n",
       "  \"/>\n",
       "<polyline clip-path=\"url(#clip2601)\" style=\"stroke:#cccccc; stroke-width:4.301; stroke-opacity:1; fill:none\" points=\"\n",
       "  307.25,875.425 2273.65,875.425 \n",
       "  \"/>\n",
       "<polyline clip-path=\"url(#clip2601)\" style=\"stroke:#ededed; stroke-width:4.301; stroke-opacity:1; fill:none\" points=\"\n",
       "  307.25,816.449 2273.65,816.449 \n",
       "  \"/>\n",
       "<polyline clip-path=\"url(#clip2601)\" style=\"stroke:#ededed; stroke-width:4.301; stroke-opacity:1; fill:none\" points=\"\n",
       "  307.25,757.473 2273.65,757.473 \n",
       "  \"/>\n",
       "<polyline clip-path=\"url(#clip2601)\" style=\"stroke:#ededed; stroke-width:4.301; stroke-opacity:1; fill:none\" points=\"\n",
       "  307.25,698.497 2273.65,698.497 \n",
       "  \"/>\n",
       "<polyline clip-path=\"url(#clip2601)\" style=\"stroke:#ededed; stroke-width:4.301; stroke-opacity:1; fill:none\" points=\"\n",
       "  307.25,639.521 2273.65,639.521 \n",
       "  \"/>\n",
       "<polyline clip-path=\"url(#clip2601)\" style=\"stroke:#cccccc; stroke-width:4.301; stroke-opacity:1; fill:none\" points=\"\n",
       "  307.25,580.545 2273.65,580.545 \n",
       "  \"/>\n",
       "<polyline clip-path=\"url(#clip2601)\" style=\"stroke:#ededed; stroke-width:4.301; stroke-opacity:1; fill:none\" points=\"\n",
       "  307.25,521.569 2273.65,521.569 \n",
       "  \"/>\n",
       "<polyline clip-path=\"url(#clip2601)\" style=\"stroke:#ededed; stroke-width:4.301; stroke-opacity:1; fill:none\" points=\"\n",
       "  307.25,462.593 2273.65,462.593 \n",
       "  \"/>\n",
       "<polyline clip-path=\"url(#clip2601)\" style=\"stroke:#ededed; stroke-width:4.301; stroke-opacity:1; fill:none\" points=\"\n",
       "  307.25,403.617 2273.65,403.617 \n",
       "  \"/>\n",
       "<polyline clip-path=\"url(#clip2601)\" style=\"stroke:#ededed; stroke-width:4.301; stroke-opacity:1; fill:none\" points=\"\n",
       "  307.25,344.641 2273.65,344.641 \n",
       "  \"/>\n",
       "<polyline clip-path=\"url(#clip2601)\" style=\"stroke:#cccccc; stroke-width:4.301; stroke-opacity:1; fill:none\" points=\"\n",
       "  307.25,285.665 2273.65,285.665 \n",
       "  \"/>\n",
       "<polyline clip-path=\"url(#clip2601)\" style=\"stroke:#ededed; stroke-width:4.301; stroke-opacity:1; fill:none\" points=\"\n",
       "  307.25,226.689 2273.65,226.689 \n",
       "  \"/>\n",
       "<polyline clip-path=\"url(#clip2601)\" style=\"stroke:#ededed; stroke-width:4.301; stroke-opacity:1; fill:none\" points=\"\n",
       "  307.25,167.713 2273.65,167.713 \n",
       "  \"/>\n",
       "<polyline clip-path=\"url(#clip2601)\" style=\"stroke:#ededed; stroke-width:4.301; stroke-opacity:1; fill:none\" points=\"\n",
       "  385.906,1612.62 385.906,138.225 \n",
       "  \"/>\n",
       "<polyline clip-path=\"url(#clip2601)\" style=\"stroke:#ededed; stroke-width:4.301; stroke-opacity:1; fill:none\" points=\"\n",
       "  464.562,1612.62 464.562,138.225 \n",
       "  \"/>\n",
       "<polyline clip-path=\"url(#clip2601)\" style=\"stroke:#ededed; stroke-width:4.301; stroke-opacity:1; fill:none\" points=\"\n",
       "  543.218,1612.62 543.218,138.225 \n",
       "  \"/>\n",
       "<polyline clip-path=\"url(#clip2601)\" style=\"stroke:#ededed; stroke-width:4.301; stroke-opacity:1; fill:none\" points=\"\n",
       "  621.874,1612.62 621.874,138.225 \n",
       "  \"/>\n",
       "<polyline clip-path=\"url(#clip2601)\" style=\"stroke:#cccccc; stroke-width:4.301; stroke-opacity:1; fill:none\" points=\"\n",
       "  700.53,1612.62 700.53,138.225 \n",
       "  \"/>\n",
       "<polyline clip-path=\"url(#clip2601)\" style=\"stroke:#ededed; stroke-width:4.301; stroke-opacity:1; fill:none\" points=\"\n",
       "  779.186,1612.62 779.186,138.225 \n",
       "  \"/>\n",
       "<polyline clip-path=\"url(#clip2601)\" style=\"stroke:#ededed; stroke-width:4.301; stroke-opacity:1; fill:none\" points=\"\n",
       "  857.842,1612.62 857.842,138.225 \n",
       "  \"/>\n",
       "<polyline clip-path=\"url(#clip2601)\" style=\"stroke:#ededed; stroke-width:4.301; stroke-opacity:1; fill:none\" points=\"\n",
       "  936.498,1612.62 936.498,138.225 \n",
       "  \"/>\n",
       "<polyline clip-path=\"url(#clip2601)\" style=\"stroke:#ededed; stroke-width:4.301; stroke-opacity:1; fill:none\" points=\"\n",
       "  1015.15,1612.62 1015.15,138.225 \n",
       "  \"/>\n",
       "<polyline clip-path=\"url(#clip2601)\" style=\"stroke:#cccccc; stroke-width:4.301; stroke-opacity:1; fill:none\" points=\"\n",
       "  1093.81,1612.62 1093.81,138.225 \n",
       "  \"/>\n",
       "<polyline clip-path=\"url(#clip2601)\" style=\"stroke:#ededed; stroke-width:4.301; stroke-opacity:1; fill:none\" points=\"\n",
       "  1172.47,1612.62 1172.47,138.225 \n",
       "  \"/>\n",
       "<polyline clip-path=\"url(#clip2601)\" style=\"stroke:#ededed; stroke-width:4.301; stroke-opacity:1; fill:none\" points=\"\n",
       "  1251.12,1612.62 1251.12,138.225 \n",
       "  \"/>\n",
       "<polyline clip-path=\"url(#clip2601)\" style=\"stroke:#ededed; stroke-width:4.301; stroke-opacity:1; fill:none\" points=\"\n",
       "  1329.78,1612.62 1329.78,138.225 \n",
       "  \"/>\n",
       "<polyline clip-path=\"url(#clip2601)\" style=\"stroke:#ededed; stroke-width:4.301; stroke-opacity:1; fill:none\" points=\"\n",
       "  1408.43,1612.62 1408.43,138.225 \n",
       "  \"/>\n",
       "<polyline clip-path=\"url(#clip2601)\" style=\"stroke:#cccccc; stroke-width:4.301; stroke-opacity:1; fill:none\" points=\"\n",
       "  1487.09,1612.62 1487.09,138.225 \n",
       "  \"/>\n",
       "<polyline clip-path=\"url(#clip2601)\" style=\"stroke:#ededed; stroke-width:4.301; stroke-opacity:1; fill:none\" points=\"\n",
       "  1565.75,1612.62 1565.75,138.225 \n",
       "  \"/>\n",
       "<polyline clip-path=\"url(#clip2601)\" style=\"stroke:#ededed; stroke-width:4.301; stroke-opacity:1; fill:none\" points=\"\n",
       "  1644.4,1612.62 1644.4,138.225 \n",
       "  \"/>\n",
       "<polyline clip-path=\"url(#clip2601)\" style=\"stroke:#ededed; stroke-width:4.301; stroke-opacity:1; fill:none\" points=\"\n",
       "  1723.06,1612.62 1723.06,138.225 \n",
       "  \"/>\n",
       "<polyline clip-path=\"url(#clip2601)\" style=\"stroke:#ededed; stroke-width:4.301; stroke-opacity:1; fill:none\" points=\"\n",
       "  1801.71,1612.62 1801.71,138.225 \n",
       "  \"/>\n",
       "<polyline clip-path=\"url(#clip2601)\" style=\"stroke:#cccccc; stroke-width:4.301; stroke-opacity:1; fill:none\" points=\"\n",
       "  1880.37,1612.62 1880.37,138.225 \n",
       "  \"/>\n",
       "<polyline clip-path=\"url(#clip2601)\" style=\"stroke:#ededed; stroke-width:4.301; stroke-opacity:1; fill:none\" points=\"\n",
       "  1959.03,1612.62 1959.03,138.225 \n",
       "  \"/>\n",
       "<polyline clip-path=\"url(#clip2601)\" style=\"stroke:#ededed; stroke-width:4.301; stroke-opacity:1; fill:none\" points=\"\n",
       "  2037.68,1612.62 2037.68,138.225 \n",
       "  \"/>\n",
       "<polyline clip-path=\"url(#clip2601)\" style=\"stroke:#ededed; stroke-width:4.301; stroke-opacity:1; fill:none\" points=\"\n",
       "  2116.34,1612.62 2116.34,138.225 \n",
       "  \"/>\n",
       "<polyline clip-path=\"url(#clip2601)\" style=\"stroke:#ededed; stroke-width:4.301; stroke-opacity:1; fill:none\" points=\"\n",
       "  2194.99,1612.62 2194.99,138.225 \n",
       "  \"/>\n",
       "<polyline clip-path=\"url(#clip2601)\" style=\"stroke:#cccccc; stroke-width:4.301; stroke-opacity:1; fill:none\" points=\"\n",
       "  2273.65,1612.62 2273.65,138.225 \n",
       "  \"/>\n",
       "<g clip-path=\"url(#clip2601)\">\n",
       "<text style=\"fill:#000000; fill-opacity:1; font-family:Arial,Helvetica Neue,Helvetica,sans-serif; font-size:60px; text-anchor:start;\" transform=\"rotate(0, 254.554, 1482.66)\" x=\"254.554\" y=\"1482.66\">0</text>\n",
       "</g>\n",
       "<g clip-path=\"url(#clip2601)\">\n",
       "<text style=\"fill:#000000; fill-opacity:1; font-family:Arial,Helvetica Neue,Helvetica,sans-serif; font-size:60px; text-anchor:start;\" transform=\"rotate(0, 254.554, 1187.78)\" x=\"254.554\" y=\"1187.78\">2</text>\n",
       "</g>\n",
       "<g clip-path=\"url(#clip2601)\">\n",
       "<text style=\"fill:#000000; fill-opacity:1; font-family:Arial,Helvetica Neue,Helvetica,sans-serif; font-size:60px; text-anchor:start;\" transform=\"rotate(0, 254.554, 892.897)\" x=\"254.554\" y=\"892.897\">4</text>\n",
       "</g>\n",
       "<g clip-path=\"url(#clip2601)\">\n",
       "<text style=\"fill:#000000; fill-opacity:1; font-family:Arial,Helvetica Neue,Helvetica,sans-serif; font-size:60px; text-anchor:start;\" transform=\"rotate(0, 254.554, 598.017)\" x=\"254.554\" y=\"598.017\">6</text>\n",
       "</g>\n",
       "<g clip-path=\"url(#clip2601)\">\n",
       "<text style=\"fill:#000000; fill-opacity:1; font-family:Arial,Helvetica Neue,Helvetica,sans-serif; font-size:60px; text-anchor:start;\" transform=\"rotate(0, 254.554, 303.137)\" x=\"254.554\" y=\"303.137\">8</text>\n",
       "</g>\n",
       "<polyline clip-path=\"url(#clip2601)\" style=\"stroke:#000000; stroke-width:4.301; stroke-opacity:1; fill:none\" points=\"\n",
       "  307.25,1612.62 307.25,1583.14 325.685,1583.14 307.25,1583.14 307.25,1524.16 325.685,1524.16 307.25,1524.16 307.25,1465.18 344.12,1465.18 307.25,1465.18 \n",
       "  307.25,1406.21 325.685,1406.21 307.25,1406.21 307.25,1347.23 325.685,1347.23 307.25,1347.23 307.25,1288.26 325.685,1288.26 307.25,1288.26 307.25,1229.28 \n",
       "  325.685,1229.28 307.25,1229.28 307.25,1170.3 344.12,1170.3 307.25,1170.3 307.25,1111.33 325.685,1111.33 307.25,1111.33 307.25,1052.35 325.685,1052.35 \n",
       "  307.25,1052.35 307.25,993.377 325.685,993.377 307.25,993.377 307.25,934.401 325.685,934.401 307.25,934.401 307.25,875.425 344.12,875.425 307.25,875.425 \n",
       "  307.25,816.449 325.685,816.449 307.25,816.449 307.25,757.473 325.685,757.473 307.25,757.473 307.25,698.497 325.685,698.497 307.25,698.497 307.25,639.521 \n",
       "  325.685,639.521 307.25,639.521 307.25,580.545 344.12,580.545 307.25,580.545 307.25,521.569 325.685,521.569 307.25,521.569 307.25,462.593 325.685,462.593 \n",
       "  307.25,462.593 307.25,403.617 325.685,403.617 307.25,403.617 307.25,344.641 325.685,344.641 307.25,344.641 307.25,285.665 344.12,285.665 307.25,285.665 \n",
       "  307.25,226.689 325.685,226.689 307.25,226.689 307.25,167.713 325.685,167.713 307.25,167.713 307.25,138.225 \n",
       "  \"/>\n",
       "<g clip-path=\"url(#clip2601)\">\n",
       "<text style=\"fill:#000000; fill-opacity:1; font-family:Arial,Helvetica Neue,Helvetica,sans-serif; font-size:60px; text-anchor:start;\" transform=\"rotate(0, 290.119, 1685.9)\" x=\"290.119\" y=\"1685.9\">0</text>\n",
       "</g>\n",
       "<g clip-path=\"url(#clip2601)\">\n",
       "<text style=\"fill:#000000; fill-opacity:1; font-family:Arial,Helvetica Neue,Helvetica,sans-serif; font-size:60px; text-anchor:start;\" transform=\"rotate(0, 666.269, 1685.9)\" x=\"666.269\" y=\"1685.9\">20</text>\n",
       "</g>\n",
       "<g clip-path=\"url(#clip2601)\">\n",
       "<text style=\"fill:#000000; fill-opacity:1; font-family:Arial,Helvetica Neue,Helvetica,sans-serif; font-size:60px; text-anchor:start;\" transform=\"rotate(0, 1059.55, 1685.9)\" x=\"1059.55\" y=\"1685.9\">40</text>\n",
       "</g>\n",
       "<g clip-path=\"url(#clip2601)\">\n",
       "<text style=\"fill:#000000; fill-opacity:1; font-family:Arial,Helvetica Neue,Helvetica,sans-serif; font-size:60px; text-anchor:start;\" transform=\"rotate(0, 1452.83, 1685.9)\" x=\"1452.83\" y=\"1685.9\">60</text>\n",
       "</g>\n",
       "<g clip-path=\"url(#clip2601)\">\n",
       "<text style=\"fill:#000000; fill-opacity:1; font-family:Arial,Helvetica Neue,Helvetica,sans-serif; font-size:60px; text-anchor:start;\" transform=\"rotate(0, 1846.11, 1685.9)\" x=\"1846.11\" y=\"1685.9\">80</text>\n",
       "</g>\n",
       "<g clip-path=\"url(#clip2601)\">\n",
       "<text style=\"fill:#000000; fill-opacity:1; font-family:Arial,Helvetica Neue,Helvetica,sans-serif; font-size:60px; text-anchor:start;\" transform=\"rotate(0, 2222.26, 1685.9)\" x=\"2222.26\" y=\"1685.9\">100</text>\n",
       "</g>\n",
       "<polyline clip-path=\"url(#clip2601)\" style=\"stroke:#000000; stroke-width:4.301; stroke-opacity:1; fill:none\" points=\"\n",
       "  307.25,1612.62 307.25,1612.62 307.25,1575.77 307.25,1612.62 385.906,1612.62 385.906,1594.2 385.906,1612.62 464.562,1612.62 464.562,1594.2 464.562,1612.62 \n",
       "  543.218,1612.62 543.218,1594.2 543.218,1612.62 621.874,1612.62 621.874,1594.2 621.874,1612.62 700.53,1612.62 700.53,1575.77 700.53,1612.62 779.186,1612.62 \n",
       "  779.186,1594.2 779.186,1612.62 857.842,1612.62 857.842,1594.2 857.842,1612.62 936.498,1612.62 936.498,1594.2 936.498,1612.62 1015.15,1612.62 1015.15,1594.2 \n",
       "  1015.15,1612.62 1093.81,1612.62 1093.81,1575.77 1093.81,1612.62 1172.47,1612.62 1172.47,1594.2 1172.47,1612.62 1251.12,1612.62 1251.12,1594.2 1251.12,1612.62 \n",
       "  1329.78,1612.62 1329.78,1594.2 1329.78,1612.62 1408.43,1612.62 1408.43,1594.2 1408.43,1612.62 1487.09,1612.62 1487.09,1575.77 1487.09,1612.62 1565.75,1612.62 \n",
       "  1565.75,1594.2 1565.75,1612.62 1644.4,1612.62 1644.4,1594.2 1644.4,1612.62 1723.06,1612.62 1723.06,1594.2 1723.06,1612.62 1801.71,1612.62 1801.71,1594.2 \n",
       "  1801.71,1612.62 1880.37,1612.62 1880.37,1575.77 1880.37,1612.62 1959.03,1612.62 1959.03,1594.2 1959.03,1612.62 2037.68,1612.62 2037.68,1594.2 2037.68,1612.62 \n",
       "  2116.34,1612.62 2116.34,1594.2 2116.34,1612.62 2194.99,1612.62 2194.99,1594.2 2194.99,1612.62 2273.65,1612.62 2273.65,1575.77 2273.65,1612.62 \n",
       "  \n",
       "  \"/>\n",
       "<polyline clip-path=\"url(#clip2601)\" style=\"stroke:#000000; stroke-width:4.301; stroke-opacity:1; fill:none\" points=\"\n",
       "  2273.65,1612.62 2273.65,1583.14 2255.22,1583.14 2273.65,1583.14 2273.65,1524.16 2255.22,1524.16 2273.65,1524.16 2273.65,1465.18 2236.78,1465.18 2273.65,1465.18 \n",
       "  2273.65,1406.21 2255.22,1406.21 2273.65,1406.21 2273.65,1347.23 2255.22,1347.23 2273.65,1347.23 2273.65,1288.26 2255.22,1288.26 2273.65,1288.26 2273.65,1229.28 \n",
       "  2255.22,1229.28 2273.65,1229.28 2273.65,1170.3 2236.78,1170.3 2273.65,1170.3 2273.65,1111.33 2255.22,1111.33 2273.65,1111.33 2273.65,1052.35 2255.22,1052.35 \n",
       "  2273.65,1052.35 2273.65,993.377 2255.22,993.377 2273.65,993.377 2273.65,934.401 2255.22,934.401 2273.65,934.401 2273.65,875.425 2236.78,875.425 2273.65,875.425 \n",
       "  2273.65,816.449 2255.22,816.449 2273.65,816.449 2273.65,757.473 2255.22,757.473 2273.65,757.473 2273.65,698.497 2255.22,698.497 2273.65,698.497 2273.65,639.521 \n",
       "  2255.22,639.521 2273.65,639.521 2273.65,580.545 2236.78,580.545 2273.65,580.545 2273.65,521.569 2255.22,521.569 2273.65,521.569 2273.65,462.593 2255.22,462.593 \n",
       "  2273.65,462.593 2273.65,403.617 2255.22,403.617 2273.65,403.617 2273.65,344.641 2255.22,344.641 2273.65,344.641 2273.65,285.665 2236.78,285.665 2273.65,285.665 \n",
       "  2273.65,226.689 2255.22,226.689 2273.65,226.689 2273.65,167.713 2255.22,167.713 2273.65,167.713 2273.65,138.225 \n",
       "  \"/>\n",
       "<polyline clip-path=\"url(#clip2601)\" style=\"stroke:#000000; stroke-width:4.301; stroke-opacity:1; fill:none\" points=\"\n",
       "  307.25,138.225 307.25,138.225 307.25,175.085 307.25,138.225 385.906,138.225 385.906,156.655 385.906,138.225 464.562,138.225 464.562,156.655 464.562,138.225 \n",
       "  543.218,138.225 543.218,156.655 543.218,138.225 621.874,138.225 621.874,156.655 621.874,138.225 700.53,138.225 700.53,175.085 700.53,138.225 779.186,138.225 \n",
       "  779.186,156.655 779.186,138.225 857.842,138.225 857.842,156.655 857.842,138.225 936.498,138.225 936.498,156.655 936.498,138.225 1015.15,138.225 1015.15,156.655 \n",
       "  1015.15,138.225 1093.81,138.225 1093.81,175.085 1093.81,138.225 1172.47,138.225 1172.47,156.655 1172.47,138.225 1251.12,138.225 1251.12,156.655 1251.12,138.225 \n",
       "  1329.78,138.225 1329.78,156.655 1329.78,138.225 1408.43,138.225 1408.43,156.655 1408.43,138.225 1487.09,138.225 1487.09,175.085 1487.09,138.225 1565.75,138.225 \n",
       "  1565.75,156.655 1565.75,138.225 1644.4,138.225 1644.4,156.655 1644.4,138.225 1723.06,138.225 1723.06,156.655 1723.06,138.225 1801.71,138.225 1801.71,156.655 \n",
       "  1801.71,138.225 1880.37,138.225 1880.37,175.085 1880.37,138.225 1959.03,138.225 1959.03,156.655 1959.03,138.225 2037.68,138.225 2037.68,156.655 2037.68,138.225 \n",
       "  2116.34,138.225 2116.34,156.655 2116.34,138.225 2194.99,138.225 2194.99,156.655 2194.99,138.225 2273.65,138.225 2273.65,175.085 2273.65,138.225 \n",
       "  \n",
       "  \"/>\n",
       "<polyline clip-path=\"url(#clip2600)\" style=\"stroke:#00528a; stroke-width:4.301; stroke-opacity:1; fill:none\" points=\"\n",
       "  307.25,1465.18 326.914,1317.74 346.578,1465.18 366.242,1612.62 385.906,1465.18 405.57,1612.62 425.234,1465.18 444.898,1317.74 464.562,1170.3 484.226,1317.74 \n",
       "  503.89,1170.3 523.554,1022.86 543.218,875.425 562.882,727.985 582.546,580.545 602.21,727.985 621.874,580.545 641.538,727.985 661.202,580.545 680.866,433.105 \n",
       "  700.53,580.545 720.194,727.985 739.858,580.545 759.522,433.105 779.186,580.545 798.85,727.985 818.514,875.425 838.178,1022.86 857.842,1170.3 877.506,1022.86 \n",
       "  897.17,875.425 916.834,727.985 936.498,875.425 956.162,1022.86 975.826,1170.3 995.49,1022.86 1015.15,875.425 1034.82,1022.86 1054.48,1170.3 1074.15,1022.86 \n",
       "  1093.81,1170.3 1113.47,1022.86 1133.14,1170.3 1152.8,1317.74 1172.47,1170.3 1192.13,1022.86 1211.79,875.425 1231.46,727.985 1251.12,580.545 1270.79,433.105 \n",
       "  1290.45,580.545 1310.11,433.105 1329.78,580.545 1349.44,433.105 1369.11,580.545 1388.77,433.105 1408.43,580.545 1428.1,433.105 1447.76,580.545 1467.43,727.985 \n",
       "  1487.09,875.425 1506.75,1022.86 1526.42,1170.3 1546.08,1022.86 1565.75,875.425 1585.41,1022.86 1605.07,1170.3 1624.74,1022.86 1644.4,1170.3 1664.07,1317.74 \n",
       "  1683.73,1170.3 1703.39,1022.86 1723.06,1170.3 1742.72,1022.86 1762.39,1170.3 1782.05,1317.74 1801.71,1465.18 1821.38,1317.74 1841.04,1170.3 1860.71,1317.74 \n",
       "  1880.37,1465.18 1900.03,1317.74 1919.7,1170.3 1939.36,1022.86 1959.03,875.425 1978.69,727.985 1998.35,875.425 2018.02,1022.86 2037.68,875.425 2057.35,1022.86 \n",
       "  2077.01,875.425 2096.67,727.985 2116.34,580.545 2136,727.985 2155.67,580.545 2175.33,433.105 2194.99,285.665 2214.66,138.225 2234.32,285.665 2253.99,433.105 \n",
       "  2273.65,285.665 \n",
       "  \"/>\n",
       "</svg>\n"
      ],
      "text/plain": [
       "GR.SVG(UInt8[0x3c, 0x3f, 0x78, 0x6d, 0x6c, 0x20, 0x76, 0x65, 0x72, 0x73  …  0x2f, 0x3e, 0x0a, 0x3c, 0x2f, 0x73, 0x76, 0x67, 0x3e, 0x0a])"
      ]
     },
     "execution_count": 35,
     "metadata": {},
     "output_type": "execute_result"
    }
   ],
   "source": [
    "using GR, Interact\n",
    "\n",
    "T = 100\n",
    "plot(0:T, walk(T))"
   ]
  },
  {
   "cell_type": "code",
   "execution_count": 36,
   "metadata": {
    "slideshow": {
     "slide_type": "subslide"
    }
   },
   "outputs": [
    {
     "data": {
      "application/vnd.webio.node+json": {
       "children": [
        {
         "children": [
          {
           "children": [
            {
             "children": [
              {
               "children": [
                {
                 "children": [
                  "T"
                 ],
                 "instanceArgs": {
                  "namespace": "html",
                  "tag": "label"
                 },
                 "nodeType": "DOM",
                 "props": {
                  "className": "interact ",
                  "style": {
                   "padding": "5px 10px 0px 10px"
                  }
                 },
                 "type": "node"
                }
               ],
               "instanceArgs": {
                "namespace": "html",
                "tag": "div"
               },
               "nodeType": "DOM",
               "props": {
                "className": "interact-flex-row-left"
               },
               "type": "node"
              },
              {
               "children": [
                {
                 "children": [],
                 "instanceArgs": {
                  "namespace": "html",
                  "tag": "input"
                 },
                 "nodeType": "DOM",
                 "props": {
                  "attributes": {
                   "data-bind": "numericValue: index, valueUpdate: 'input', event: {change: function (){this.changes(this.changes()+1)}}",
                   "orient": "horizontal",
                   "type": "range"
                  },
                  "className": "slider slider is-fullwidth",
                  "max": 100,
                  "min": 10,
                  "step": 1,
                  "style": {}
                 },
                 "type": "node"
                }
               ],
               "instanceArgs": {
                "namespace": "html",
                "tag": "div"
               },
               "nodeType": "DOM",
               "props": {
                "className": "interact-flex-row-center"
               },
               "type": "node"
              },
              {
               "children": [
                {
                 "children": [],
                 "instanceArgs": {
                  "namespace": "html",
                  "tag": "p"
                 },
                 "nodeType": "DOM",
                 "props": {
                  "attributes": {
                   "data-bind": "text: formatted_val"
                  }
                 },
                 "type": "node"
                }
               ],
               "instanceArgs": {
                "namespace": "html",
                "tag": "div"
               },
               "nodeType": "DOM",
               "props": {
                "className": "interact-flex-row-right"
               },
               "type": "node"
              }
             ],
             "instanceArgs": {
              "namespace": "html",
              "tag": "div"
             },
             "nodeType": "DOM",
             "props": {
              "className": "interact-flex-row interact-widget"
             },
             "type": "node"
            }
           ],
           "instanceArgs": {
            "handlers": {
             "changes": [
              "(function (val){return (val!=this.model[\"changes\"]()) ? (this.valueFromJulia[\"changes\"]=true, this.model[\"changes\"](val)) : undefined})"
             ],
             "index": [
              "(function (val){return (val!=this.model[\"index\"]()) ? (this.valueFromJulia[\"index\"]=true, this.model[\"index\"](val)) : undefined})"
             ]
            },
            "id": "knockout-component-80a0ed20-d87f-49d5-96a0-2ff2ec0760a9",
            "imports": {
             "data": [
              {
               "name": "knockout",
               "type": "js",
               "url": "/assetserver/3d990c8b300ed9ac4c90c5b3af2566dfebebe415-knockout.js"
              },
              {
               "name": "knockout_punches",
               "type": "js",
               "url": "/assetserver/6d420f5c7dca3e389c3d537dae2a590074d16537-knockout_punches.js"
              },
              {
               "name": null,
               "type": "js",
               "url": "/assetserver/1551f315ff7832b77b00467d52a19f575fa96032-all.js"
              },
              {
               "name": null,
               "type": "css",
               "url": "/assetserver/29e1367d28a21536c0343140156384d21df29efb-style.css"
              },
              {
               "name": null,
               "type": "css",
               "url": "/assetserver/b76a9cbed259ca8ebe3d098ad39e34819dd44897-bulma_confined.min.css"
              }
             ],
             "type": "async_block"
            },
            "mount_callbacks": [
             "function () {\n    var handler = (function (ko, koPunches) {\n    ko.punches.enableAll();\n    ko.bindingHandlers.numericValue = {\n        init : function(element, valueAccessor, allBindings, data, context) {\n            var stringified = ko.observable(ko.unwrap(valueAccessor()));\n            stringified.subscribe(function(value) {\n                var val = parseFloat(value);\n                if (!isNaN(val)) {\n                    valueAccessor()(val);\n                }\n            })\n            valueAccessor().subscribe(function(value) {\n                var str = JSON.stringify(value);\n                if ((str == \"0\") && ([\"-0\", \"-0.\"].indexOf(stringified()) >= 0))\n                     return;\n                 if ([\"null\", \"\"].indexOf(str) >= 0)\n                     return;\n                stringified(str);\n            })\n            ko.applyBindingsToNode(element, { value: stringified, valueUpdate: allBindings.get('valueUpdate')}, context);\n        }\n    };\n    var json_data = {\"formatted_vals\":[\"10\",\"11\",\"12\",\"13\",\"14\",\"15\",\"16\",\"17\",\"18\",\"19\",\"20\",\"21\",\"22\",\"23\",\"24\",\"25\",\"26\",\"27\",\"28\",\"29\",\"30\",\"31\",\"32\",\"33\",\"34\",\"35\",\"36\",\"37\",\"38\",\"39\",\"40\",\"41\",\"42\",\"43\",\"44\",\"45\",\"46\",\"47\",\"48\",\"49\",\"50\",\"51\",\"52\",\"53\",\"54\",\"55\",\"56\",\"57\",\"58\",\"59\",\"60\",\"61\",\"62\",\"63\",\"64\",\"65\",\"66\",\"67\",\"68\",\"69\",\"70\",\"71\",\"72\",\"73\",\"74\",\"75\",\"76\",\"77\",\"78\",\"79\",\"80\",\"81\",\"82\",\"83\",\"84\",\"85\",\"86\",\"87\",\"88\",\"89\",\"90\",\"91\",\"92\",\"93\",\"94\",\"95\",\"96\",\"97\",\"98\",\"99\",\"100\"],\"changes\":WebIO.getval({\"name\":\"changes\",\"scope\":\"knockout-component-80a0ed20-d87f-49d5-96a0-2ff2ec0760a9\",\"id\":\"ob_02\",\"type\":\"observable\"}),\"index\":WebIO.getval({\"name\":\"index\",\"scope\":\"knockout-component-80a0ed20-d87f-49d5-96a0-2ff2ec0760a9\",\"id\":\"ob_01\",\"type\":\"observable\"})};\n    var self = this;\n    function AppViewModel() {\n        for (var key in json_data) {\n            var el = json_data[key];\n            this[key] = Array.isArray(el) ? ko.observableArray(el) : ko.observable(el);\n        }\n        \n        [this[\"formatted_val\"]=ko.computed(    function(){\n        return this.formatted_vals()[parseInt(this.index())-1];\n    }\n,this)]\n        [this[\"changes\"].subscribe((function (val){!(this.valueFromJulia[\"changes\"]) ? (WebIO.setval({\"name\":\"changes\",\"scope\":\"knockout-component-80a0ed20-d87f-49d5-96a0-2ff2ec0760a9\",\"id\":\"ob_02\",\"type\":\"observable\"},val)) : undefined; return this.valueFromJulia[\"changes\"]=false}),self),this[\"index\"].subscribe((function (val){!(this.valueFromJulia[\"index\"]) ? (WebIO.setval({\"name\":\"index\",\"scope\":\"knockout-component-80a0ed20-d87f-49d5-96a0-2ff2ec0760a9\",\"id\":\"ob_01\",\"type\":\"observable\"},val)) : undefined; return this.valueFromJulia[\"index\"]=false}),self)]\n        \n    }\n    self.model = new AppViewModel();\n    self.valueFromJulia = {};\n    for (var key in json_data) {\n        self.valueFromJulia[key] = false;\n    }\n    ko.applyBindings(self.model, self.dom);\n}\n);\n    (WebIO.importBlock({\"data\":[{\"name\":\"knockout\",\"type\":\"js\",\"url\":\"/assetserver/3d990c8b300ed9ac4c90c5b3af2566dfebebe415-knockout.js\"},{\"name\":\"knockout_punches\",\"type\":\"js\",\"url\":\"/assetserver/6d420f5c7dca3e389c3d537dae2a590074d16537-knockout_punches.js\"}],\"type\":\"async_block\"})).then((imports) => handler.apply(this, imports));\n}\n"
            ],
            "observables": {
             "changes": {
              "id": "ob_02",
              "sync": false,
              "value": 0
             },
             "index": {
              "id": "ob_01",
              "sync": true,
              "value": 55
             }
            },
            "systemjs_options": null
           },
           "nodeType": "Scope",
           "props": {},
           "type": "node"
          }
         ],
         "instanceArgs": {
          "namespace": "html",
          "tag": "div"
         },
         "nodeType": "DOM",
         "props": {
          "className": "field interact-widget"
         },
         "type": "node"
        },
        {
         "children": [
          {
           "children": [],
           "instanceArgs": {
            "id": "ob_08",
            "name": "obs-node"
           },
           "nodeType": "ObservableNode",
           "props": {},
           "type": "node"
          }
         ],
         "instanceArgs": {
          "handlers": {},
          "id": "scope-85f22805-89ef-43a5-890c-1455bba8666d",
          "imports": {
           "data": [],
           "type": "async_block"
          },
          "mount_callbacks": [],
          "observables": {
           "obs-node": {
            "id": "ob_08",
            "sync": false,
            "value": {
             "children": [
              {
               "children": [],
               "instanceArgs": {
                "namespace": "html",
                "tag": "div"
               },
               "nodeType": "DOM",
               "props": {
                "setInnerHtml": "<?xml version=\"1.0\" encoding=\"utf-8\"?>\n<svg xmlns=\"http://www.w3.org/2000/svg\" xmlns:xlink=\"http://www.w3.org/1999/xlink\" width=\"614.5\" height=\"460.75\" viewBox=\"0 0 2458 1843\">\n<defs>\n  <clipPath id=\"clip2900\">\n    <rect x=\"307\" y=\"138\" width=\"1967\" height=\"1475\"/>\n  </clipPath>\n</defs>\n<defs>\n  <clipPath id=\"clip2901\">\n    <rect x=\"0\" y=\"0\" width=\"2458\" height=\"1843\"/>\n  </clipPath>\n</defs>\n<polyline clip-path=\"url(#clip2901)\" style=\"stroke:#ededed; stroke-width:4.301; stroke-opacity:1; fill:none\" points=\"\n  307.25,1575.76 2273.65,1575.76 \n  \"/>\n<polyline clip-path=\"url(#clip2901)\" style=\"stroke:#ededed; stroke-width:4.301; stroke-opacity:1; fill:none\" points=\"\n  307.25,1502.05 2273.65,1502.05 \n  \"/>\n<polyline clip-path=\"url(#clip2901)\" style=\"stroke:#cccccc; stroke-width:4.301; stroke-opacity:1; fill:none\" points=\"\n  307.25,1428.32 2273.65,1428.32 \n  \"/>\n<polyline clip-path=\"url(#clip2901)\" style=\"stroke:#ededed; stroke-width:4.301; stroke-opacity:1; fill:none\" points=\"\n  307.25,1354.61 2273.65,1354.61 \n  \"/>\n<polyline clip-path=\"url(#clip2901)\" style=\"stroke:#ededed; stroke-width:4.301; stroke-opacity:1; fill:none\" points=\"\n  307.25,1280.88 2273.65,1280.88 \n  \"/>\n<polyline clip-path=\"url(#clip2901)\" style=\"stroke:#ededed; stroke-width:4.301; stroke-opacity:1; fill:none\" points=\"\n  307.25,1207.16 2273.65,1207.16 \n  \"/>\n<polyline clip-path=\"url(#clip2901)\" style=\"stroke:#ededed; stroke-width:4.301; stroke-opacity:1; fill:none\" points=\"\n  307.25,1133.44 2273.65,1133.44 \n  \"/>\n<polyline clip-path=\"url(#clip2901)\" style=\"stroke:#cccccc; stroke-width:4.301; stroke-opacity:1; fill:none\" points=\"\n  307.25,1059.72 2273.65,1059.72 \n  \"/>\n<polyline clip-path=\"url(#clip2901)\" style=\"stroke:#ededed; stroke-width:4.301; stroke-opacity:1; fill:none\" points=\"\n  307.25,986.005 2273.65,986.005 \n  \"/>\n<polyline clip-path=\"url(#clip2901)\" style=\"stroke:#ededed; stroke-width:4.301; stroke-opacity:1; fill:none\" points=\"\n  307.25,912.285 2273.65,912.285 \n  \"/>\n<polyline clip-path=\"url(#clip2901)\" style=\"stroke:#ededed; stroke-width:4.301; stroke-opacity:1; fill:none\" points=\"\n  307.25,838.565 2273.65,838.565 \n  \"/>\n<polyline clip-path=\"url(#clip2901)\" style=\"stroke:#ededed; stroke-width:4.301; stroke-opacity:1; fill:none\" points=\"\n  307.25,764.845 2273.65,764.845 \n  \"/>\n<polyline clip-path=\"url(#clip2901)\" style=\"stroke:#cccccc; stroke-width:4.301; stroke-opacity:1; fill:none\" points=\"\n  307.25,691.125 2273.65,691.125 \n  \"/>\n<polyline clip-path=\"url(#clip2901)\" style=\"stroke:#ededed; stroke-width:4.301; stroke-opacity:1; fill:none\" points=\"\n  307.25,617.405 2273.65,617.405 \n  \"/>\n<polyline clip-path=\"url(#clip2901)\" style=\"stroke:#ededed; stroke-width:4.301; stroke-opacity:1; fill:none\" points=\"\n  307.25,543.685 2273.65,543.685 \n  \"/>\n<polyline clip-path=\"url(#clip2901)\" style=\"stroke:#ededed; stroke-width:4.301; stroke-opacity:1; fill:none\" points=\"\n  307.25,469.965 2273.65,469.965 \n  \"/>\n<polyline clip-path=\"url(#clip2901)\" style=\"stroke:#ededed; stroke-width:4.301; stroke-opacity:1; fill:none\" points=\"\n  307.25,396.245 2273.65,396.245 \n  \"/>\n<polyline clip-path=\"url(#clip2901)\" style=\"stroke:#cccccc; stroke-width:4.301; stroke-opacity:1; fill:none\" points=\"\n  307.25,322.525 2273.65,322.525 \n  \"/>\n<polyline clip-path=\"url(#clip2901)\" style=\"stroke:#ededed; stroke-width:4.301; stroke-opacity:1; fill:none\" points=\"\n  307.25,248.805 2273.65,248.805 \n  \"/>\n<polyline clip-path=\"url(#clip2901)\" style=\"stroke:#ededed; stroke-width:4.301; stroke-opacity:1; fill:none\" points=\"\n  307.25,175.085 2273.65,175.085 \n  \"/>\n<polyline clip-path=\"url(#clip2901)\" style=\"stroke:#ededed; stroke-width:4.301; stroke-opacity:1; fill:none\" points=\"\n  438.343,1612.62 438.343,138.225 \n  \"/>\n<polyline clip-path=\"url(#clip2901)\" style=\"stroke:#ededed; stroke-width:4.301; stroke-opacity:1; fill:none\" points=\"\n  569.437,1612.62 569.437,138.225 \n  \"/>\n<polyline clip-path=\"url(#clip2901)\" style=\"stroke:#ededed; stroke-width:4.301; stroke-opacity:1; fill:none\" points=\"\n  700.53,1612.62 700.53,138.225 \n  \"/>\n<polyline clip-path=\"url(#clip2901)\" style=\"stroke:#ededed; stroke-width:4.301; stroke-opacity:1; fill:none\" points=\"\n  831.623,1612.62 831.623,138.225 \n  \"/>\n<polyline clip-path=\"url(#clip2901)\" style=\"stroke:#cccccc; stroke-width:4.301; stroke-opacity:1; fill:none\" points=\"\n  962.717,1612.62 962.717,138.225 \n  \"/>\n<polyline clip-path=\"url(#clip2901)\" style=\"stroke:#ededed; stroke-width:4.301; stroke-opacity:1; fill:none\" points=\"\n  1093.81,1612.62 1093.81,138.225 \n  \"/>\n<polyline clip-path=\"url(#clip2901)\" style=\"stroke:#ededed; stroke-width:4.301; stroke-opacity:1; fill:none\" points=\"\n  1224.9,1612.62 1224.9,138.225 \n  \"/>\n<polyline clip-path=\"url(#clip2901)\" style=\"stroke:#ededed; stroke-width:4.301; stroke-opacity:1; fill:none\" points=\"\n  1356,1612.62 1356,138.225 \n  \"/>\n<polyline clip-path=\"url(#clip2901)\" style=\"stroke:#ededed; stroke-width:4.301; stroke-opacity:1; fill:none\" points=\"\n  1487.09,1612.62 1487.09,138.225 \n  \"/>\n<polyline clip-path=\"url(#clip2901)\" style=\"stroke:#cccccc; stroke-width:4.301; stroke-opacity:1; fill:none\" points=\"\n  1618.18,1612.62 1618.18,138.225 \n  \"/>\n<polyline clip-path=\"url(#clip2901)\" style=\"stroke:#ededed; stroke-width:4.301; stroke-opacity:1; fill:none\" points=\"\n  1749.28,1612.62 1749.28,138.225 \n  \"/>\n<polyline clip-path=\"url(#clip2901)\" style=\"stroke:#ededed; stroke-width:4.301; stroke-opacity:1; fill:none\" points=\"\n  1880.37,1612.62 1880.37,138.225 \n  \"/>\n<polyline clip-path=\"url(#clip2901)\" style=\"stroke:#ededed; stroke-width:4.301; stroke-opacity:1; fill:none\" points=\"\n  2011.46,1612.62 2011.46,138.225 \n  \"/>\n<polyline clip-path=\"url(#clip2901)\" style=\"stroke:#ededed; stroke-width:4.301; stroke-opacity:1; fill:none\" points=\"\n  2142.56,1612.62 2142.56,138.225 \n  \"/>\n<polyline clip-path=\"url(#clip2901)\" style=\"stroke:#cccccc; stroke-width:4.301; stroke-opacity:1; fill:none\" points=\"\n  2273.65,1612.62 2273.65,138.225 \n  \"/>\n<g clip-path=\"url(#clip2901)\">\n<text style=\"fill:#000000; fill-opacity:1; font-family:Arial,Helvetica Neue,Helvetica,sans-serif; font-size:60px; text-anchor:start;\" transform=\"rotate(0, 254.554, 1445.8)\" x=\"254.554\" y=\"1445.8\">0</text>\n</g>\n<g clip-path=\"url(#clip2901)\">\n<text style=\"fill:#000000; fill-opacity:1; font-family:Arial,Helvetica Neue,Helvetica,sans-serif; font-size:60px; text-anchor:start;\" transform=\"rotate(0, 254.554, 1077.2)\" x=\"254.554\" y=\"1077.2\">2</text>\n</g>\n<g clip-path=\"url(#clip2901)\">\n<text style=\"fill:#000000; fill-opacity:1; font-family:Arial,Helvetica Neue,Helvetica,sans-serif; font-size:60px; text-anchor:start;\" transform=\"rotate(0, 254.554, 708.597)\" x=\"254.554\" y=\"708.597\">4</text>\n</g>\n<g clip-path=\"url(#clip2901)\">\n<text style=\"fill:#000000; fill-opacity:1; font-family:Arial,Helvetica Neue,Helvetica,sans-serif; font-size:60px; text-anchor:start;\" transform=\"rotate(0, 254.554, 339.997)\" x=\"254.554\" y=\"339.997\">6</text>\n</g>\n<polyline clip-path=\"url(#clip2901)\" style=\"stroke:#000000; stroke-width:4.301; stroke-opacity:1; fill:none\" points=\"\n  307.25,1612.62 307.25,1575.76 325.685,1575.76 307.25,1575.76 307.25,1502.05 325.685,1502.05 307.25,1502.05 307.25,1428.32 344.12,1428.32 307.25,1428.32 \n  307.25,1354.61 325.685,1354.61 307.25,1354.61 307.25,1280.88 325.685,1280.88 307.25,1280.88 307.25,1207.16 325.685,1207.16 307.25,1207.16 307.25,1133.44 \n  325.685,1133.44 307.25,1133.44 307.25,1059.72 344.12,1059.72 307.25,1059.72 307.25,986.005 325.685,986.005 307.25,986.005 307.25,912.285 325.685,912.285 \n  307.25,912.285 307.25,838.565 325.685,838.565 307.25,838.565 307.25,764.845 325.685,764.845 307.25,764.845 307.25,691.125 344.12,691.125 307.25,691.125 \n  307.25,617.405 325.685,617.405 307.25,617.405 307.25,543.685 325.685,543.685 307.25,543.685 307.25,469.965 325.685,469.965 307.25,469.965 307.25,396.245 \n  325.685,396.245 307.25,396.245 307.25,322.525 344.12,322.525 307.25,322.525 307.25,248.805 325.685,248.805 307.25,248.805 307.25,175.085 325.685,175.085 \n  307.25,175.085 307.25,138.225 \n  \"/>\n<g clip-path=\"url(#clip2901)\">\n<text style=\"fill:#000000; fill-opacity:1; font-family:Arial,Helvetica Neue,Helvetica,sans-serif; font-size:60px; text-anchor:start;\" transform=\"rotate(0, 290.119, 1685.9)\" x=\"290.119\" y=\"1685.9\">0</text>\n</g>\n<g clip-path=\"url(#clip2901)\">\n<text style=\"fill:#000000; fill-opacity:1; font-family:Arial,Helvetica Neue,Helvetica,sans-serif; font-size:60px; text-anchor:start;\" transform=\"rotate(0, 928.455, 1685.9)\" x=\"928.455\" y=\"1685.9\">20</text>\n</g>\n<g clip-path=\"url(#clip2901)\">\n<text style=\"fill:#000000; fill-opacity:1; font-family:Arial,Helvetica Neue,Helvetica,sans-serif; font-size:60px; text-anchor:start;\" transform=\"rotate(0, 1583.92, 1685.9)\" x=\"1583.92\" y=\"1685.9\">40</text>\n</g>\n<g clip-path=\"url(#clip2901)\">\n<text style=\"fill:#000000; fill-opacity:1; font-family:Arial,Helvetica Neue,Helvetica,sans-serif; font-size:60px; text-anchor:start;\" transform=\"rotate(0, 2239.39, 1685.9)\" x=\"2239.39\" y=\"1685.9\">60</text>\n</g>\n<polyline clip-path=\"url(#clip2901)\" style=\"stroke:#000000; stroke-width:4.301; stroke-opacity:1; fill:none\" points=\"\n  307.25,1612.62 307.25,1612.62 307.25,1575.76 307.25,1612.62 438.343,1612.62 438.343,1594.19 438.343,1612.62 569.437,1612.62 569.437,1594.19 569.437,1612.62 \n  700.53,1612.62 700.53,1594.19 700.53,1612.62 831.623,1612.62 831.623,1594.19 831.623,1612.62 962.717,1612.62 962.717,1575.76 962.717,1612.62 1093.81,1612.62 \n  1093.81,1594.19 1093.81,1612.62 1224.9,1612.62 1224.9,1594.19 1224.9,1612.62 1356,1612.62 1356,1594.19 1356,1612.62 1487.09,1612.62 1487.09,1594.19 \n  1487.09,1612.62 1618.18,1612.62 1618.18,1575.76 1618.18,1612.62 1749.28,1612.62 1749.28,1594.19 1749.28,1612.62 1880.37,1612.62 1880.37,1594.19 1880.37,1612.62 \n  2011.46,1612.62 2011.46,1594.19 2011.46,1612.62 2142.56,1612.62 2142.56,1594.19 2142.56,1612.62 2273.65,1612.62 2273.65,1575.76 2273.65,1612.62 \n  \n  \"/>\n<polyline clip-path=\"url(#clip2901)\" style=\"stroke:#000000; stroke-width:4.301; stroke-opacity:1; fill:none\" points=\"\n  2273.65,1612.62 2273.65,1575.76 2255.22,1575.76 2273.65,1575.76 2273.65,1502.05 2255.22,1502.05 2273.65,1502.05 2273.65,1428.32 2236.78,1428.32 2273.65,1428.32 \n  2273.65,1354.61 2255.22,1354.61 2273.65,1354.61 2273.65,1280.88 2255.22,1280.88 2273.65,1280.88 2273.65,1207.16 2255.22,1207.16 2273.65,1207.16 2273.65,1133.44 \n  2255.22,1133.44 2273.65,1133.44 2273.65,1059.72 2236.78,1059.72 2273.65,1059.72 2273.65,986.005 2255.22,986.005 2273.65,986.005 2273.65,912.285 2255.22,912.285 \n  2273.65,912.285 2273.65,838.565 2255.22,838.565 2273.65,838.565 2273.65,764.845 2255.22,764.845 2273.65,764.845 2273.65,691.125 2236.78,691.125 2273.65,691.125 \n  2273.65,617.405 2255.22,617.405 2273.65,617.405 2273.65,543.685 2255.22,543.685 2273.65,543.685 2273.65,469.965 2255.22,469.965 2273.65,469.965 2273.65,396.245 \n  2255.22,396.245 2273.65,396.245 2273.65,322.525 2236.78,322.525 2273.65,322.525 2273.65,248.805 2255.22,248.805 2273.65,248.805 2273.65,175.085 2255.22,175.085 \n  2273.65,175.085 2273.65,138.225 \n  \"/>\n<polyline clip-path=\"url(#clip2901)\" style=\"stroke:#000000; stroke-width:4.301; stroke-opacity:1; fill:none\" points=\"\n  307.25,138.225 307.25,138.225 307.25,175.085 307.25,138.225 438.343,138.225 438.343,156.655 438.343,138.225 569.437,138.225 569.437,156.655 569.437,138.225 \n  700.53,138.225 700.53,156.655 700.53,138.225 831.623,138.225 831.623,156.655 831.623,138.225 962.717,138.225 962.717,175.085 962.717,138.225 1093.81,138.225 \n  1093.81,156.655 1093.81,138.225 1224.9,138.225 1224.9,156.655 1224.9,138.225 1356,138.225 1356,156.655 1356,138.225 1487.09,138.225 1487.09,156.655 \n  1487.09,138.225 1618.18,138.225 1618.18,175.085 1618.18,138.225 1749.28,138.225 1749.28,156.655 1749.28,138.225 1880.37,138.225 1880.37,156.655 1880.37,138.225 \n  2011.46,138.225 2011.46,156.655 2011.46,138.225 2142.56,138.225 2142.56,156.655 2142.56,138.225 2273.65,138.225 2273.65,175.085 2273.65,138.225 \n  \n  \"/>\n<polyline clip-path=\"url(#clip2900)\" style=\"stroke:#00528a; stroke-width:4.301; stroke-opacity:1; fill:none\" points=\"\n  307.25,1428.32 340.023,1244.02 372.797,1059.72 405.57,1244.02 438.343,1428.32 471.117,1244.02 503.89,1428.32 536.663,1612.62 569.437,1428.32 602.21,1244.02 \n  634.983,1428.32 667.757,1612.62 700.53,1428.32 733.303,1612.62 766.077,1428.32 798.85,1244.02 831.623,1059.72 864.397,875.425 897.17,691.125 929.943,875.425 \n  962.717,691.125 995.49,875.425 1028.26,1059.72 1061.04,875.425 1093.81,691.125 1126.58,506.825 1159.36,322.525 1192.13,138.225 1224.9,322.525 1257.68,506.825 \n  1290.45,691.125 1323.22,875.425 1356,691.125 1388.77,875.425 1421.54,1059.72 1454.32,875.425 1487.09,1059.72 1519.86,875.425 1552.64,1059.72 1585.41,875.425 \n  1618.18,1059.72 1650.96,875.425 1683.73,1059.72 1716.5,875.425 1749.28,1059.72 1782.05,875.425 1814.82,1059.72 1847.6,875.425 1880.37,1059.72 1913.14,1244.02 \n  1945.92,1428.32 1978.69,1244.02 2011.46,1428.32 2044.24,1244.02 2077.01,1428.32 2109.78,1612.62 \n  \"/>\n</svg>\n"
               },
               "type": "node"
              }
             ],
             "instanceArgs": {
              "namespace": "html",
              "tag": "div"
             },
             "nodeType": "DOM",
             "props": {
              "className": "interact-flex-row interact-widget"
             },
             "type": "node"
            }
           }
          },
          "systemjs_options": null
         },
         "nodeType": "Scope",
         "props": {},
         "type": "node"
        }
       ],
       "instanceArgs": {
        "namespace": "html",
        "tag": "div"
       },
       "nodeType": "DOM",
       "props": {},
       "type": "node"
      },
      "text/html": [
       "<div\n",
       "    class=\"webio-mountpoint\"\n",
       "    data-webio-mountpoint=\"3573614328931464636\"\n",
       ">\n",
       "    <script>\n",
       "    if (window.require && require.defined && require.defined(\"nbextensions/webio/main\")) {\n",
       "        console.log(\"Jupyter WebIO extension detected, not mounting.\");\n",
       "    } else if (window.WebIO) {\n",
       "        WebIO.mount(\n",
       "            document.querySelector('[data-webio-mountpoint=\"3573614328931464636\"]'),\n",
       "            {\"props\":{},\"nodeType\":\"DOM\",\"type\":\"node\",\"instanceArgs\":{\"namespace\":\"html\",\"tag\":\"div\"},\"children\":[{\"props\":{\"className\":\"field interact-widget\"},\"nodeType\":\"DOM\",\"type\":\"node\",\"instanceArgs\":{\"namespace\":\"html\",\"tag\":\"div\"},\"children\":[{\"props\":{},\"nodeType\":\"Scope\",\"type\":\"node\",\"instanceArgs\":{\"imports\":{\"data\":[{\"name\":\"knockout\",\"type\":\"js\",\"url\":\"\\/assetserver\\/3d990c8b300ed9ac4c90c5b3af2566dfebebe415-knockout.js\"},{\"name\":\"knockout_punches\",\"type\":\"js\",\"url\":\"\\/assetserver\\/6d420f5c7dca3e389c3d537dae2a590074d16537-knockout_punches.js\"},{\"name\":null,\"type\":\"js\",\"url\":\"\\/assetserver\\/1551f315ff7832b77b00467d52a19f575fa96032-all.js\"},{\"name\":null,\"type\":\"css\",\"url\":\"\\/assetserver\\/29e1367d28a21536c0343140156384d21df29efb-style.css\"},{\"name\":null,\"type\":\"css\",\"url\":\"\\/assetserver\\/b76a9cbed259ca8ebe3d098ad39e34819dd44897-bulma_confined.min.css\"}],\"type\":\"async_block\"},\"id\":\"knockout-component-80a0ed20-d87f-49d5-96a0-2ff2ec0760a9\",\"handlers\":{\"changes\":[\"(function (val){return (val!=this.model[\\\"changes\\\"]()) ? (this.valueFromJulia[\\\"changes\\\"]=true, this.model[\\\"changes\\\"](val)) : undefined})\"],\"index\":[\"(function (val){return (val!=this.model[\\\"index\\\"]()) ? (this.valueFromJulia[\\\"index\\\"]=true, this.model[\\\"index\\\"](val)) : undefined})\"]},\"systemjs_options\":null,\"mount_callbacks\":[\"function () {\\n    var handler = (function (ko, koPunches) {\\n    ko.punches.enableAll();\\n    ko.bindingHandlers.numericValue = {\\n        init : function(element, valueAccessor, allBindings, data, context) {\\n            var stringified = ko.observable(ko.unwrap(valueAccessor()));\\n            stringified.subscribe(function(value) {\\n                var val = parseFloat(value);\\n                if (!isNaN(val)) {\\n                    valueAccessor()(val);\\n                }\\n            })\\n            valueAccessor().subscribe(function(value) {\\n                var str = JSON.stringify(value);\\n                if ((str == \\\"0\\\") && ([\\\"-0\\\", \\\"-0.\\\"].indexOf(stringified()) >= 0))\\n                     return;\\n                 if ([\\\"null\\\", \\\"\\\"].indexOf(str) >= 0)\\n                     return;\\n                stringified(str);\\n            })\\n            ko.applyBindingsToNode(element, { value: stringified, valueUpdate: allBindings.get('valueUpdate')}, context);\\n        }\\n    };\\n    var json_data = {\\\"formatted_vals\\\":[\\\"10\\\",\\\"11\\\",\\\"12\\\",\\\"13\\\",\\\"14\\\",\\\"15\\\",\\\"16\\\",\\\"17\\\",\\\"18\\\",\\\"19\\\",\\\"20\\\",\\\"21\\\",\\\"22\\\",\\\"23\\\",\\\"24\\\",\\\"25\\\",\\\"26\\\",\\\"27\\\",\\\"28\\\",\\\"29\\\",\\\"30\\\",\\\"31\\\",\\\"32\\\",\\\"33\\\",\\\"34\\\",\\\"35\\\",\\\"36\\\",\\\"37\\\",\\\"38\\\",\\\"39\\\",\\\"40\\\",\\\"41\\\",\\\"42\\\",\\\"43\\\",\\\"44\\\",\\\"45\\\",\\\"46\\\",\\\"47\\\",\\\"48\\\",\\\"49\\\",\\\"50\\\",\\\"51\\\",\\\"52\\\",\\\"53\\\",\\\"54\\\",\\\"55\\\",\\\"56\\\",\\\"57\\\",\\\"58\\\",\\\"59\\\",\\\"60\\\",\\\"61\\\",\\\"62\\\",\\\"63\\\",\\\"64\\\",\\\"65\\\",\\\"66\\\",\\\"67\\\",\\\"68\\\",\\\"69\\\",\\\"70\\\",\\\"71\\\",\\\"72\\\",\\\"73\\\",\\\"74\\\",\\\"75\\\",\\\"76\\\",\\\"77\\\",\\\"78\\\",\\\"79\\\",\\\"80\\\",\\\"81\\\",\\\"82\\\",\\\"83\\\",\\\"84\\\",\\\"85\\\",\\\"86\\\",\\\"87\\\",\\\"88\\\",\\\"89\\\",\\\"90\\\",\\\"91\\\",\\\"92\\\",\\\"93\\\",\\\"94\\\",\\\"95\\\",\\\"96\\\",\\\"97\\\",\\\"98\\\",\\\"99\\\",\\\"100\\\"],\\\"changes\\\":WebIO.getval({\\\"name\\\":\\\"changes\\\",\\\"scope\\\":\\\"knockout-component-80a0ed20-d87f-49d5-96a0-2ff2ec0760a9\\\",\\\"id\\\":\\\"ob_02\\\",\\\"type\\\":\\\"observable\\\"}),\\\"index\\\":WebIO.getval({\\\"name\\\":\\\"index\\\",\\\"scope\\\":\\\"knockout-component-80a0ed20-d87f-49d5-96a0-2ff2ec0760a9\\\",\\\"id\\\":\\\"ob_01\\\",\\\"type\\\":\\\"observable\\\"})};\\n    var self = this;\\n    function AppViewModel() {\\n        for (var key in json_data) {\\n            var el = json_data[key];\\n            this[key] = Array.isArray(el) ? ko.observableArray(el) : ko.observable(el);\\n        }\\n        \\n        [this[\\\"formatted_val\\\"]=ko.computed(    function(){\\n        return this.formatted_vals()[parseInt(this.index())-1];\\n    }\\n,this)]\\n        [this[\\\"changes\\\"].subscribe((function (val){!(this.valueFromJulia[\\\"changes\\\"]) ? (WebIO.setval({\\\"name\\\":\\\"changes\\\",\\\"scope\\\":\\\"knockout-component-80a0ed20-d87f-49d5-96a0-2ff2ec0760a9\\\",\\\"id\\\":\\\"ob_02\\\",\\\"type\\\":\\\"observable\\\"},val)) : undefined; return this.valueFromJulia[\\\"changes\\\"]=false}),self),this[\\\"index\\\"].subscribe((function (val){!(this.valueFromJulia[\\\"index\\\"]) ? (WebIO.setval({\\\"name\\\":\\\"index\\\",\\\"scope\\\":\\\"knockout-component-80a0ed20-d87f-49d5-96a0-2ff2ec0760a9\\\",\\\"id\\\":\\\"ob_01\\\",\\\"type\\\":\\\"observable\\\"},val)) : undefined; return this.valueFromJulia[\\\"index\\\"]=false}),self)]\\n        \\n    }\\n    self.model = new AppViewModel();\\n    self.valueFromJulia = {};\\n    for (var key in json_data) {\\n        self.valueFromJulia[key] = false;\\n    }\\n    ko.applyBindings(self.model, self.dom);\\n}\\n);\\n    (WebIO.importBlock({\\\"data\\\":[{\\\"name\\\":\\\"knockout\\\",\\\"type\\\":\\\"js\\\",\\\"url\\\":\\\"\\/assetserver\\/3d990c8b300ed9ac4c90c5b3af2566dfebebe415-knockout.js\\\"},{\\\"name\\\":\\\"knockout_punches\\\",\\\"type\\\":\\\"js\\\",\\\"url\\\":\\\"\\/assetserver\\/6d420f5c7dca3e389c3d537dae2a590074d16537-knockout_punches.js\\\"}],\\\"type\\\":\\\"async_block\\\"})).then((imports) => handler.apply(this, imports));\\n}\\n\"],\"observables\":{\"changes\":{\"sync\":false,\"id\":\"ob_02\",\"value\":0},\"index\":{\"sync\":true,\"id\":\"ob_01\",\"value\":55}}},\"children\":[{\"props\":{\"className\":\"interact-flex-row interact-widget\"},\"nodeType\":\"DOM\",\"type\":\"node\",\"instanceArgs\":{\"namespace\":\"html\",\"tag\":\"div\"},\"children\":[{\"props\":{\"className\":\"interact-flex-row-left\"},\"nodeType\":\"DOM\",\"type\":\"node\",\"instanceArgs\":{\"namespace\":\"html\",\"tag\":\"div\"},\"children\":[{\"props\":{\"className\":\"interact \",\"style\":{\"padding\":\"5px 10px 0px 10px\"}},\"nodeType\":\"DOM\",\"type\":\"node\",\"instanceArgs\":{\"namespace\":\"html\",\"tag\":\"label\"},\"children\":[\"T\"]}]},{\"props\":{\"className\":\"interact-flex-row-center\"},\"nodeType\":\"DOM\",\"type\":\"node\",\"instanceArgs\":{\"namespace\":\"html\",\"tag\":\"div\"},\"children\":[{\"props\":{\"max\":100,\"min\":10,\"attributes\":{\"type\":\"range\",\"data-bind\":\"numericValue: index, valueUpdate: 'input', event: {change: function (){this.changes(this.changes()+1)}}\",\"orient\":\"horizontal\"},\"step\":1,\"className\":\"slider slider is-fullwidth\",\"style\":{}},\"nodeType\":\"DOM\",\"type\":\"node\",\"instanceArgs\":{\"namespace\":\"html\",\"tag\":\"input\"},\"children\":[]}]},{\"props\":{\"className\":\"interact-flex-row-right\"},\"nodeType\":\"DOM\",\"type\":\"node\",\"instanceArgs\":{\"namespace\":\"html\",\"tag\":\"div\"},\"children\":[{\"props\":{\"attributes\":{\"data-bind\":\"text: formatted_val\"}},\"nodeType\":\"DOM\",\"type\":\"node\",\"instanceArgs\":{\"namespace\":\"html\",\"tag\":\"p\"},\"children\":[]}]}]}]}]},{\"props\":{},\"nodeType\":\"Scope\",\"type\":\"node\",\"instanceArgs\":{\"imports\":{\"data\":[],\"type\":\"async_block\"},\"id\":\"scope-d25701ae-b2a3-4dd8-b49e-900d6be14507\",\"handlers\":{},\"systemjs_options\":null,\"mount_callbacks\":[],\"observables\":{\"obs-node\":{\"sync\":false,\"id\":\"ob_06\",\"value\":{\"props\":{\"className\":\"interact-flex-row interact-widget\"},\"nodeType\":\"DOM\",\"type\":\"node\",\"instanceArgs\":{\"namespace\":\"html\",\"tag\":\"div\"},\"children\":[{\"props\":{\"setInnerHtml\":\"<?xml version=\\\"1.0\\\" encoding=\\\"utf-8\\\"?>\\n<svg xmlns=\\\"http:\\/\\/www.w3.org\\/2000\\/svg\\\" xmlns:xlink=\\\"http:\\/\\/www.w3.org\\/1999\\/xlink\\\" width=\\\"614.5\\\" height=\\\"460.75\\\" viewBox=\\\"0 0 2458 1843\\\">\\n<defs>\\n  <clipPath id=\\\"clip2900\\\">\\n    <rect x=\\\"307\\\" y=\\\"138\\\" width=\\\"1967\\\" height=\\\"1475\\\"\\/>\\n  <\\/clipPath>\\n<\\/defs>\\n<defs>\\n  <clipPath id=\\\"clip2901\\\">\\n    <rect x=\\\"0\\\" y=\\\"0\\\" width=\\\"2458\\\" height=\\\"1843\\\"\\/>\\n  <\\/clipPath>\\n<\\/defs>\\n<polyline clip-path=\\\"url(#clip2901)\\\" style=\\\"stroke:#ededed; stroke-width:4.301; stroke-opacity:1; fill:none\\\" points=\\\"\\n  307.25,1575.76 2273.65,1575.76 \\n  \\\"\\/>\\n<polyline clip-path=\\\"url(#clip2901)\\\" style=\\\"stroke:#ededed; stroke-width:4.301; stroke-opacity:1; fill:none\\\" points=\\\"\\n  307.25,1502.05 2273.65,1502.05 \\n  \\\"\\/>\\n<polyline clip-path=\\\"url(#clip2901)\\\" style=\\\"stroke:#cccccc; stroke-width:4.301; stroke-opacity:1; fill:none\\\" points=\\\"\\n  307.25,1428.32 2273.65,1428.32 \\n  \\\"\\/>\\n<polyline clip-path=\\\"url(#clip2901)\\\" style=\\\"stroke:#ededed; stroke-width:4.301; stroke-opacity:1; fill:none\\\" points=\\\"\\n  307.25,1354.61 2273.65,1354.61 \\n  \\\"\\/>\\n<polyline clip-path=\\\"url(#clip2901)\\\" style=\\\"stroke:#ededed; stroke-width:4.301; stroke-opacity:1; fill:none\\\" points=\\\"\\n  307.25,1280.88 2273.65,1280.88 \\n  \\\"\\/>\\n<polyline clip-path=\\\"url(#clip2901)\\\" style=\\\"stroke:#ededed; stroke-width:4.301; stroke-opacity:1; fill:none\\\" points=\\\"\\n  307.25,1207.16 2273.65,1207.16 \\n  \\\"\\/>\\n<polyline clip-path=\\\"url(#clip2901)\\\" style=\\\"stroke:#ededed; stroke-width:4.301; stroke-opacity:1; fill:none\\\" points=\\\"\\n  307.25,1133.44 2273.65,1133.44 \\n  \\\"\\/>\\n<polyline clip-path=\\\"url(#clip2901)\\\" style=\\\"stroke:#cccccc; stroke-width:4.301; stroke-opacity:1; fill:none\\\" points=\\\"\\n  307.25,1059.72 2273.65,1059.72 \\n  \\\"\\/>\\n<polyline clip-path=\\\"url(#clip2901)\\\" style=\\\"stroke:#ededed; stroke-width:4.301; stroke-opacity:1; fill:none\\\" points=\\\"\\n  307.25,986.005 2273.65,986.005 \\n  \\\"\\/>\\n<polyline clip-path=\\\"url(#clip2901)\\\" style=\\\"stroke:#ededed; stroke-width:4.301; stroke-opacity:1; fill:none\\\" points=\\\"\\n  307.25,912.285 2273.65,912.285 \\n  \\\"\\/>\\n<polyline clip-path=\\\"url(#clip2901)\\\" style=\\\"stroke:#ededed; stroke-width:4.301; stroke-opacity:1; fill:none\\\" points=\\\"\\n  307.25,838.565 2273.65,838.565 \\n  \\\"\\/>\\n<polyline clip-path=\\\"url(#clip2901)\\\" style=\\\"stroke:#ededed; stroke-width:4.301; stroke-opacity:1; fill:none\\\" points=\\\"\\n  307.25,764.845 2273.65,764.845 \\n  \\\"\\/>\\n<polyline clip-path=\\\"url(#clip2901)\\\" style=\\\"stroke:#cccccc; stroke-width:4.301; stroke-opacity:1; fill:none\\\" points=\\\"\\n  307.25,691.125 2273.65,691.125 \\n  \\\"\\/>\\n<polyline clip-path=\\\"url(#clip2901)\\\" style=\\\"stroke:#ededed; stroke-width:4.301; stroke-opacity:1; fill:none\\\" points=\\\"\\n  307.25,617.405 2273.65,617.405 \\n  \\\"\\/>\\n<polyline clip-path=\\\"url(#clip2901)\\\" style=\\\"stroke:#ededed; stroke-width:4.301; stroke-opacity:1; fill:none\\\" points=\\\"\\n  307.25,543.685 2273.65,543.685 \\n  \\\"\\/>\\n<polyline clip-path=\\\"url(#clip2901)\\\" style=\\\"stroke:#ededed; stroke-width:4.301; stroke-opacity:1; fill:none\\\" points=\\\"\\n  307.25,469.965 2273.65,469.965 \\n  \\\"\\/>\\n<polyline clip-path=\\\"url(#clip2901)\\\" style=\\\"stroke:#ededed; stroke-width:4.301; stroke-opacity:1; fill:none\\\" points=\\\"\\n  307.25,396.245 2273.65,396.245 \\n  \\\"\\/>\\n<polyline clip-path=\\\"url(#clip2901)\\\" style=\\\"stroke:#cccccc; stroke-width:4.301; stroke-opacity:1; fill:none\\\" points=\\\"\\n  307.25,322.525 2273.65,322.525 \\n  \\\"\\/>\\n<polyline clip-path=\\\"url(#clip2901)\\\" style=\\\"stroke:#ededed; stroke-width:4.301; stroke-opacity:1; fill:none\\\" points=\\\"\\n  307.25,248.805 2273.65,248.805 \\n  \\\"\\/>\\n<polyline clip-path=\\\"url(#clip2901)\\\" style=\\\"stroke:#ededed; stroke-width:4.301; stroke-opacity:1; fill:none\\\" points=\\\"\\n  307.25,175.085 2273.65,175.085 \\n  \\\"\\/>\\n<polyline clip-path=\\\"url(#clip2901)\\\" style=\\\"stroke:#ededed; stroke-width:4.301; stroke-opacity:1; fill:none\\\" points=\\\"\\n  438.343,1612.62 438.343,138.225 \\n  \\\"\\/>\\n<polyline clip-path=\\\"url(#clip2901)\\\" style=\\\"stroke:#ededed; stroke-width:4.301; stroke-opacity:1; fill:none\\\" points=\\\"\\n  569.437,1612.62 569.437,138.225 \\n  \\\"\\/>\\n<polyline clip-path=\\\"url(#clip2901)\\\" style=\\\"stroke:#ededed; stroke-width:4.301; stroke-opacity:1; fill:none\\\" points=\\\"\\n  700.53,1612.62 700.53,138.225 \\n  \\\"\\/>\\n<polyline clip-path=\\\"url(#clip2901)\\\" style=\\\"stroke:#ededed; stroke-width:4.301; stroke-opacity:1; fill:none\\\" points=\\\"\\n  831.623,1612.62 831.623,138.225 \\n  \\\"\\/>\\n<polyline clip-path=\\\"url(#clip2901)\\\" style=\\\"stroke:#cccccc; stroke-width:4.301; stroke-opacity:1; fill:none\\\" points=\\\"\\n  962.717,1612.62 962.717,138.225 \\n  \\\"\\/>\\n<polyline clip-path=\\\"url(#clip2901)\\\" style=\\\"stroke:#ededed; stroke-width:4.301; stroke-opacity:1; fill:none\\\" points=\\\"\\n  1093.81,1612.62 1093.81,138.225 \\n  \\\"\\/>\\n<polyline clip-path=\\\"url(#clip2901)\\\" style=\\\"stroke:#ededed; stroke-width:4.301; stroke-opacity:1; fill:none\\\" points=\\\"\\n  1224.9,1612.62 1224.9,138.225 \\n  \\\"\\/>\\n<polyline clip-path=\\\"url(#clip2901)\\\" style=\\\"stroke:#ededed; stroke-width:4.301; stroke-opacity:1; fill:none\\\" points=\\\"\\n  1356,1612.62 1356,138.225 \\n  \\\"\\/>\\n<polyline clip-path=\\\"url(#clip2901)\\\" style=\\\"stroke:#ededed; stroke-width:4.301; stroke-opacity:1; fill:none\\\" points=\\\"\\n  1487.09,1612.62 1487.09,138.225 \\n  \\\"\\/>\\n<polyline clip-path=\\\"url(#clip2901)\\\" style=\\\"stroke:#cccccc; stroke-width:4.301; stroke-opacity:1; fill:none\\\" points=\\\"\\n  1618.18,1612.62 1618.18,138.225 \\n  \\\"\\/>\\n<polyline clip-path=\\\"url(#clip2901)\\\" style=\\\"stroke:#ededed; stroke-width:4.301; stroke-opacity:1; fill:none\\\" points=\\\"\\n  1749.28,1612.62 1749.28,138.225 \\n  \\\"\\/>\\n<polyline clip-path=\\\"url(#clip2901)\\\" style=\\\"stroke:#ededed; stroke-width:4.301; stroke-opacity:1; fill:none\\\" points=\\\"\\n  1880.37,1612.62 1880.37,138.225 \\n  \\\"\\/>\\n<polyline clip-path=\\\"url(#clip2901)\\\" style=\\\"stroke:#ededed; stroke-width:4.301; stroke-opacity:1; fill:none\\\" points=\\\"\\n  2011.46,1612.62 2011.46,138.225 \\n  \\\"\\/>\\n<polyline clip-path=\\\"url(#clip2901)\\\" style=\\\"stroke:#ededed; stroke-width:4.301; stroke-opacity:1; fill:none\\\" points=\\\"\\n  2142.56,1612.62 2142.56,138.225 \\n  \\\"\\/>\\n<polyline clip-path=\\\"url(#clip2901)\\\" style=\\\"stroke:#cccccc; stroke-width:4.301; stroke-opacity:1; fill:none\\\" points=\\\"\\n  2273.65,1612.62 2273.65,138.225 \\n  \\\"\\/>\\n<g clip-path=\\\"url(#clip2901)\\\">\\n<text style=\\\"fill:#000000; fill-opacity:1; font-family:Arial,Helvetica Neue,Helvetica,sans-serif; font-size:60px; text-anchor:start;\\\" transform=\\\"rotate(0, 254.554, 1445.8)\\\" x=\\\"254.554\\\" y=\\\"1445.8\\\">0<\\/text>\\n<\\/g>\\n<g clip-path=\\\"url(#clip2901)\\\">\\n<text style=\\\"fill:#000000; fill-opacity:1; font-family:Arial,Helvetica Neue,Helvetica,sans-serif; font-size:60px; text-anchor:start;\\\" transform=\\\"rotate(0, 254.554, 1077.2)\\\" x=\\\"254.554\\\" y=\\\"1077.2\\\">2<\\/text>\\n<\\/g>\\n<g clip-path=\\\"url(#clip2901)\\\">\\n<text style=\\\"fill:#000000; fill-opacity:1; font-family:Arial,Helvetica Neue,Helvetica,sans-serif; font-size:60px; text-anchor:start;\\\" transform=\\\"rotate(0, 254.554, 708.597)\\\" x=\\\"254.554\\\" y=\\\"708.597\\\">4<\\/text>\\n<\\/g>\\n<g clip-path=\\\"url(#clip2901)\\\">\\n<text style=\\\"fill:#000000; fill-opacity:1; font-family:Arial,Helvetica Neue,Helvetica,sans-serif; font-size:60px; text-anchor:start;\\\" transform=\\\"rotate(0, 254.554, 339.997)\\\" x=\\\"254.554\\\" y=\\\"339.997\\\">6<\\/text>\\n<\\/g>\\n<polyline clip-path=\\\"url(#clip2901)\\\" style=\\\"stroke:#000000; stroke-width:4.301; stroke-opacity:1; fill:none\\\" points=\\\"\\n  307.25,1612.62 307.25,1575.76 325.685,1575.76 307.25,1575.76 307.25,1502.05 325.685,1502.05 307.25,1502.05 307.25,1428.32 344.12,1428.32 307.25,1428.32 \\n  307.25,1354.61 325.685,1354.61 307.25,1354.61 307.25,1280.88 325.685,1280.88 307.25,1280.88 307.25,1207.16 325.685,1207.16 307.25,1207.16 307.25,1133.44 \\n  325.685,1133.44 307.25,1133.44 307.25,1059.72 344.12,1059.72 307.25,1059.72 307.25,986.005 325.685,986.005 307.25,986.005 307.25,912.285 325.685,912.285 \\n  307.25,912.285 307.25,838.565 325.685,838.565 307.25,838.565 307.25,764.845 325.685,764.845 307.25,764.845 307.25,691.125 344.12,691.125 307.25,691.125 \\n  307.25,617.405 325.685,617.405 307.25,617.405 307.25,543.685 325.685,543.685 307.25,543.685 307.25,469.965 325.685,469.965 307.25,469.965 307.25,396.245 \\n  325.685,396.245 307.25,396.245 307.25,322.525 344.12,322.525 307.25,322.525 307.25,248.805 325.685,248.805 307.25,248.805 307.25,175.085 325.685,175.085 \\n  307.25,175.085 307.25,138.225 \\n  \\\"\\/>\\n<g clip-path=\\\"url(#clip2901)\\\">\\n<text style=\\\"fill:#000000; fill-opacity:1; font-family:Arial,Helvetica Neue,Helvetica,sans-serif; font-size:60px; text-anchor:start;\\\" transform=\\\"rotate(0, 290.119, 1685.9)\\\" x=\\\"290.119\\\" y=\\\"1685.9\\\">0<\\/text>\\n<\\/g>\\n<g clip-path=\\\"url(#clip2901)\\\">\\n<text style=\\\"fill:#000000; fill-opacity:1; font-family:Arial,Helvetica Neue,Helvetica,sans-serif; font-size:60px; text-anchor:start;\\\" transform=\\\"rotate(0, 928.455, 1685.9)\\\" x=\\\"928.455\\\" y=\\\"1685.9\\\">20<\\/text>\\n<\\/g>\\n<g clip-path=\\\"url(#clip2901)\\\">\\n<text style=\\\"fill:#000000; fill-opacity:1; font-family:Arial,Helvetica Neue,Helvetica,sans-serif; font-size:60px; text-anchor:start;\\\" transform=\\\"rotate(0, 1583.92, 1685.9)\\\" x=\\\"1583.92\\\" y=\\\"1685.9\\\">40<\\/text>\\n<\\/g>\\n<g clip-path=\\\"url(#clip2901)\\\">\\n<text style=\\\"fill:#000000; fill-opacity:1; font-family:Arial,Helvetica Neue,Helvetica,sans-serif; font-size:60px; text-anchor:start;\\\" transform=\\\"rotate(0, 2239.39, 1685.9)\\\" x=\\\"2239.39\\\" y=\\\"1685.9\\\">60<\\/text>\\n<\\/g>\\n<polyline clip-path=\\\"url(#clip2901)\\\" style=\\\"stroke:#000000; stroke-width:4.301; stroke-opacity:1; fill:none\\\" points=\\\"\\n  307.25,1612.62 307.25,1612.62 307.25,1575.76 307.25,1612.62 438.343,1612.62 438.343,1594.19 438.343,1612.62 569.437,1612.62 569.437,1594.19 569.437,1612.62 \\n  700.53,1612.62 700.53,1594.19 700.53,1612.62 831.623,1612.62 831.623,1594.19 831.623,1612.62 962.717,1612.62 962.717,1575.76 962.717,1612.62 1093.81,1612.62 \\n  1093.81,1594.19 1093.81,1612.62 1224.9,1612.62 1224.9,1594.19 1224.9,1612.62 1356,1612.62 1356,1594.19 1356,1612.62 1487.09,1612.62 1487.09,1594.19 \\n  1487.09,1612.62 1618.18,1612.62 1618.18,1575.76 1618.18,1612.62 1749.28,1612.62 1749.28,1594.19 1749.28,1612.62 1880.37,1612.62 1880.37,1594.19 1880.37,1612.62 \\n  2011.46,1612.62 2011.46,1594.19 2011.46,1612.62 2142.56,1612.62 2142.56,1594.19 2142.56,1612.62 2273.65,1612.62 2273.65,1575.76 2273.65,1612.62 \\n  \\n  \\\"\\/>\\n<polyline clip-path=\\\"url(#clip2901)\\\" style=\\\"stroke:#000000; stroke-width:4.301; stroke-opacity:1; fill:none\\\" points=\\\"\\n  2273.65,1612.62 2273.65,1575.76 2255.22,1575.76 2273.65,1575.76 2273.65,1502.05 2255.22,1502.05 2273.65,1502.05 2273.65,1428.32 2236.78,1428.32 2273.65,1428.32 \\n  2273.65,1354.61 2255.22,1354.61 2273.65,1354.61 2273.65,1280.88 2255.22,1280.88 2273.65,1280.88 2273.65,1207.16 2255.22,1207.16 2273.65,1207.16 2273.65,1133.44 \\n  2255.22,1133.44 2273.65,1133.44 2273.65,1059.72 2236.78,1059.72 2273.65,1059.72 2273.65,986.005 2255.22,986.005 2273.65,986.005 2273.65,912.285 2255.22,912.285 \\n  2273.65,912.285 2273.65,838.565 2255.22,838.565 2273.65,838.565 2273.65,764.845 2255.22,764.845 2273.65,764.845 2273.65,691.125 2236.78,691.125 2273.65,691.125 \\n  2273.65,617.405 2255.22,617.405 2273.65,617.405 2273.65,543.685 2255.22,543.685 2273.65,543.685 2273.65,469.965 2255.22,469.965 2273.65,469.965 2273.65,396.245 \\n  2255.22,396.245 2273.65,396.245 2273.65,322.525 2236.78,322.525 2273.65,322.525 2273.65,248.805 2255.22,248.805 2273.65,248.805 2273.65,175.085 2255.22,175.085 \\n  2273.65,175.085 2273.65,138.225 \\n  \\\"\\/>\\n<polyline clip-path=\\\"url(#clip2901)\\\" style=\\\"stroke:#000000; stroke-width:4.301; stroke-opacity:1; fill:none\\\" points=\\\"\\n  307.25,138.225 307.25,138.225 307.25,175.085 307.25,138.225 438.343,138.225 438.343,156.655 438.343,138.225 569.437,138.225 569.437,156.655 569.437,138.225 \\n  700.53,138.225 700.53,156.655 700.53,138.225 831.623,138.225 831.623,156.655 831.623,138.225 962.717,138.225 962.717,175.085 962.717,138.225 1093.81,138.225 \\n  1093.81,156.655 1093.81,138.225 1224.9,138.225 1224.9,156.655 1224.9,138.225 1356,138.225 1356,156.655 1356,138.225 1487.09,138.225 1487.09,156.655 \\n  1487.09,138.225 1618.18,138.225 1618.18,175.085 1618.18,138.225 1749.28,138.225 1749.28,156.655 1749.28,138.225 1880.37,138.225 1880.37,156.655 1880.37,138.225 \\n  2011.46,138.225 2011.46,156.655 2011.46,138.225 2142.56,138.225 2142.56,156.655 2142.56,138.225 2273.65,138.225 2273.65,175.085 2273.65,138.225 \\n  \\n  \\\"\\/>\\n<polyline clip-path=\\\"url(#clip2900)\\\" style=\\\"stroke:#00528a; stroke-width:4.301; stroke-opacity:1; fill:none\\\" points=\\\"\\n  307.25,1428.32 340.023,1244.02 372.797,1059.72 405.57,1244.02 438.343,1428.32 471.117,1244.02 503.89,1428.32 536.663,1612.62 569.437,1428.32 602.21,1244.02 \\n  634.983,1428.32 667.757,1612.62 700.53,1428.32 733.303,1612.62 766.077,1428.32 798.85,1244.02 831.623,1059.72 864.397,875.425 897.17,691.125 929.943,875.425 \\n  962.717,691.125 995.49,875.425 1028.26,1059.72 1061.04,875.425 1093.81,691.125 1126.58,506.825 1159.36,322.525 1192.13,138.225 1224.9,322.525 1257.68,506.825 \\n  1290.45,691.125 1323.22,875.425 1356,691.125 1388.77,875.425 1421.54,1059.72 1454.32,875.425 1487.09,1059.72 1519.86,875.425 1552.64,1059.72 1585.41,875.425 \\n  1618.18,1059.72 1650.96,875.425 1683.73,1059.72 1716.5,875.425 1749.28,1059.72 1782.05,875.425 1814.82,1059.72 1847.6,875.425 1880.37,1059.72 1913.14,1244.02 \\n  1945.92,1428.32 1978.69,1244.02 2011.46,1428.32 2044.24,1244.02 2077.01,1428.32 2109.78,1612.62 \\n  \\\"\\/>\\n<\\/svg>\\n\"},\"nodeType\":\"DOM\",\"type\":\"node\",\"instanceArgs\":{\"namespace\":\"html\",\"tag\":\"div\"},\"children\":[]}]}}}},\"children\":[{\"props\":{},\"nodeType\":\"ObservableNode\",\"type\":\"node\",\"instanceArgs\":{\"id\":\"ob_06\",\"name\":\"obs-node\"},\"children\":[]}]}]},\n",
       "            window,\n",
       "        );\n",
       "    } else {\n",
       "        document\n",
       "            .querySelector('[data-webio-mountpoint=\"3573614328931464636\"]')\n",
       "            .innerHTML = '<strong>WebIO not detected.</strong>';\n",
       "    }\n",
       "    </script>\n",
       "</div>\n"
      ],
      "text/plain": [
       "Node{WebIO.DOM}(WebIO.DOM(:html, :div), Any[Node{DOM}(DOM(:html, :div), Any[Scope(\"knockout-component-80a0ed20-d87f-49d5-96a0-2ff2ec0760a9\", Node{DOM}(DOM(:html, :div), Any[Node{DOM}(DOM(:html, :div), Any[Node{DOM}(DOM(:html, :label), Any[\"T\"], Dict{Symbol,Any}(:className=>\"interact \",:style=>Dict{Any,Any}(:padding=>\"5px 10px 0px 10px\")), 1)], Dict{Symbol,Any}(:className=>\"interact-flex-row-left\"), 2), Node{DOM}(DOM(:html, :div), Any[Node{DOM}(DOM(:html, :input), Any[], Dict{Symbol,Any}(:max=>100,:min=>10,:attributes=>Dict{Any,Any}(:type=>\"range\",Symbol(\"data-bind\")=>\"numericValue: index, valueUpdate: 'input', event: {change: function (){this.changes(this.changes()+1)}}\",\"orient\"=>\"horizontal\"),:step=>1,:className=>\"slider slider is-fullwidth\",:style=>Dict{Any,Any}()), 0)], Dict{Symbol,Any}(:className=>\"interact-flex-row-center\"), 1), Node{DOM}(DOM(:html, :div), Any[Node{DOM}(DOM(:html, :p), Any[], Dict{Symbol,Any}(:attributes=>Dict(\"data-bind\"=>\"text: formatted_val\")), 0)], Dict{Symbol,Any}(:className=>\"interact-flex-row-right\"), 1)], Dict{Symbol,Any}(:className=>\"interact-flex-row interact-widget\"), 7), Dict{String,Tuple{Observables.AbstractObservable,Union{Nothing, Bool}}}(\"changes\"=>(Observable{Int64} with 1 listeners. Value:\n",
       "0, nothing),\"index\"=>(Observable{Int64} with 2 listeners. Value:\n",
       "55, nothing)), Set(String[]), nothing, Asset[Asset(\"js\", \"knockout\", \"/Users/roger/.julia/packages/Knockout/JE2Yq/src/../assets/knockout.js\"), Asset(\"js\", \"knockout_punches\", \"/Users/roger/.julia/packages/Knockout/JE2Yq/src/../assets/knockout_punches.js\"), Asset(\"js\", nothing, \"/Users/roger/.julia/packages/InteractBase/R8JgH/src/../assets/all.js\"), Asset(\"css\", nothing, \"/Users/roger/.julia/packages/InteractBase/R8JgH/src/../assets/style.css\"), Asset(\"css\", nothing, \"/Users/roger/.julia/packages/Interact/0klKX/src/../assets/bulma_confined.min.css\")], Dict{Any,Any}(\"changes\"=>Any[JSString(\"(function (val){return (val!=this.model[\\\"changes\\\"]()) ? (this.valueFromJulia[\\\"changes\\\"]=true, this.model[\\\"changes\\\"](val)) : undefined})\")],\"index\"=>Any[JSString(\"(function (val){return (val!=this.model[\\\"index\\\"]()) ? (this.valueFromJulia[\\\"index\\\"]=true, this.model[\\\"index\\\"](val)) : undefined})\")]), ConnectionPool(Channel{Any}(sz_max:9223372036854775807,sz_curr:0), Set(AbstractConnection[]), Channel{AbstractConnection}(sz_max:32,sz_curr:0)), WebIO.JSString[JSString(\"function () {\\n    var handler = (function (ko, koPunches) {\\n    ko.punches.enableAll();\\n    ko.bindingHandlers.numericValue = {\\n        init : function(element, valueAccessor, allBindings, data, context) {\\n            var stringified = ko.observable(ko.unwrap(valueAccessor()));\\n            stringified.subscribe(function(value) {\\n                var val = parseFloat(value);\\n                if (!isNaN(val)) {\\n                    valueAccessor()(val);\\n                }\\n            })\\n            valueAccessor().subscribe(function(value) {\\n                var str = JSON.stringify(value);\\n                if ((str == \\\"0\\\") && ([\\\"-0\\\", \\\"-0.\\\"].indexOf(stringified()) >= 0))\\n                     return;\\n                 if ([\\\"null\\\", \\\"\\\"].indexOf(str) >= 0)\\n                     return;\\n                stringified(str);\\n            })\\n            ko.applyBindingsToNode(element, { value: stringified, valueUpdate: allBindings.get('valueUpdate')}, context);\\n        }\\n    };\\n    var json_data = {\\\"formatted_vals\\\":[\\\"10\\\",\\\"11\\\",\\\"12\\\",\\\"13\\\",\\\"14\\\",\\\"15\\\",\\\"16\\\",\\\"17\\\",\\\"18\\\",\\\"19\\\",\\\"20\\\",\\\"21\\\",\\\"22\\\",\\\"23\\\",\\\"24\\\",\\\"25\\\",\\\"26\\\",\\\"27\\\",\\\"28\\\",\\\"29\\\",\\\"30\\\",\\\"31\\\",\\\"32\\\",\\\"33\\\",\\\"34\\\",\\\"35\\\",\\\"36\\\",\\\"37\\\",\\\"38\\\",\\\"39\\\",\\\"40\\\",\\\"41\\\",\\\"42\\\",\\\"43\\\",\\\"44\\\",\\\"45\\\",\\\"46\\\",\\\"47\\\",\\\"48\\\",\\\"49\\\",\\\"50\\\",\\\"51\\\",\\\"52\\\",\\\"53\\\",\\\"54\\\",\\\"55\\\",\\\"56\\\",\\\"57\\\",\\\"58\\\",\\\"59\\\",\\\"60\\\",\\\"61\\\",\\\"62\\\",\\\"63\\\",\\\"64\\\",\\\"65\\\",\\\"66\\\",\\\"67\\\",\\\"68\\\",\\\"69\\\",\\\"70\\\",\\\"71\\\",\\\"72\\\",\\\"73\\\",\\\"74\\\",\\\"75\\\",\\\"76\\\",\\\"77\\\",\\\"78\\\",\\\"79\\\",\\\"80\\\",\\\"81\\\",\\\"82\\\",\\\"83\\\",\\\"84\\\",\\\"85\\\",\\\"86\\\",\\\"87\\\",\\\"88\\\",\\\"89\\\",\\\"90\\\",\\\"91\\\",\\\"92\\\",\\\"93\\\",\\\"94\\\",\\\"95\\\",\\\"96\\\",\\\"97\\\",\\\"98\\\",\\\"99\\\",\\\"100\\\"],\\\"changes\\\":WebIO.getval({\\\"name\\\":\\\"changes\\\",\\\"scope\\\":\\\"knockout-component-80a0ed20-d87f-49d5-96a0-2ff2ec0760a9\\\",\\\"id\\\":\\\"ob_02\\\",\\\"type\\\":\\\"observable\\\"}),\\\"index\\\":WebIO.getval({\\\"name\\\":\\\"index\\\",\\\"scope\\\":\\\"knockout-component-80a0ed20-d87f-49d5-96a0-2ff2ec0760a9\\\",\\\"id\\\":\\\"ob_01\\\",\\\"type\\\":\\\"observable\\\"})};\\n    var self = this;\\n    function AppViewModel() {\\n        for (var key in json_data) {\\n            var el = json_data[key];\\n            this[key] = Array.isArray(el) ? ko.observableArray(el) : ko.observable(el);\\n        }\\n        \\n        [this[\\\"formatted_val\\\"]=ko.computed(    function(){\\n        return this.formatted_vals()[parseInt(this.index())-1];\\n    }\\n,this)]\\n        [this[\\\"changes\\\"].subscribe((function (val){!(this.valueFromJulia[\\\"changes\\\"]) ? (WebIO.setval({\\\"name\\\":\\\"changes\\\",\\\"scope\\\":\\\"knockout-component-80a0ed20-d87f-49d5-96a0-2ff2ec0760a9\\\",\\\"id\\\":\\\"ob_02\\\",\\\"type\\\":\\\"observable\\\"},val)) : undefined; return this.valueFromJulia[\\\"changes\\\"]=false}),self),this[\\\"index\\\"].subscribe((function (val){!(this.valueFromJulia[\\\"index\\\"]) ? (WebIO.setval({\\\"name\\\":\\\"index\\\",\\\"scope\\\":\\\"knockout-component-80a0ed20-d87f-49d5-96a0-2ff2ec0760a9\\\",\\\"id\\\":\\\"ob_01\\\",\\\"type\\\":\\\"observable\\\"},val)) : undefined; return this.valueFromJulia[\\\"index\\\"]=false}),self)]\\n        \\n    }\\n    self.model = new AppViewModel();\\n    self.valueFromJulia = {};\\n    for (var key in json_data) {\\n        self.valueFromJulia[key] = false;\\n    }\\n    ko.applyBindings(self.model, self.dom);\\n}\\n);\\n    (WebIO.importBlock({\\\"data\\\":[{\\\"name\\\":\\\"knockout\\\",\\\"type\\\":\\\"js\\\",\\\"url\\\":\\\"/assetserver/3d990c8b300ed9ac4c90c5b3af2566dfebebe415-knockout.js\\\"},{\\\"name\\\":\\\"knockout_punches\\\",\\\"type\\\":\\\"js\\\",\\\"url\\\":\\\"/assetserver/6d420f5c7dca3e389c3d537dae2a590074d16537-knockout_punches.js\\\"}],\\\"type\\\":\\\"async_block\\\"})).then((imports) => handler.apply(this, imports));\\n}\\n\")])], Dict{Symbol,Any}(:className=>\"field interact-widget\"), 1), Observable{Any} with 0 listeners. Value:\n",
       "Node{DOM}(DOM(:html, :div), Any[SVG(UInt8[0x3c, 0x3f, 0x78, 0x6d, 0x6c, 0x20, 0x76, 0x65, 0x72, 0x73  …  0x2f, 0x3e, 0x0a, 0x3c, 0x2f, 0x73, 0x76, 0x67, 0x3e, 0x0a])], Dict{Symbol,Any}(:className=>\"interact-flex-row interact-widget\"), 1)], Dict{Symbol,Any}(), 2)"
      ]
     },
     "execution_count": 36,
     "metadata": {
      "application/vnd.webio.node+json": {
       "kernelId": "88a2d21a-13bf-49c9-ae87-148aede73346"
      }
     },
     "output_type": "execute_result"
    }
   ],
   "source": [
    "@manipulate for T in 10:100\n",
    "    plot(0:T, walk(T))\n",
    "end"
   ]
  },
  {
   "cell_type": "markdown",
   "metadata": {
    "slideshow": {
     "slide_type": "subslide"
    }
   },
   "source": [
    "### 存储数据\n",
    "\n",
    "Julia 支持存储为空格或者其他符合分割的`dlm`格式，或者也可以存到 `csv` 格式，但是我更加推荐使用Julia自带的数据序列化工具 `JLD2`，JLD文件类型是基于一种高效的存储格式HDF5的，而 `JLD2` 是一个纯Julia实现的跨平台序列化工具，像Python的pickle一样，你可以将任何Julia对象存下来。"
   ]
  },
  {
   "cell_type": "code",
   "execution_count": 37,
   "metadata": {},
   "outputs": [
    {
     "ename": "ArgumentError",
     "evalue": "ArgumentError: Package JLD2 not found in current path:\n- Run `import Pkg; Pkg.add(\"JLD2\")` to install the JLD2 package.\n",
     "output_type": "error",
     "traceback": [
      "ArgumentError: Package JLD2 not found in current path:\n- Run `import Pkg; Pkg.add(\"JLD2\")` to install the JLD2 package.\n",
      "",
      "Stacktrace:",
      " [1] require(::Module, ::Symbol) at ./loading.jl:823",
      " [2] top-level scope at In[37]:1"
     ]
    }
   ],
   "source": [
    "using JLD2\n",
    "\n",
    "traj = walk(1000)\n",
    "\n",
    "@save \"data.jld2\" traj"
   ]
  },
  {
   "cell_type": "code",
   "execution_count": 38,
   "metadata": {},
   "outputs": [
    {
     "ename": "LoadError",
     "evalue": "UndefVarError: @load not defined",
     "output_type": "error",
     "traceback": [
      "UndefVarError: @load not defined",
      ""
     ]
    }
   ],
   "source": [
    "@load \"data.jld2\" traj\n",
    "typeof(traj)"
   ]
  },
  {
   "cell_type": "markdown",
   "metadata": {
    "slideshow": {
     "slide_type": "slide"
    }
   },
   "source": [
    "## Julia语言的编程范式\n",
    "\n",
    "Julia里所有的一切都是对象，但是和面向对象语言围绕对象设计程序不同，Julia的程序设计以围绕method进行，我们称为method oriented programming。"
   ]
  },
  {
   "cell_type": "markdown",
   "metadata": {
    "slideshow": {
     "slide_type": "subslide"
    }
   },
   "source": [
    "## 定义一个复数类型\n",
    "\n",
    "复数是很多数值计算和数据分析算法都会用到的类型，然而一般的处理器上并不是自带复数类型的，我们往往使用两倍精度的浮点数来模拟一个复数，例如在 `C` 语言里，双精度的复数可以写作：\n",
    "\n",
    "```c\n",
    "double _Complex a;\n",
    "```\n",
    "\n",
    "或者在 `C++` 中，双精度的复数可以写作：\n",
    "\n",
    "```c++\n",
    "std::complex<double> a;\n",
    "```\n",
    "\n",
    "在 `Python` 里，没有显示类型，但是我们可以使用 `j`：\n",
    "\n",
    "```ipython\n",
    "In [1]: 1 + 1.j\n",
    "Out[1]: (1+1j)\n",
    "```"
   ]
  },
  {
   "cell_type": "markdown",
   "metadata": {
    "slideshow": {
     "slide_type": "subslide"
    }
   },
   "source": [
    "而实际上和 `C`/`C++` 一样，Julia的复数类型也是纯Julia实现的，我们这里会简单地实现一个复数类型 `MyComplex`。Julia的类型使用 `struct` 关键字，然后用 `end` 表示这一段表达式的结束。每个Julia类型有一个默认的构造函数，这个构造函数的变量即为类型声明的成员。"
   ]
  },
  {
   "cell_type": "code",
   "execution_count": 39,
   "metadata": {},
   "outputs": [
    {
     "data": {
      "text/plain": [
       "MyComplex(1.0, 2.0)"
      ]
     },
     "execution_count": 39,
     "metadata": {},
     "output_type": "execute_result"
    }
   ],
   "source": [
    "struct MyComplex\n",
    "    real::Float64\n",
    "    imag::Float64\n",
    "end\n",
    "\n",
    "# 一个复数就是 MyComplex 类型的一个实例，也就是一种对象\n",
    "a = MyComplex(1.0, 2.0)"
   ]
  },
  {
   "cell_type": "code",
   "execution_count": 40,
   "metadata": {},
   "outputs": [
    {
     "data": {
      "text/plain": [
       "1.0"
      ]
     },
     "execution_count": 40,
     "metadata": {},
     "output_type": "execute_result"
    }
   ],
   "source": [
    "a.real"
   ]
  },
  {
   "cell_type": "code",
   "execution_count": 41,
   "metadata": {},
   "outputs": [
    {
     "data": {
      "text/plain": [
       "2.0"
      ]
     },
     "execution_count": 41,
     "metadata": {},
     "output_type": "execute_result"
    }
   ],
   "source": [
    "a.imag"
   ]
  },
  {
   "cell_type": "markdown",
   "metadata": {
    "slideshow": {
     "slide_type": "subslide"
    }
   },
   "source": [
    "但是仅仅声明了类型还远远不够，我们还需要对复数定义复数运算，方便起见我们这里仅重载 `*` 算符：\n",
    "\n",
    "$$\n",
    "(a + b \\cdot i) (c + d \\cdot i) = (ac - bd) + (ad + bc)i\n",
    "$$\n",
    "\n",
    "\n",
    "首先我们需要将要重载的东西从 `Base` 模块中拿出来（而不是自己声明一个新的，为什么？留给大家之后思考），在Julia里，**运算符** 只是一种特殊的函数，并不会被特别对待"
   ]
  },
  {
   "cell_type": "code",
   "execution_count": 42,
   "metadata": {},
   "outputs": [
    {
     "data": {
      "text/plain": [
       "* (generic function with 433 methods)"
      ]
     },
     "execution_count": 42,
     "metadata": {},
     "output_type": "execute_result"
    }
   ],
   "source": [
    "import Base: *\n",
    "\n",
    "*(a::MyComplex, b::MyComplex) = MyComplex(a.real * b.real - a.imag * b.imag, a.real * b.imag + a.imag * b.real)"
   ]
  },
  {
   "cell_type": "code",
   "execution_count": 43,
   "metadata": {},
   "outputs": [
    {
     "data": {
      "text/plain": [
       "MyComplex(-5.0, 5.0)"
      ]
     },
     "execution_count": 43,
     "metadata": {},
     "output_type": "execute_result"
    }
   ],
   "source": [
    "b = MyComplex(1.0, 3.0)\n",
    "\n",
    "a * b"
   ]
  },
  {
   "cell_type": "markdown",
   "metadata": {
    "slideshow": {
     "slide_type": "subslide"
    }
   },
   "source": [
    "现在输出不是很好看，我们重载一下 `show` 方法把默认打印出来的字符串修改一下，这里字符串里的 `$` 是字符串插入，可以将一个Julia表达式的输出转换为字符串（ `String` 类型）然后插入到字符串里。"
   ]
  },
  {
   "cell_type": "code",
   "execution_count": 44,
   "metadata": {},
   "outputs": [
    {
     "data": {
      "text/plain": [
       "show (generic function with 482 methods)"
      ]
     },
     "execution_count": 44,
     "metadata": {},
     "output_type": "execute_result"
    }
   ],
   "source": [
    "import Base: show\n",
    "\n",
    "show(io::IO, ::MIME\"text/plain\", x::MyComplex) = print(io, \"$(x.real) + $(x.imag)im\")"
   ]
  },
  {
   "cell_type": "code",
   "execution_count": 45,
   "metadata": {},
   "outputs": [
    {
     "data": {
      "text/plain": [
       "-5.0 + 5.0im"
      ]
     },
     "execution_count": 45,
     "metadata": {},
     "output_type": "execute_result"
    }
   ],
   "source": [
    "a * b"
   ]
  },
  {
   "cell_type": "markdown",
   "metadata": {
    "slideshow": {
     "slide_type": "subslide"
    }
   },
   "source": [
    "## 任意精度的复数类型\n",
    "\n",
    "我们已经有了一个简单的复数类型，但是实际上真正在用的时候，我们可能会需要不同精度的复数类型，例如使用 `32`位浮点精度的复数类型。为了能够使用不同的复数类型，我们需要使用参数类型，而复数的实部和虚部都是实数，我们还需要限制其类型范围"
   ]
  },
  {
   "cell_type": "code",
   "execution_count": 46,
   "metadata": {},
   "outputs": [],
   "source": [
    "struct MyComplex2{T <: Real}\n",
    "    real::T\n",
    "    imag::T\n",
    "end"
   ]
  },
  {
   "cell_type": "markdown",
   "metadata": {},
   "source": [
    "参数类型也有默认的构造函数"
   ]
  },
  {
   "cell_type": "code",
   "execution_count": 47,
   "metadata": {},
   "outputs": [
    {
     "data": {
      "text/plain": [
       "MyComplex2{Float32}(1.0f0, 2.0f0)"
      ]
     },
     "execution_count": 47,
     "metadata": {},
     "output_type": "execute_result"
    }
   ],
   "source": [
    "MyComplex2{Float32}(1.0f0, 2.0f0)"
   ]
  },
  {
   "cell_type": "markdown",
   "metadata": {
    "slideshow": {
     "slide_type": "subslide"
    }
   },
   "source": [
    "但是实际上你还可以定义一些自己的构造函数，在 Julia 里因为是没有 `class` 的，除了 **构造函数** 以外的方法都不能写在类型声明内部。而一旦你在类型声明中声明了一个自己的构造函数，**默认的构造将被覆盖**。比如试试下面这个例子"
   ]
  },
  {
   "cell_type": "code",
   "execution_count": 48,
   "metadata": {
    "slideshow": {
     "slide_type": "-"
    }
   },
   "outputs": [
    {
     "data": {
      "text/plain": [
       "MyComplex3{Float64}(1.0, 0.0)"
      ]
     },
     "execution_count": 48,
     "metadata": {},
     "output_type": "execute_result"
    }
   ],
   "source": [
    "struct MyComplex3{T <: Real}\n",
    "    real::T\n",
    "    imag::T\n",
    "\n",
    "    MyComplex3(real::T) where {T <: Real} = new{T}(real, 0)\n",
    "end\n",
    "\n",
    "MyComplex3(1.0)"
   ]
  },
  {
   "cell_type": "markdown",
   "metadata": {
    "slideshow": {
     "slide_type": "subslide"
    }
   },
   "source": [
    "### 什么时候用内部构造函数，什么时候用外部构造函数？\n",
    "\n",
    "内部构造函数往往是为了在生成这个实例前做一些预处理（例如判断输入变量是否符合要求等）更详细的例子请参见文档：[英文](https://docs.julialang.org/en/latest/manual/constructors/)\n"
   ]
  },
  {
   "cell_type": "markdown",
   "metadata": {
    "slideshow": {
     "slide_type": "slide"
    }
   },
   "source": [
    "## 多重派发和Julia的编程范式\n",
    "\n",
    "Julia语言是没有 `class` 的，但这并不意味着 Julia 无法有效的组织程序和进行抽象，Julia对象的方法（method）通过 **多重派发** 和 **类型树** 进行分配，而不依赖于 `class` 这种结构。"
   ]
  },
  {
   "cell_type": "markdown",
   "metadata": {
    "slideshow": {
     "slide_type": "subslide"
    }
   },
   "source": [
    "想了解什么是多重派发，我们要先从**单重派发（single dispatch）** 说起，大部分支持 `class` 的语言都是单重派发，我再用 `Python` 举个例子，Python 3.4有一个的提案（[PEP 443](https://www.python.org/dev/peps/pep-0443/)）里有一个对单重派发通用函数的提案：\n",
    "\n",
    "```python\n",
    "from functools import singledispatch\n",
    "\n",
    "@singledispatch\n",
    "def fun(arg, verbose=Falase):\n",
    "    print(arg)\n",
    "    \n",
    "@fun.register(int)\n",
    "def _(arg, verbose=False):\n",
    "    print(arg)\n",
    "```"
   ]
  },
  {
   "cell_type": "markdown",
   "metadata": {
    "slideshow": {
     "slide_type": "-"
    }
   },
   "source": [
    "虽然说 `C++` 有函数重载（也被称为静态多重派发，static multiple dispatch）但是由于类型信息的确实，无法处理动态类型的情况\n",
    "\n",
    "\n",
    "```C++\n",
    "#include <iostream>\n",
    "\n",
    "struct A {};\n",
    "struct B : public A {};\n",
    "\n",
    "class Foo {\n",
    "public:\n",
    "    virtual void wooo(A *a, A *b) { std::cout << \"A/A\" << std::endl; };\n",
    "    virtual void wooo(A *a, B *b) { std::cout << \"A/B\" << std::endl; };\n",
    "};\n",
    "```"
   ]
  },
  {
   "cell_type": "markdown",
   "metadata": {
    "slideshow": {
     "slide_type": "subslide"
    }
   },
   "source": [
    "```c++\n",
    "void CallMyFn(Foo *p, A *arg1, A *arg2) {\n",
    "    p->wooo(arg1, arg2);\n",
    "}\n",
    "\n",
    "int main(int argc, char const *argv[]) {\n",
    "    Foo *f = new Foo();\n",
    "    A *a = new A(); B *b = new B();\n",
    "    CallMyFn(f, a, b);\n",
    "    return 0;\n",
    "}\n",
    "```"
   ]
  },
  {
   "cell_type": "markdown",
   "metadata": {
    "slideshow": {
     "slide_type": "subslide"
    }
   },
   "source": [
    "运行上面的 `C++` 代码将会得到\n",
    "\n",
    "```sh\n",
    "A/A\n",
    "```\n",
    "\n",
    "而我们预期的是\n",
    "\n",
    "```sh\n",
    "A/B\n",
    "```\n",
    "\n",
    "这是因为 `C++` 只支持 Single Dispatch (多重派发在提案中：[Report on language support for Multi-Methods and Open-Methods for C++](http://www.open-std.org/jtc1/sc22/wg21/docs/papers/2007/n2216.pdf))，对于动态类型，编译器只能通过 `class` 名称决定调用的方法，当需要根据参数等信息决定方法的时候就无能为力了。注意，多重派发是一个动态类型的特性，这里 `A`，`B`都是做成了动态类型，于函数重载不同，一些类似于多重派发在 `C++` 中实际上是函数重载，出现歧义（ambiguous）是由于 `C++` 的隐式类型转换。"
   ]
  },
  {
   "cell_type": "markdown",
   "metadata": {
    "slideshow": {
     "slide_type": "subslide"
    }
   },
   "source": [
    "## 总结一下\n",
    "\n",
    "单派发，**Single Dispatch** ，是说只按照一种类型进行派发，例如在 `C++` 的例子里，只按照所调用的 `Foo` 来派发动态类型，于是遇到方法里面重载了两种不同动态类型时，编译器不会报错，但是会调用 `A/A`。亦或者是PEP443里，会按照第一个参数的类型进行派发。"
   ]
  },
  {
   "cell_type": "markdown",
   "metadata": {
    "slideshow": {
     "slide_type": "subslide"
    }
   },
   "source": [
    "## 多重派发\n",
    "\n",
    "顾名思义，就是会根据所有的参数来进行派发。例如让我们在Julia里重新实现 `C++` 里的例子，注意由于 Julia 没有继承，我们在这里用抽象类型代替。Julia会匹配参数类型最符合的方法，然后调用。在Julia里，由于Julia本身是动态语言，函数的重载（overload）与多重派发是一个意思，但是实际上Julia的派发会发生在运行时和编译时，而这在很少的情况下有可能影响性能。"
   ]
  },
  {
   "cell_type": "code",
   "execution_count": 49,
   "metadata": {},
   "outputs": [
    {
     "name": "stdout",
     "output_type": "stream",
     "text": [
      "A/B\n"
     ]
    }
   ],
   "source": [
    "abstract type TypeA end\n",
    "\n",
    "struct TypeB <: TypeA end\n",
    "struct TypeC <: TypeA end\n",
    "\n",
    "wooo(a1::TypeA, a2::TypeA) = println(\"A/A\")\n",
    "wooo(a::TypeA, b::TypeB) = println(\"A/B\")\n",
    "\n",
    "callme(a1::TypeA, a2::TypeA) = wooo(a1, a2)\n",
    "\n",
    "b = TypeB(); c = TypeC();\n",
    "callme(c, b)"
   ]
  },
  {
   "cell_type": "markdown",
   "metadata": {
    "slideshow": {
     "slide_type": "subslide"
    }
   },
   "source": [
    "## 类型系统\n",
    "\n",
    "Julia的类型主要分为抽象类型（Abstract Type）和实体类型（Concrete Type），实体类型主要分为可变类型（Mutable Type）和不可变类型（Immutable Type）"
   ]
  },
  {
   "cell_type": "code",
   "execution_count": 50,
   "metadata": {},
   "outputs": [],
   "source": [
    "abstract type AbstractType end\n",
    "\n",
    "struct ImmutableType <: AbstractType\n",
    "end\n",
    "\n",
    "mutable struct MutableType <: AbstractType\n",
    "end"
   ]
  },
  {
   "cell_type": "markdown",
   "metadata": {
    "slideshow": {
     "slide_type": "subslide"
    }
   },
   "source": [
    "一个抽象类型的所有子类型会构成一颗树，其中实体类型一定在树的叶子结点\n",
    "\n",
    "下面这个 `view_tree` 函数会对一颗类型树进行深度优先遍历（DFS）"
   ]
  },
  {
   "cell_type": "code",
   "execution_count": 51,
   "metadata": {},
   "outputs": [
    {
     "name": "stdout",
     "output_type": "stream",
     "text": [
      "AbstractType\n",
      "  ImmutableType\n",
      "  MutableType\n"
     ]
    },
    {
     "name": "stderr",
     "output_type": "stream",
     "text": [
      "WARNING: both CSSUtil and Base export \"empty\"; uses of it in module Interact must be qualified\n"
     ]
    }
   ],
   "source": [
    "using InteractiveUtils\n",
    "\n",
    "function view_tree(T, depth=0)\n",
    "    println(\"  \"^depth, T)\n",
    "    for each in subtypes(T)\n",
    "        view_tree(each, depth+1)\n",
    "    end\n",
    "end\n",
    "\n",
    "view_tree(AbstractType)"
   ]
  },
  {
   "cell_type": "markdown",
   "metadata": {
    "slideshow": {
     "slide_type": "subslide"
    }
   },
   "source": [
    "再看一个复杂一些的例子："
   ]
  },
  {
   "cell_type": "code",
   "execution_count": 52,
   "metadata": {},
   "outputs": [
    {
     "name": "stdout",
     "output_type": "stream",
     "text": [
      "AbstractAnimal\n",
      "  AbstractBird\n",
      "    Sparrow\n",
      "  AbstractCat\n",
      "    Kitty\n",
      "  AbstractDog\n",
      "    Snoope\n"
     ]
    }
   ],
   "source": [
    "abstract type AbstractAnimal end\n",
    "\n",
    "abstract type AbstractBird <: AbstractAnimal end\n",
    "abstract type AbstractDog <: AbstractAnimal end\n",
    "abstract type AbstractCat <: AbstractAnimal end\n",
    "\n",
    "struct Sparrow <: AbstractBird end\n",
    "struct Kitty <: AbstractCat end\n",
    "struct Snoope <: AbstractDog end\n",
    "\n",
    "view_tree(AbstractAnimal)"
   ]
  },
  {
   "cell_type": "markdown",
   "metadata": {
    "slideshow": {
     "slide_type": "subslide"
    }
   },
   "source": [
    "可以看到，Julia总会匹配类型树里总的来说最靠下的方法"
   ]
  },
  {
   "cell_type": "code",
   "execution_count": 53,
   "metadata": {},
   "outputs": [
    {
     "data": {
      "text/plain": [
       "\"a sparrow, a cat and some animal\""
      ]
     },
     "execution_count": 53,
     "metadata": {},
     "output_type": "execute_result"
    }
   ],
   "source": [
    "combine(a::AbstractAnimal, b::AbstractAnimal, c::AbstractAnimal) = \"three animals get together!\" # method 1\n",
    "combine(a::Sparrow, b::AbstractCat, c::AbstractAnimal) = \"a sparrow, a cat and some animal\" # method 2\n",
    "\n",
    "combine(Sparrow(), Kitty(), Sparrow()) # 这个会匹配方法2"
   ]
  },
  {
   "cell_type": "markdown",
   "metadata": {
    "slideshow": {
     "slide_type": "subslide"
    }
   },
   "source": [
    "类型在 Julia 里是非常廉价的，利用多重派发和廉价的类型，我们可以针对数学对象实现更详细的优化，例如对于满足不同性质的矩阵，我们有对它们之间互相乘积的优化方法，我们可以将部分操作作为懒惰求值（Lazy Evaluation）加入运算中，然后再为满足不同性质的矩阵派发精细的优化方法：\n",
    "\n",
    "- 对满足 $A^T A = I$ 的矩阵，如果遇到了自己的转置可以什么都不算\n",
    "- 对满足上三角的矩阵（或者下三角矩阵），在一些矩阵分解等操作的时候可以调用更快的数值方法\n",
    "- 而对于单位矩阵，我们总可以什么都不算\n",
    "\n",
    "实际上Julia在标准库里已经这么做了 （虽然实际上依然还有更多的特殊矩阵，你也许可以在 [JuliaArrays](https://github.com/JuliaArrays) 里找到你需要的矩阵类型），不同类型的矩阵会被派发到不同类型的方法上去。"
   ]
  },
  {
   "cell_type": "code",
   "execution_count": 54,
   "metadata": {},
   "outputs": [
    {
     "name": "stdout",
     "output_type": "stream",
     "text": [
      "AbstractArray{T,2} where T\n",
      "  AxisArrays.AxisArray{T,2,D,Ax} where Ax where D where T\n",
      "  Base.ReshapedArray{T,2,P,MI} where MI<:Tuple{Vararg{Base.MultiplicativeInverses.SignedMultiplicativeInverse{Int64},N} where N} where P<:AbstractArray where T\n",
      "  BitArray{2}\n",
      "  CartesianIndices{2,R} where R<:Tuple{AbstractUnitRange{Int64},AbstractUnitRange{Int64}}\n",
      "  Core.Compiler.BitArray{2}\n",
      "  Core.Compiler.LinearIndices{2,R} where R<:Tuple{Core.Compiler.AbstractUnitRange{Int64},Core.Compiler.AbstractUnitRange{Int64}}\n",
      "  DenseArray{T,2} where T\n",
      "    Array{T,2} where T\n",
      "    FFTW.FakeArray{T,2} where T\n",
      "    SharedArrays.SharedArray{T,2} where T\n",
      "    SuiteSparse.CHOLMOD.Dense\n",
      "  GLMakie.GLAbstraction.GPUArray{T,2} where T\n",
      "    GLMakie.GLAbstraction.OpenglTexture{T,2} where T\n",
      "      GLMakie.GLAbstraction.Texture{T,2} where T<:Union{Real, Colorant, StaticArray{Tuple{N},T,1} where T where N}\n",
      "  GLMakie.GLVisualize.GridZRepeat{G,T,2} where T where G\n",
      "  ImageCore.ColorView{C,2,A} where A<:AbstractArray where C<:ColorTypes.Colorant\n",
      "  ImageCore.StackedView{T,2,A} where A<:Tuple{Vararg{AbstractArray{T,N} where N,N} where N} where T<:Number\n",
      "  ImageCore.ZeroArray{T,2,R} where R<:AbstractUnitRange where T\n",
      "  IndirectArrays.IndirectArray{T,2,A,V} where V<:AbstractArray{T,1} where A<:(AbstractArray{#s12,2} where #s12<:Integer) where T\n",
      "  LinearAlgebra.AbstractQ\n",
      "    LinearAlgebra.HessenbergQ\n",
      "    LinearAlgebra.QRCompactWYQ\n",
      "    LinearAlgebra.QRPackedQ\n",
      "    SuiteSparse.SPQR.QRSparseQ\n",
      "  LinearAlgebra.AbstractTriangular\n",
      "    LinearAlgebra.LowerTriangular\n",
      "    LinearAlgebra.UnitLowerTriangular\n",
      "    LinearAlgebra.UnitUpperTriangular\n",
      "    LinearAlgebra.UpperTriangular\n",
      "  LinearAlgebra.Adjoint\n",
      "  LinearAlgebra.Bidiagonal\n",
      "  LinearAlgebra.Diagonal\n",
      "  LinearAlgebra.Hermitian\n",
      "  LinearAlgebra.LQPackedQ\n",
      "  LinearAlgebra.SymTridiagonal\n",
      "  LinearAlgebra.Symmetric\n",
      "  LinearAlgebra.Transpose\n",
      "  LinearAlgebra.Tridiagonal\n",
      "  LinearIndices{2,R} where R<:Tuple{AbstractUnitRange{Int64},AbstractUnitRange{Int64}}\n",
      "  MappedArrays.AbstractMappedArray{T,2} where T\n",
      "    MappedArrays.AbstractMultiMappedArray{T,2} where T\n",
      "      MappedArrays.MultiMappedArray{T,2,AAs,F,Finv} where Finv where F where AAs<:Tuple{Vararg{AbstractArray,N} where N} where T\n",
      "      MappedArrays.ReadonlyMultiMappedArray{T,2,AAs,F} where F where AAs<:Tuple{Vararg{AbstractArray,N} where N} where T\n",
      "    MappedArrays.MappedArray{T,2,A,F,Finv} where Finv where F where A<:AbstractArray where T\n",
      "    MappedArrays.ReadonlyMappedArray{T,2,A,F} where F where A<:AbstractArray where T\n",
      "  OffsetArrays.OffsetArray{T,2,AA} where AA<:AbstractArray where T\n",
      "  PaddedViews.PaddedView{T,2,I,A} where A where I where T\n",
      "  PermutedDimsArray{T,2,perm,iperm,AA} where AA<:AbstractArray where iperm where perm where T\n",
      "  RangeArrays.RangeMatrix\n",
      "  RangeArrays.RepeatedRangeMatrix\n",
      "  SparseArrays.AbstractSparseArray{Tv,Ti,2} where Ti where Tv\n",
      "    SparseArrays.SparseMatrixCSC\n",
      "    SuiteSparse.CHOLMOD.Sparse\n",
      "  StaticArrays.StaticArray{S,T,2} where T where S<:Tuple\n",
      "    StaticArrays.MArray{S,T,2,L} where L where T where S<:Tuple\n",
      "    StaticArrays.SArray{S,T,2,L} where L where T where S<:Tuple\n",
      "    StaticArrays.SizedArray{S,T,2,M} where M where T where S<:Tuple\n",
      "  StaticArrays.TrivialView{A,T,2} where T where A\n",
      "  SubArray{T,2,P,I,L} where L where I where P where T\n",
      "  SuiteSparse.CHOLMOD.FactorComponent\n",
      "  Test.GenericArray{T,2} where T\n",
      "  Union{ReinterpretArray{T,2,S,A} where A<:AbstractArray{S,2} where S, ReinterpretArray{T,2,S,A} where A<:AbstractArray{S,2} where S} where T\n"
     ]
    }
   ],
   "source": [
    "view_tree(AbstractMatrix)"
   ]
  },
  {
   "cell_type": "markdown",
   "metadata": {
    "slideshow": {
     "slide_type": "subslide"
    }
   },
   "source": [
    "## 总结一下\n",
    "\n",
    "Julia有这样的特点：**廉价的类型**和**多重派发**+**类型树**的结构，我们可以**继承类型的行为（behavior）**而不能**继承类型的成员**，而多重派发让所有Julia类型很自然地变成了鸭子类型（Duck Type），我们只要定义好不同的**接口**/**interface**就足以定义类型的行为。\n",
    "\n",
    "实际上由于严格保持了树的结构，Julia也不允许多重继承，也不存在混入（mixin）这样的设计模式，这避免了**钻石继承的问题**。\n",
    "\n",
    "需要说明的是，以上仅仅是Julia的特点，它带来了一些好处，也同时带来了一些缺点。限于篇幅暂且不表。\n",
    "\n",
    "问题：想想这几种 `rand` 的接口，例如 `rand(1:10)`，`rand(Bool)`, `rand(Bool, 2, 2)` 等是怎么实现的？"
   ]
  },
  {
   "cell_type": "markdown",
   "metadata": {
    "slideshow": {
     "slide_type": "slide"
    }
   },
   "source": [
    "## 一切都是表达式\n",
    "\n",
    "在Julia里，所有的东西不仅仅可以是**对象**，他们也都是**表达式**，当然**表达式**也是**对象**。也许你一开始还在讨厌Julia的 `end` 不够简洁，但是学了这一部分，你就会发现 `end` 关键字的妙处了。"
   ]
  },
  {
   "cell_type": "markdown",
   "metadata": {
    "slideshow": {
     "slide_type": "subslide"
    }
   },
   "source": [
    "在 Julia 里我们可以使用语言本身的语法来处理 Julia 自己的表达式，这被称为元编程（Meta Programming），那么元编程有什么用呢？\n",
    "\n",
    "- 代码生成，产生更加高效的代码（低抽象的代码）\n",
    "- 预处理表达式，提高代码可读性（例如实现一个DSL）\n",
    "\n",
    "在我开头提到的 **TensorOperations** 之所以比 `numpy` 快，很大的原因是因为作者使用元编程将大部分预处理挪到了编译时期（compile time）然后还顺便支持了数学上的einsum格式，而尽管`numpy.einsum`实际上有不少优化，但是仍然需要跑很多遍for循环。"
   ]
  },
  {
   "cell_type": "markdown",
   "metadata": {
    "slideshow": {
     "slide_type": "subslide"
    }
   },
   "source": [
    "## 定义自己的字符串字面量\n",
    "\n",
    "字符串的字面量是区分不同类型的字符串的一种非常方便的方法，在Python里，我们有正则表达式字面量 `r\"(.*)\"`，格式化字面量 `f\"hello {who}\"`。而在Julia里，则可以通过宏定义自己的字符串字面量，只需声明以 `_str` 为结尾的宏即可"
   ]
  },
  {
   "cell_type": "code",
   "execution_count": 55,
   "metadata": {},
   "outputs": [
    {
     "data": {
      "text/plain": [
       "My String is: hello!"
      ]
     },
     "execution_count": 55,
     "metadata": {},
     "output_type": "execute_result"
    }
   ],
   "source": [
    "struct MyStr <: AbstractString\n",
    "    data::String\n",
    "end\n",
    "\n",
    "Base.show(io::IO, s::MyStr) = print(io, \"My String is: \", s.data)\n",
    "\n",
    "macro my_str(s)\n",
    "   MyStr(s)    \n",
    "end\n",
    "\n",
    "my\"hello!\""
   ]
  },
  {
   "cell_type": "markdown",
   "metadata": {
    "slideshow": {
     "slide_type": "subslide"
    }
   },
   "source": [
    "这大大方便了需要做大量字符串处理的任务，例如生物信息等。此外这也使得Julia很容易在文档里支持 `LaTeX`，`Markdown` 等多种不同的格式，并且按照统一的接口（Interface）给它们派发不同的方法。"
   ]
  },
  {
   "cell_type": "code",
   "execution_count": 56,
   "metadata": {},
   "outputs": [
    {
     "ename": "UndefVarError",
     "evalue": "UndefVarError: Markdown not defined",
     "output_type": "error",
     "traceback": [
      "UndefVarError: Markdown not defined",
      "",
      "Stacktrace:",
      " [1] top-level scope at In[56]:1"
     ]
    }
   ],
   "source": [
    "import Markdown: @md_str\n",
    "\n",
    "md\"\"\"\n",
    "# Header 1\n",
    "## Header 2\n",
    "### Header 3\n",
    "#### Header 4\n",
    "\"\"\""
   ]
  },
  {
   "cell_type": "markdown",
   "metadata": {
    "slideshow": {
     "slide_type": "subslide"
    }
   },
   "source": [
    "为了理解Julia的元编程，我们首先需要大致了解一下Julia的编译过程\n",
    "\n",
    "![](compile-process.png)\n",
    "\n"
   ]
  },
  {
   "cell_type": "markdown",
   "metadata": {
    "slideshow": {
     "slide_type": "subslide"
    }
   },
   "source": [
    "### 如何获得Julia的表达式？\n",
    "\n",
    "在Julia里获得表达式的方法被称为引用（quote），可以有两种方法进行引用\n",
    "\n",
    "对于短小的表达式使用 `:( blabla )` 进行引用"
   ]
  },
  {
   "cell_type": "code",
   "execution_count": 57,
   "metadata": {},
   "outputs": [
    {
     "data": {
      "text/plain": [
       ":(a + b)"
      ]
     },
     "execution_count": 57,
     "metadata": {},
     "output_type": "execute_result"
    }
   ],
   "source": [
    "ex = :(a + b)"
   ]
  },
  {
   "cell_type": "markdown",
   "metadata": {},
   "source": [
    "对于大段的表达式，使用 `quote` 关键字进行引用"
   ]
  },
  {
   "cell_type": "code",
   "execution_count": 58,
   "metadata": {},
   "outputs": [
    {
     "data": {
      "text/plain": [
       "quote\n",
       "    #= In[58]:2 =#\n",
       "    a + b\n",
       "    #= In[58]:3 =#\n",
       "    b + c\n",
       "end"
      ]
     },
     "execution_count": 58,
     "metadata": {},
     "output_type": "execute_result"
    }
   ],
   "source": [
    "quote\n",
    "    a + b\n",
    "    b + c\n",
    "end"
   ]
  },
  {
   "cell_type": "markdown",
   "metadata": {
    "slideshow": {
     "slide_type": "subslide"
    }
   },
   "source": [
    "到了这里你也许已经发现了，实际上任何一部分Julia代码都是表达式，而不同的表达式有不同的 `tag` 而正是因为使用了 `end` 才能够和各种不同的代码块进行匹配。例如实际上函数关键字 `function` 和 `end` 本身定义了一个代码块"
   ]
  },
  {
   "cell_type": "code",
   "execution_count": 59,
   "metadata": {},
   "outputs": [
    {
     "data": {
      "text/plain": [
       "2-element Array{Any,1}:\n",
       " :(#= In[59]:2 =#)                                           \n",
       " :(function foo()\n",
       "      #= In[59]:3 =#\n",
       "      println()\n",
       "  end)"
      ]
     },
     "execution_count": 59,
     "metadata": {},
     "output_type": "execute_result"
    }
   ],
   "source": [
    "ex = quote\n",
    "    function foo()\n",
    "        println()\n",
    "    end\n",
    "end\n",
    "\n",
    "ex.args"
   ]
  },
  {
   "cell_type": "markdown",
   "metadata": {
    "slideshow": {
     "slide_type": "subslide"
    }
   },
   "source": [
    "所有的表达式都是 `Expr`，`QuoteNode`，`Symbol` 三种类型之一。"
   ]
  },
  {
   "cell_type": "code",
   "execution_count": 60,
   "metadata": {},
   "outputs": [
    {
     "data": {
      "text/plain": [
       "Expr"
      ]
     },
     "execution_count": 60,
     "metadata": {},
     "output_type": "execute_result"
    }
   ],
   "source": [
    "typeof(:(a + b))"
   ]
  },
  {
   "cell_type": "code",
   "execution_count": 61,
   "metadata": {},
   "outputs": [
    {
     "data": {
      "text/plain": [
       "Symbol"
      ]
     },
     "execution_count": 61,
     "metadata": {},
     "output_type": "execute_result"
    }
   ],
   "source": [
    "typeof(:(a))"
   ]
  },
  {
   "cell_type": "code",
   "execution_count": 62,
   "metadata": {},
   "outputs": [
    {
     "data": {
      "text/plain": [
       "QuoteNode"
      ]
     },
     "execution_count": 62,
     "metadata": {},
     "output_type": "execute_result"
    }
   ],
   "source": [
    "typeof(:(:(a)))"
   ]
  },
  {
   "cell_type": "markdown",
   "metadata": {
    "slideshow": {
     "slide_type": "subslide"
    }
   },
   "source": [
    "## 用宏实现函数的合成\n",
    "\n",
    "当我们有很多个函数嵌套调用的时候会需要打很多括号，而在一些函数式语言里，则比较方便地用空格表示函数合成例如：`g f k l` $\\Rightarrow$ `g(f(k(l(x))))`，我们将在这里实现一个非常简单的（单变量）函数合成的宏 `@>`"
   ]
  },
  {
   "cell_type": "code",
   "execution_count": 63,
   "metadata": {},
   "outputs": [
    {
     "data": {
      "text/plain": [
       "@> (macro with 1 method)"
      ]
     },
     "execution_count": 63,
     "metadata": {},
     "output_type": "execute_result"
    }
   ],
   "source": [
    "fa(x) = (println(\"call a\"); x)\n",
    "fb(x) = (println(\"call b\"); x)\n",
    "fc(x) = (println(\"call c\"); x)\n",
    "\n",
    "macro >(fs...)\n",
    "    fs\n",
    "end"
   ]
  },
  {
   "cell_type": "markdown",
   "metadata": {},
   "source": [
    "使用 `@macroexpand` 查看你的宏所产生的表达式"
   ]
  },
  {
   "cell_type": "code",
   "execution_count": 64,
   "metadata": {},
   "outputs": [
    {
     "data": {
      "text/plain": [
       "(:fa, :fb, :fc)"
      ]
     },
     "execution_count": 64,
     "metadata": {},
     "output_type": "execute_result"
    }
   ],
   "source": [
    "@macroexpand @> fa fb fc # => x->fa(fb(fc(x)))"
   ]
  },
  {
   "cell_type": "markdown",
   "metadata": {
    "slideshow": {
     "slide_type": "subslide"
    }
   },
   "source": [
    "在Julia里，有一个叫做函数管道的运算符 `|>`，`x |> f` 相当于 `f(x)`，我们目标就是产生一串函数管道"
   ]
  },
  {
   "cell_type": "code",
   "execution_count": 65,
   "metadata": {},
   "outputs": [
    {
     "data": {
      "text/plain": [
       "@> (macro with 1 method)"
      ]
     },
     "execution_count": 65,
     "metadata": {},
     "output_type": "execute_result"
    }
   ],
   "source": [
    "macro >(fs...)\n",
    "    ex = :($(last(fs))(x))\n",
    "    for f in reverse(fs[1:end-1])\n",
    "        ex = :($f($ex))\n",
    "    end\n",
    "    :(x->$ex)\n",
    "end"
   ]
  },
  {
   "cell_type": "markdown",
   "metadata": {
    "slideshow": {
     "slide_type": "subslide"
    }
   },
   "source": [
    "再查看一下，现在展开的表达式是否正确"
   ]
  },
  {
   "cell_type": "code",
   "execution_count": 66,
   "metadata": {},
   "outputs": [
    {
     "data": {
      "text/plain": [
       ":(#24#x->begin\n",
       "          #= In[65]:6 =#\n",
       "          (Main.fa)((Main.fb)((Main.fc)(#24#x)))\n",
       "      end)"
      ]
     },
     "execution_count": 66,
     "metadata": {},
     "output_type": "execute_result"
    }
   ],
   "source": [
    "@macroexpand @> fa fb fc # => x->fa(fb(fc(x)))"
   ]
  },
  {
   "cell_type": "code",
   "execution_count": 67,
   "metadata": {},
   "outputs": [
    {
     "name": "stdout",
     "output_type": "stream",
     "text": [
      "call c\n",
      "call b\n",
      "call a\n"
     ]
    },
    {
     "data": {
      "text/plain": [
       "2"
      ]
     },
     "execution_count": 67,
     "metadata": {},
     "output_type": "execute_result"
    }
   ],
   "source": [
    "f = @> fa fb fc\n",
    "f(2)"
   ]
  },
  {
   "cell_type": "markdown",
   "metadata": {
    "slideshow": {
     "slide_type": "subslide"
    }
   },
   "source": [
    "实际上，作为一个**多范式**的编程语言，Julia本身是支持函数式编程的，而函数式编程常常会使用[Lazy](https://github.com/MikeInnes/Lazy.jl)这个包，里面写好了更加强大的用于函数合成的宏 `@>`，它支持多变量函数的合成，例如：\n",
    "\n",
    "```julia\n",
    "@> x g(y, z) f # == f(g(x, y, z))\n",
    "```"
   ]
  },
  {
   "cell_type": "markdown",
   "metadata": {
    "slideshow": {
     "slide_type": "slide"
    }
   },
   "source": [
    "## 在Julia里调用Python\n",
    "\n",
    "在当下，如果有人说放弃 Python 那一定是一个很愚蠢的决定，正如开头所说，Python 和 Julia 各自有其优缺点，而我们在迁移到 Julia 之后依然可以调用我们的一些历史依赖，并且也依然可以将新写的更快更简单的代码作为 Python 的包提供给 Python 社区。所以你可以选择\n",
    "\n",
    "- 用Julia给Python加速\n",
    "- 整体迁移到Julia上来，但是调用自己的历史代码。\n",
    "\n",
    "这主要需要依赖于两个包：`PyCall.jl` 和 `pyjulia`。这一部分我们主要讲 `PyCall.jl`"
   ]
  },
  {
   "cell_type": "markdown",
   "metadata": {
    "slideshow": {
     "slide_type": "subslide"
    }
   },
   "source": [
    "如果你没有安装 `PyCall` 模块，请使用Julia的包管理器安装 `PyCall`，如果你的环境里没有安装 `python` 或者不在标准路径中，那么Julia将会下载一个 miniconda 来安装 python 环境。如果你想使用你已经安装的 `python`，请在Julia的环境变量 `ENV` 中设置 `python` 路径：\n",
    "\n",
    "```julia\n",
    "julia> ENV[\"PYTHON\"] = \"... python 路径 ...\"\n",
    "\n",
    "julia> Pkg.build(\"PyCall\")\n",
    "```\n",
    "\n",
    "\n",
    "安装好之后 `PyCall` 的使用方法和原生 Python 的语法很接近 （多亏了Julia的宏！）"
   ]
  },
  {
   "cell_type": "code",
   "execution_count": 68,
   "metadata": {},
   "outputs": [
    {
     "name": "stderr",
     "output_type": "stream",
     "text": [
      "┌ Info: Recompiling stale cache file /Users/roger/.julia/compiled/v1.1/PyCall/GkzkC.ji for PyCall [438e738f-606a-5dbb-bf0a-cddfbfd45ab0]\n",
      "└ @ Base loading.jl:1184\n"
     ]
    },
    {
     "ename": "PyCall.PyError",
     "evalue": "PyError (PyImport_ImportModule\n\nThe Python package numpy could not be found by pyimport. Usually this means\nthat you did not install numpy in the Python version being used by PyCall.\n\nPyCall is currently configured to use the Julia-specific Python distribution\ninstalled by the Conda.jl package.  To install the numpy module, you can\nuse `pyimport_conda(\"numpy\", PKG)`, where PKG is the Anaconda\npackage the contains the module numpy, or alternatively you can use the\nConda package directly (via `using Conda` followed by `Conda.add` etcetera).\n\nAlternatively, if you want to use a different Python distribution on your\nsystem, such as a system-wide Python (as opposed to the Julia-specific Python),\nyou can re-configure PyCall with that Python.   As explained in the PyCall\ndocumentation, set ENV[\"PYTHON\"] to the path/name of the python executable\nyou want to use, run Pkg.build(\"PyCall\"), and re-launch Julia.\n\n) <class 'ImportError'>\nImportError(\"Something is wrong with the numpy installation. While importing we detected an older version of numpy in ['/Users/roger/.julia/conda/3/lib/python3.6/site-packages/numpy']. One method of fixing this is to repeatedly uninstall numpy until none is found, then reinstall this version.\",)\n  File \"/Users/roger/.julia/conda/3/lib/python3.6/site-packages/numpy/__init__.py\", line 142, in <module>\n    from . import core\n  File \"/Users/roger/.julia/conda/3/lib/python3.6/site-packages/numpy/core/__init__.py\", line 91, in <module>\n    raise ImportError(msg.format(path))\n",
     "output_type": "error",
     "traceback": [
      "PyError (PyImport_ImportModule\n\nThe Python package numpy could not be found by pyimport. Usually this means\nthat you did not install numpy in the Python version being used by PyCall.\n\nPyCall is currently configured to use the Julia-specific Python distribution\ninstalled by the Conda.jl package.  To install the numpy module, you can\nuse `pyimport_conda(\"numpy\", PKG)`, where PKG is the Anaconda\npackage the contains the module numpy, or alternatively you can use the\nConda package directly (via `using Conda` followed by `Conda.add` etcetera).\n\nAlternatively, if you want to use a different Python distribution on your\nsystem, such as a system-wide Python (as opposed to the Julia-specific Python),\nyou can re-configure PyCall with that Python.   As explained in the PyCall\ndocumentation, set ENV[\"PYTHON\"] to the path/name of the python executable\nyou want to use, run Pkg.build(\"PyCall\"), and re-launch Julia.\n\n) <class 'ImportError'>\nImportError(\"Something is wrong with the numpy installation. While importing we detected an older version of numpy in ['/Users/roger/.julia/conda/3/lib/python3.6/site-packages/numpy']. One method of fixing this is to repeatedly uninstall numpy until none is found, then reinstall this version.\",)\n  File \"/Users/roger/.julia/conda/3/lib/python3.6/site-packages/numpy/__init__.py\", line 142, in <module>\n    from . import core\n  File \"/Users/roger/.julia/conda/3/lib/python3.6/site-packages/numpy/core/__init__.py\", line 91, in <module>\n    raise ImportError(msg.format(path))\n",
      "",
      "Stacktrace:",
      " [1] pyimport(::String) at /Users/roger/.julia/packages/PyCall/ttONZ/src/PyCall.jl:544",
      " [2] top-level scope at /Users/roger/.julia/packages/PyCall/ttONZ/src/PyCall.jl:588",
      " [3] top-level scope at In[68]:2"
     ]
    }
   ],
   "source": [
    "using PyCall\n",
    "\n",
    "@pyimport numpy as np\n",
    "\n",
    "np.zeros(10)"
   ]
  },
  {
   "cell_type": "markdown",
   "metadata": {
    "slideshow": {
     "slide_type": "subslide"
    }
   },
   "source": [
    "Julia自带的多维数组类型 `Array` 和 `numpy` 可以共享一块内存，所以当使用 `numpy` 在 Python 中得到了一个 `numpy.ndarray` 后在Julia里会看到一个新的 `Array`。\n",
    "\n",
    "除了像 `@pyimport`, `@pydef` 这样的宏以外，和其它FFI（外部函数接口）的模块一样，`PyCall`也有python的字符串字面量，它将会执行一行python代码/或者在 `__main__` 模块里执行一段 Python 代码，然后将其转换为Julia对象。"
   ]
  },
  {
   "cell_type": "code",
   "execution_count": 69,
   "metadata": {},
   "outputs": [
    {
     "data": {
      "text/plain": [
       "6"
      ]
     },
     "execution_count": 69,
     "metadata": {},
     "output_type": "execute_result"
    }
   ],
   "source": [
    "py\"sum([1, 2, 3])\""
   ]
  },
  {
   "cell_type": "markdown",
   "metadata": {
    "slideshow": {
     "slide_type": "slide"
    }
   },
   "source": [
    "## 编写高性能Julia代码的建议\n",
    "\n",
    "Julia 是一个通用的编程语言（general purpose language），而不论在 `C/C++` 还是在 `Fortran` 里，编写高性能的代码都不是随便一写就很快的。本身程序的性能优化就是一门学问，同样在Julia里也是这样，但是对于一些简单的，常用的情况，这里有一些建议帮助你写出高性能的代码。\n",
    "\n",
    "在官方文档中还有很多这样的建议，还请参考文档中关于提高性能的建议部分：[英文](https://docs.julialang.org/en/latest/manual/performance-tips/)"
   ]
  },
  {
   "cell_type": "markdown",
   "metadata": {
    "slideshow": {
     "slide_type": "subslide"
    }
   },
   "source": [
    "首先，为了测试性能，我们需要安装 `BenchmarkTools` 这个工具包，使用方法很简单，里面有一个宏：`@benchmark`，你想测哪里就写哪里，例如"
   ]
  },
  {
   "cell_type": "code",
   "execution_count": 70,
   "metadata": {},
   "outputs": [
    {
     "name": "stderr",
     "output_type": "stream",
     "text": [
      "┌ Info: Recompiling stale cache file /Users/roger/.julia/compiled/v1.1/BenchmarkTools/ZXPQo.ji for BenchmarkTools [6e4b80f9-dd63-53aa-95a3-0cdb28fa8baf]\n",
      "└ @ Base loading.jl:1184\n"
     ]
    },
    {
     "data": {
      "text/plain": [
       "BenchmarkTools.Trial: \n",
       "  memory estimate:  16 bytes\n",
       "  allocs estimate:  1\n",
       "  --------------\n",
       "  minimum time:     109.253 ns (0.00% GC)\n",
       "  median time:      113.828 ns (0.00% GC)\n",
       "  mean time:        136.620 ns (10.88% GC)\n",
       "  maximum time:     116.677 μs (99.90% GC)\n",
       "  --------------\n",
       "  samples:          10000\n",
       "  evals/sample:     914"
      ]
     },
     "execution_count": 70,
     "metadata": {},
     "output_type": "execute_result"
    }
   ],
   "source": [
    "using BenchmarkTools\n",
    "a = rand(1000)\n",
    "@benchmark sum(a)"
   ]
  },
  {
   "cell_type": "markdown",
   "metadata": {
    "slideshow": {
     "slide_type": "subslide"
    }
   },
   "source": [
    "回过头来，我们看看我们之前实现的 `mysum` 速度如何，慢了很多，为什么呢？"
   ]
  },
  {
   "cell_type": "code",
   "execution_count": 71,
   "metadata": {},
   "outputs": [
    {
     "data": {
      "text/plain": [
       "BenchmarkTools.Trial: \n",
       "  memory estimate:  16 bytes\n",
       "  allocs estimate:  1\n",
       "  --------------\n",
       "  minimum time:     1.168 μs (0.00% GC)\n",
       "  median time:      1.228 μs (0.00% GC)\n",
       "  mean time:        1.344 μs (0.00% GC)\n",
       "  maximum time:     6.981 μs (0.00% GC)\n",
       "  --------------\n",
       "  samples:          10000\n",
       "  evals/sample:     10"
      ]
     },
     "execution_count": 71,
     "metadata": {},
     "output_type": "execute_result"
    }
   ],
   "source": [
    "@benchmark mysum(a)"
   ]
  },
  {
   "cell_type": "markdown",
   "metadata": {
    "slideshow": {
     "slide_type": "subslide"
    }
   },
   "source": [
    "SIMD指令，目前Julia还不能自动将循环向量化，需要手动增加向量化标记"
   ]
  },
  {
   "cell_type": "code",
   "execution_count": 72,
   "metadata": {},
   "outputs": [
    {
     "data": {
      "text/plain": [
       "mysum (generic function with 2 methods)"
      ]
     },
     "execution_count": 72,
     "metadata": {},
     "output_type": "execute_result"
    }
   ],
   "source": [
    "function mysum(A)\n",
    "    s = 0.0 # s = zero(eltype(A))\n",
    "    @simd for a in A\n",
    "        s += a\n",
    "    end\n",
    "    s\n",
    "end"
   ]
  },
  {
   "cell_type": "code",
   "execution_count": 73,
   "metadata": {},
   "outputs": [
    {
     "data": {
      "text/plain": [
       "BenchmarkTools.Trial: \n",
       "  memory estimate:  16 bytes\n",
       "  allocs estimate:  1\n",
       "  --------------\n",
       "  minimum time:     108.272 ns (0.00% GC)\n",
       "  median time:      115.749 ns (0.00% GC)\n",
       "  mean time:        137.730 ns (11.86% GC)\n",
       "  maximum time:     130.053 μs (99.89% GC)\n",
       "  --------------\n",
       "  samples:          10000\n",
       "  evals/sample:     916"
      ]
     },
     "execution_count": 73,
     "metadata": {},
     "output_type": "execute_result"
    }
   ],
   "source": [
    "@benchmark mysum(a)"
   ]
  },
  {
   "cell_type": "markdown",
   "metadata": {
    "slideshow": {
     "slide_type": "subslide"
    }
   },
   "source": [
    "我们来看一下C代码编译出来的速度是多少，Julia可以直接编译C代码并且调用C代码，所以无需退出notebook。"
   ]
  },
  {
   "cell_type": "code",
   "execution_count": 83,
   "metadata": {
    "slideshow": {
     "slide_type": "subslide"
    }
   },
   "outputs": [
    {
     "name": "stderr",
     "output_type": "stream",
     "text": [
      "WARNING: redefining constant Clib\n"
     ]
    }
   ],
   "source": [
    "using Libdl\n",
    "\n",
    "C_code = \"\"\"\n",
    "#include <stddef.h>\n",
    "double c_sum(size_t n, double *X) {\n",
    "    double s = 0.0;\n",
    "    for (size_t i = 0; i < n; ++i) {\n",
    "        s += X[i];\n",
    "    }\n",
    "    return s;\n",
    "}\n",
    "\"\"\"\n",
    "\n",
    "const Clib = tempname()   # make a temporary file\n",
    "\n",
    "\n",
    "# compile to a shared library by piping C_code to gcc\n",
    "# (works only if you have gcc installed):\n",
    "\n",
    "open(`gcc -fPIC -O3 -msse3 -xc -shared -o $(Clib * \".\" * Libdl.dlext) -`, \"w\") do f\n",
    "    print(f, C_code) \n",
    "end\n",
    "\n",
    "# define a Julia function that calls the C function:\n",
    "c_sum(X::Array{Float64}) = ccall((\"c_sum\", Clib), Float64, (Csize_t, Ptr{Float64}), length(X), X);"
   ]
  },
  {
   "cell_type": "code",
   "execution_count": 84,
   "metadata": {},
   "outputs": [
    {
     "data": {
      "text/plain": [
       "BenchmarkTools.Trial: \n",
       "  memory estimate:  16 bytes\n",
       "  allocs estimate:  1\n",
       "  --------------\n",
       "  minimum time:     1.158 μs (0.00% GC)\n",
       "  median time:      1.268 μs (0.00% GC)\n",
       "  mean time:        1.336 μs (0.00% GC)\n",
       "  maximum time:     10.332 μs (0.00% GC)\n",
       "  --------------\n",
       "  samples:          10000\n",
       "  evals/sample:     10"
      ]
     },
     "execution_count": 84,
     "metadata": {},
     "output_type": "execute_result"
    }
   ],
   "source": [
    "@benchmark c_sum(a)"
   ]
  },
  {
   "cell_type": "code",
   "execution_count": 85,
   "metadata": {
    "slideshow": {
     "slide_type": "subslide"
    }
   },
   "outputs": [
    {
     "data": {
      "text/latex": [
       "The analogue of IPython's \\texttt{\\%time statement} (also \\texttt{\\%timeit}) in Julia is \\texttt{@time statement}.  The analogue of \\texttt{\\%\\%time ...code...} is\n",
       "\n",
       "\\begin{verbatim}\n",
       "@time begin\n",
       "    ...code...\n",
       "end\n",
       "\\end{verbatim}\n",
       "Note, however, that you should put all performance-critical code into a function, avoiding global variables, before doing performance measurements in Julia; see the \\href{http://docs.julialang.org/en/latest/manual/performance-tips/}{performance tips in the Julia manual}.\n",
       "\n",
       "The \\texttt{@time} macro prints the timing results, and returns the value of evaluating the expression.  To instead return the time (in seconds), use \\texttt{@elapsed statement}.\n",
       "\n",
       "For more extensive benchmarking tools, including the ability to collect statistics from multiple runs, see the \\href{https://github.com/JuliaCI/BenchmarkTools.jl}{BenchmarkTools package}.\n",
       "\n"
      ],
      "text/markdown": [
       "The analogue of IPython's `%time statement` (also `%timeit`) in Julia is `@time statement`.  The analogue of `%%time ...code...` is\n",
       "\n",
       "```\n",
       "@time begin\n",
       "    ...code...\n",
       "end\n",
       "```\n",
       "\n",
       "Note, however, that you should put all performance-critical code into a function, avoiding global variables, before doing performance measurements in Julia; see the [performance tips in the Julia manual](http://docs.julialang.org/en/latest/manual/performance-tips/).\n",
       "\n",
       "The `@time` macro prints the timing results, and returns the value of evaluating the expression.  To instead return the time (in seconds), use `@elapsed statement`.\n",
       "\n",
       "For more extensive benchmarking tools, including the ability to collect statistics from multiple runs, see the [BenchmarkTools package](https://github.com/JuliaCI/BenchmarkTools.jl).\n"
      ],
      "text/plain": [
       "  The analogue of IPython's \u001b[36m%time statement\u001b[39m (also \u001b[36m%timeit\u001b[39m) in Julia is \u001b[36m@time\n",
       "  statement\u001b[39m. The analogue of \u001b[36m%%time ...code...\u001b[39m is\n",
       "\n",
       "  \u001b[38;5;208m@\u001b[0m\u001b[38;5;208mtime\u001b[0m \u001b[0m\u001b[38;5;197mbegin\u001b[0m\n",
       "      \u001b[0m\u001b[38;5;197m...\u001b[0m\u001b[39mcode\u001b[0m\u001b[38;5;197m...\u001b[0m\n",
       "  \u001b[0m\u001b[38;5;197mend\u001b[0m\u001b[39m\u001b[0m\n",
       "\n",
       "\n",
       "  Note, however, that you should put all performance-critical code into a\n",
       "  function, avoiding global variables, before doing performance measurements\n",
       "  in Julia; see the performance tips in the Julia manual\n",
       "  (http://docs.julialang.org/en/latest/manual/performance-tips/).\n",
       "\n",
       "  The \u001b[36m@time\u001b[39m macro prints the timing results, and returns the value of\n",
       "  evaluating the expression. To instead return the time (in seconds), use\n",
       "  \u001b[36m@elapsed statement\u001b[39m.\n",
       "\n",
       "  For more extensive benchmarking tools, including the ability to collect\n",
       "  statistics from multiple runs, see the BenchmarkTools package\n",
       "  (https://github.com/JuliaCI/BenchmarkTools.jl)."
      ]
     },
     "metadata": {},
     "output_type": "display_data"
    }
   ],
   "source": [
    "# Python，switch the kernel\n",
    "\n",
    "import numpy as np\n",
    "a = np.random.rand(1000)\n",
    "\n",
    "%timeit np.sum(a)"
   ]
  },
  {
   "cell_type": "markdown",
   "metadata": {
    "slideshow": {
     "slide_type": "subslide"
    }
   },
   "source": [
    "在Julia里，如果对数组类型进行了索引，可以通过 `@inbounds` 去掉边界检查"
   ]
  },
  {
   "cell_type": "code",
   "execution_count": 77,
   "metadata": {},
   "outputs": [
    {
     "data": {
      "text/plain": [
       "BenchmarkTools.Trial: \n",
       "  memory estimate:  16 bytes\n",
       "  allocs estimate:  1\n",
       "  --------------\n",
       "  minimum time:     1.192 μs (0.00% GC)\n",
       "  median time:      1.270 μs (0.00% GC)\n",
       "  mean time:        1.341 μs (0.00% GC)\n",
       "  maximum time:     6.178 μs (0.00% GC)\n",
       "  --------------\n",
       "  samples:          10000\n",
       "  evals/sample:     10"
      ]
     },
     "execution_count": 77,
     "metadata": {},
     "output_type": "execute_result"
    }
   ],
   "source": [
    "using BenchmarkTools\n",
    "\n",
    "function mysum(a)\n",
    "    s = 0.0\n",
    "    for i in 1:length(a)\n",
    "        s += a[i]\n",
    "    end\n",
    "    s\n",
    "end\n",
    "\n",
    "a = rand(1000)\n",
    "@benchmark mysum(a)"
   ]
  },
  {
   "cell_type": "code",
   "execution_count": 78,
   "metadata": {
    "slideshow": {
     "slide_type": "subslide"
    }
   },
   "outputs": [
    {
     "data": {
      "text/plain": [
       "BenchmarkTools.Trial: \n",
       "  memory estimate:  16 bytes\n",
       "  allocs estimate:  1\n",
       "  --------------\n",
       "  minimum time:     1.191 μs (0.00% GC)\n",
       "  median time:      1.266 μs (0.00% GC)\n",
       "  mean time:        1.321 μs (0.00% GC)\n",
       "  maximum time:     6.101 μs (0.00% GC)\n",
       "  --------------\n",
       "  samples:          10000\n",
       "  evals/sample:     10"
      ]
     },
     "execution_count": 78,
     "metadata": {},
     "output_type": "execute_result"
    }
   ],
   "source": [
    "function mysum(a)\n",
    "    s = 0.0\n",
    "    @inbounds for i in 1:length(a)\n",
    "        s += a[i]\n",
    "    end\n",
    "    s\n",
    "end\n",
    "\n",
    "@benchmark mysum(a)"
   ]
  },
  {
   "cell_type": "code",
   "execution_count": 79,
   "metadata": {
    "slideshow": {
     "slide_type": "subslide"
    }
   },
   "outputs": [
    {
     "data": {
      "text/plain": [
       "BenchmarkTools.Trial: \n",
       "  memory estimate:  16 bytes\n",
       "  allocs estimate:  1\n",
       "  --------------\n",
       "  minimum time:     99.633 ns (0.00% GC)\n",
       "  median time:      107.694 ns (0.00% GC)\n",
       "  mean time:        130.104 ns (12.51% GC)\n",
       "  maximum time:     127.941 μs (99.91% GC)\n",
       "  --------------\n",
       "  samples:          10000\n",
       "  evals/sample:     921"
      ]
     },
     "execution_count": 79,
     "metadata": {},
     "output_type": "execute_result"
    }
   ],
   "source": [
    "function mysum(a)\n",
    "    s = 0.0\n",
    "    @inbounds @simd for i in 1:length(a)\n",
    "        s += a[i]\n",
    "    end\n",
    "    s\n",
    "end\n",
    "\n",
    "@benchmark mysum(a)"
   ]
  },
  {
   "cell_type": "markdown",
   "metadata": {},
   "source": [
    "## 融合的（Fused）广播\n",
    "\n",
    "当我们连续对几个数组进行广播的操作的时候，将这些操作融合到一起广播显然更加划算。从Julia 0.7（1.0的测试版）开始，Julia提供了融合广播操作 `@.`。"
   ]
  },
  {
   "cell_type": "code",
   "execution_count": 87,
   "metadata": {},
   "outputs": [
    {
     "data": {
      "text/plain": [
       "fdot (generic function with 1 method)"
      ]
     },
     "execution_count": 87,
     "metadata": {},
     "output_type": "execute_result"
    }
   ],
   "source": [
    "ff(x) = 3x.^2 + 4x + 7x.^3\n",
    "\n",
    "fdot(x) = @. 3x^2 + 4x + 7x^3 # equivalent to 3 .* x.^2 .+ 4 .* x .+ 7 .* x.^3"
   ]
  },
  {
   "cell_type": "code",
   "execution_count": 92,
   "metadata": {},
   "outputs": [
    {
     "data": {
      "text/plain": [
       "BenchmarkTools.Trial: \n",
       "  memory estimate:  47.75 KiB\n",
       "  allocs estimate:  10\n",
       "  --------------\n",
       "  minimum time:     5.385 μs (0.00% GC)\n",
       "  median time:      9.002 μs (0.00% GC)\n",
       "  mean time:        16.670 μs (49.74% GC)\n",
       "  maximum time:     24.185 ms (99.94% GC)\n",
       "  --------------\n",
       "  samples:          10000\n",
       "  evals/sample:     5"
      ]
     },
     "execution_count": 92,
     "metadata": {},
     "output_type": "execute_result"
    }
   ],
   "source": [
    "using BenchmarkTools\n",
    "\n",
    "a = rand(1000)\n",
    "\n",
    "@benchmark ff($a)"
   ]
  },
  {
   "cell_type": "code",
   "execution_count": 91,
   "metadata": {},
   "outputs": [
    {
     "data": {
      "text/plain": [
       "BenchmarkTools.Trial: \n",
       "  memory estimate:  8.03 KiB\n",
       "  allocs estimate:  4\n",
       "  --------------\n",
       "  minimum time:     1.750 μs (0.00% GC)\n",
       "  median time:      2.151 μs (0.00% GC)\n",
       "  mean time:        5.295 μs (51.54% GC)\n",
       "  maximum time:     16.302 ms (99.97% GC)\n",
       "  --------------\n",
       "  samples:          10000\n",
       "  evals/sample:     10"
      ]
     },
     "execution_count": 91,
     "metadata": {},
     "output_type": "execute_result"
    }
   ],
   "source": [
    "@benchmark fdot($a)"
   ]
  },
  {
   "cell_type": "markdown",
   "metadata": {},
   "source": [
    "## 致谢\n",
    "\n",
    "本中文教程参考了台湾杜岳华先生的幻灯片，和Steven G. Johnson教授的英文教程，和David Sanders在JuliaCon 2017的Tutorial，感谢Intel的史雪松先生对C++部分的建议。"
   ]
  }
 ],
 "metadata": {
  "@webio": {
   "lastCommId": "103fc5da29174adb85d2cc86ca828459",
   "lastKernelId": "88a2d21a-13bf-49c9-ae87-148aede73346"
  },
  "celltoolbar": "幻灯片",
  "kernelspec": {
   "display_name": "Julia 1.1.0",
   "language": "julia",
   "name": "julia-1.1"
  },
  "language_info": {
   "file_extension": ".jl",
   "mimetype": "application/julia",
   "name": "julia",
   "version": "1.1.0"
  }
 },
 "nbformat": 4,
 "nbformat_minor": 2
}
