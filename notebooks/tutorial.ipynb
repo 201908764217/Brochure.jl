{
 "cells": [
  {
   "cell_type": "markdown",
   "metadata": {
    "slideshow": {
     "slide_type": "slide"
    }
   },
   "source": [
    "![Julia](http://104.224.129.42/media/julia-logo.svg)\n",
    "\n",
    "#### 一种科学计算的新尝试"
   ]
  },
  {
   "cell_type": "markdown",
   "metadata": {
    "slideshow": {
     "slide_type": "slide"
    }
   },
   "source": [
    "## 没有银弹\n",
    "\n",
    "**没有银弹: 软件工程的本质性与附属性工作** 是IBM大型机之父 Fred Brooks 所发表的一篇关于软件工程的经典论文。指没有任何一项技术或方法可以使软件工程的生产力在十年内提高十倍。\n",
    "\n",
    "- **Python** 胶水，简单，灵活，生态丰富，好上手，...\n",
    "- **MATLAB** 有大量历史积累，速度足够快，商业软件有充分支持，对矩阵计算支持好...\n",
    "- **Fortran** 速度最快，有大量历史代码，...\n",
    "- **C** 充分接近底层，几乎所有的硬件都支持，语法足够简单（容易制定标准），...\n",
    "- **C++** 有大量工程实践，能够保证低抽象，工具丰富...\n"
   ]
  },
  {
   "cell_type": "markdown",
   "metadata": {
    "slideshow": {
     "slide_type": "subslide"
    }
   },
   "source": [
    "- **Python** 慢，作为胶水需要写大量胶水代码进行封装，...\n",
    "- **MATLAB** 商业软件收费，不够工程化，...\n",
    "- **Fortran** 过于古老，历史遗留问题多，生态不够好，没有包管理器 ...\n",
    "- **C** 语法简单，缺乏足够的抽象能力 ...\n",
    "- **C++** 开发效率低（某种程度上正是因为工具太丰富了），为了兼容有很多的妥协 ...\n"
   ]
  },
  {
   "cell_type": "markdown",
   "metadata": {
    "slideshow": {
     "slide_type": "fragment"
    }
   },
   "source": [
    "## 劣势往往是优势所带来的"
   ]
  },
  {
   "cell_type": "markdown",
   "metadata": {
    "slideshow": {
     "slide_type": "subslide"
    }
   },
   "source": [
    "## 科学计算的问题\n",
    "\n",
    "简单来说是已有的工具对于新出现的问题不够好用，影响了效率。使用 `MATLAB` 难以开发大型的程序库（起初并非一般目的的编程语言），此外作为商业软件需要收费（很多学校和机构也只买了部分功能）。\n",
    "\n",
    "而使用 `Python` 在 `Python` 层面的逻辑过多的时候，会有不能使用例如 `numba` 等特定加速器的情况，而一般的JIT编译器又由于Python本身的简单和动态性变得难以优化，例如 `Pyston`/`PyPy` ，于是需要用 `C/C++/Fortran/Cython` 重写，而后者的开发效率则要低很多。此外，进入了2010年之后，随着计算能力的提高，很多数值任务的计算量和复杂度都提高了，我们的模型越来越复杂，以至于在很多任务里性能是非常关键的，它或许直接决定了一个项目能否进行下去。\n",
    "\n",
    "我们的问题是：是否能在科学计算，这个场景下在 `Python` 和 `C/C++/Fortran` 之间找到一个平衡点？让我们可以用**一种语言**开发和实践想法，在保证Python一般的开发效率的前提下，尽可能地提高性能。"
   ]
  },
  {
   "cell_type": "markdown",
   "metadata": {
    "slideshow": {
     "slide_type": "subslide"
    }
   },
   "source": [
    "### 实践中的需求\n",
    "\n",
    "- 易用性：符合（数学）直觉（intuitive），代码易读，程序整体结构简单\n",
    "- 性能：能够充分榨干计算资源的性能，overhead尽可能的小\n",
    "- 描述能力：具有足够强大的抽象能力，使得代码干净无噪声（能够写出DRY的代码）\n",
    "- 免费开源：如果你的collaborator没有license怎么办？"
   ]
  },
  {
   "cell_type": "markdown",
   "metadata": {
    "slideshow": {
     "slide_type": "slide"
    }
   },
   "source": [
    "## Julia语言的特点"
   ]
  },
  {
   "cell_type": "markdown",
   "metadata": {
    "slideshow": {
     "slide_type": "subslide"
    }
   },
   "source": [
    "## 性能好\n",
    "\n",
    "![](https://plot.ly/~Roger-luo/9.png?share_key=Lf91Q3vXngwR4BCCAxVHa2)"
   ]
  },
  {
   "cell_type": "markdown",
   "metadata": {
    "slideshow": {
     "slide_type": "subslide"
    }
   },
   "source": [
    "## 其它特点\n",
    "\n",
    "- 可读性更好，更贴近数学表达式的代码\n",
    "- 内建的包管理器\n",
    "- 继承自Lisp的宏\n",
    "- 为并行计算和分布式系统设计\n",
    "- 协程：“绿色”的线程\n",
    "- 从语言层面支持的GPU编程：JuliaGPU/CUDAnative\n",
    "\n",
    "详见：[juliacn.com/julialang](http://juliacn.com/julialang/)"
   ]
  },
  {
   "cell_type": "markdown",
   "metadata": {
    "slideshow": {
     "slide_type": "subslide"
    }
   },
   "source": [
    "## 适用于科学计算\n",
    "\n",
    "- 机器学习（内建的GPU编程，无缝调用Python，更快的native代码，etc.）\n",
    "- 数据处理（支持HDF5和DataFrame，CSV等常用数据格式，自带分布式特性）\n",
    "- 仿真模拟（自带多维数组和各类稀疏矩阵）\n",
    "- 数值分析（高性能的代码和方便的并行计算）\n",
    "- etc."
   ]
  },
  {
   "cell_type": "markdown",
   "metadata": {
    "slideshow": {
     "slide_type": "subslide"
    }
   },
   "source": [
    "## 缺点\n",
    "\n",
    "*这只是部分缺点，不存在没有坑的语言，没有坑只是你学的不到位*\n",
    "\n",
    "- 基于JIT，启动有预热时间，不适合小规模，只运行一次的任务（例如shell脚本，这是几乎所有JIT编译器都会有的问题）\n",
    "- 新语言的生态还不够强，不适合 **调库** 党（即便能使用所有Python和大部分R的库）\n",
    "- CLI工具缺乏，不适合在终端（Terminal）开发，需要借助能够热重启（reload）和IDE开发"
   ]
  },
  {
   "cell_type": "markdown",
   "metadata": {
    "slideshow": {
     "slide_type": "subslide"
    }
   },
   "source": [
    "**micro-benchmark** 实际上很难说明问题，Julia官网的benchmark实际上也常常被指出不是按照某种语言特定的方式编写。但是举例而言，如果大家都比矩阵乘法 `gemm` ，没有任何意义，大家都是调 `mkl`/`openBLAS`。对于语言来讲，纯Julia编写的库更加有说服力\n",
    "\n",
    "\n",
    "## 标准库和一些官方支持的库\n",
    "\n",
    "- [StaticArrays.jl](https://github.com/JuliaArrays/StaticArrays.jl) 纯Julia实现的静态数组（更快的小型线性代数计算）\n",
    "- [SparseArrays.jl](https://docs.julialang.org/en/latest/stdlib/SparseArrays/) 纯Julia实现的稀疏矩阵库（一些操作，例如kronecker乘积远超`scipy.sparse`）\n"
   ]
  },
  {
   "cell_type": "markdown",
   "metadata": {
    "slideshow": {
     "slide_type": "subslide"
    }
   },
   "source": [
    "以下是一些纯Julia的实践：\n",
    "\n",
    "## 我们自己的实践\n",
    "\n",
    "用Julia语言实现比同类 `Python` + `C++` 实现更快的量子线路模拟器：[Github/Yao.jl](https://github.com/QuantumBFS/Yao.jl)\n",
    "\n",
    "## 一些其它的实践\n",
    "\n",
    "- [TensorOperations.jl](https://github.com/Jutho/TensorOperations.jl) 比 `numpy.einsum` 快将近十倍的，语法更加自然的张量收缩\n",
    "- [DifferentialEquations.jl](https://github.com/JuliaDiffEq/DifferentialEquations.jl) 性能更好，功能更加强大的偏微分方程求解器\n",
    "- [CUDAnative.jl](https://github.com/JuliaGPU/CUDAnative.jl) 唯一一个在动态语言上支持CUDA编程的工具包\n",
    "- [Knet.jl](https://github.com/denizyuret/Knet.jl) 纯Julia实现的深度学习框架\n",
    "- [Turing.jl](https://github.com/TuringLang/Turing.jl) 纯Julia实现的统计推断语言（DSL）\n",
    "- [JuMP.jl](https://github.com/JuliaOpt/JuMP.jl) 利用Julia实现的优化器DSL（Domain Specific Language）\n"
   ]
  },
  {
   "cell_type": "markdown",
   "metadata": {
    "slideshow": {
     "slide_type": "subslide"
    }
   },
   "source": [
    "延伸阅读：\n",
    "\n",
    "1. [JuliaCon 2018: Why Julia is the most suitable language for science](https://www.youtube.com/watch?v=7y-ahkUsIrY) 科学计算软件开发者谈Julia语言\n",
    "2. [Why numba and cython are not substitutes for Julia](http://www.stochasticlifestyle.com/why-numba-and-cython-are-not-substitutes-for-julia/) 从Julia社区的角度看Numba和cython\n",
    "5. [Github/numba: #3814, Why Julia? Will Python/Numba and Python/Cython lose to Julia?](https://github.com/numba/numba/issues/3814) 从Numba社区的角度看Julia\n",
    "3. [Why Julia work so well](https://ucidatascienceinitiative.github.io/IntroToJulia/Html/WhyJulia) 深入了解多重派发和Julia的类型系统\n",
    "4. [为什么我们要创造Julia](https://julialang.org/blog/2012/02/why-we-created-julia-zh_CN) Julia最初的设想\n",
    "6. [The Julia paper](https://arxiv.org/abs/1209.5145) 介绍了编程语言语义设计和优化的矛盾"
   ]
  },
  {
   "cell_type": "markdown",
   "metadata": {
    "slideshow": {
     "slide_type": "slide"
    }
   },
   "source": [
    "## 如何安装和配置Julia开发环境"
   ]
  },
  {
   "cell_type": "markdown",
   "metadata": {
    "slideshow": {
     "slide_type": "subslide"
    }
   },
   "source": [
    "我推荐直接安装全家桶：Julia Pro：\n",
    "\n",
    "https://shop.juliacomputing.com/Products/juliapro-2-2-2-2-2/\n",
    "\n",
    "像Python一样，Julia可以通过从官网下载编译器安装：\n",
    "\n",
    "https://julialang.org/downloads/\n",
    "\n",
    "但是国内有些地区的速度可能较慢，所以我们也准备了境内的服务器：\n",
    "\n",
    "http://juliacn.com/downloads/\n"
   ]
  },
  {
   "cell_type": "markdown",
   "metadata": {
    "slideshow": {
     "slide_type": "subslide"
    }
   },
   "source": [
    "## 如何获得帮助\n",
    "\n",
    "- 查文档：官方文档（docs.julialang.org），中文文档（在建，juliacn.com）\n",
    "- 搜索：Google 或者 Bing\n",
    "- 论坛：https://discourse.julialang.org （英文）/ https://discourse.juliacn.com (中文)\n",
    "- 知乎：搜索或者提问\n",
    "- QQ群：316628299\n"
   ]
  },
  {
   "cell_type": "markdown",
   "metadata": {
    "slideshow": {
     "slide_type": "subslide"
    }
   },
   "source": [
    "## 安装jupyter notebook\n",
    "\n",
    "我们这次主要使用jupyter notebook来展示Julia。Julia和jupyter都是开源组织NumFocus的项目，所以jupyter实际上来自于：Julia，Python，R的开头。除了jupyter notebook以外，你还可以使用：\n",
    "\n",
    "- 在线的Julia环境：http://juliabox.com \n",
    "- 以及Atom上的Julia插件Juno\n",
    "- Jetbrain平台上的Julia插件：https://plugins.jetbrains.com/plugin/10413-julia （千里冰封）\n",
    "- VS code上的Julia插件\n"
   ]
  },
  {
   "cell_type": "markdown",
   "metadata": {
    "slideshow": {
     "slide_type": "subslide"
    }
   },
   "source": [
    "首先打开你的Julia交互式环境（REPL）：\n",
    "\n",
    "- Linux用户请打开你的命令行，运行Julia的可执行文件：`你的Julia安装路径/julia`\n",
    "- Mac用户请在app里找到Julia然后点击打开，或者如果下载了其它二进制版本的，也请打开命令行运行可执行文件\n",
    "- Windows用户请在桌面/安装目录中找到Julia的快捷方式活着可执行文件，然后双击打开"
   ]
  },
  {
   "cell_type": "markdown",
   "metadata": {
    "slideshow": {
     "slide_type": "subslide"
    }
   },
   "source": [
    "然后按`]`键进入pkg模式：\n",
    "\n",
    "```\n",
    "(v1.0) pkg> add IJulia PyCall\n",
    "```\n",
    "\n",
    "`PyCall`的编译时间可能会比较久，不用着急，如果你之前没有安装过Python（或者Python不在标准路径里）那么它将会自动下载Python。"
   ]
  },
  {
   "cell_type": "markdown",
   "metadata": {
    "slideshow": {
     "slide_type": "subslide"
    }
   },
   "source": [
    "先别着急，在启动notebook之前，我们先了解一下Julia的REPL：\n",
    "\n",
    "![](julia-repl.png)"
   ]
  },
  {
   "cell_type": "markdown",
   "metadata": {
    "slideshow": {
     "slide_type": "subslide"
    }
   },
   "source": [
    "我们可以按 `]` 键进入package模式来安装package\n",
    "\n",
    "<img src=\"https://discourse.juliacn.com/uploads/default/original/1X/01e4b983dccf7311b78afdd76a65f9117411f444.gif\"></img>"
   ]
  },
  {
   "cell_type": "markdown",
   "metadata": {
    "slideshow": {
     "slide_type": "subslide"
    }
   },
   "source": [
    "### 安装这个教程\n",
    "\n",
    "本教程也是一个标准的Julia package，你可以直接通过Julia的包管理器下载（安装）这个教程到本地。**在pkg模式下**输入下面的指令\n",
    "\n",
    "```julia\n",
    "(v1.0) pkg> add https://github.com/Roger-luo/TutorialZH.jl.git\n",
    "```"
   ]
  },
  {
   "cell_type": "markdown",
   "metadata": {
    "slideshow": {
     "slide_type": "subslide"
    }
   },
   "source": [
    "### 安装常用的package\n",
    "\n",
    "有一些常用的package是非常推荐一开始就装好的，这包括以下的package，你可以选择性的安装：\n",
    "\n",
    "- [Revise]() 代码热加载\n",
    "- [Debugger]() 命令行断点和调试工具\n",
    "- [IJulia]() Julia的jupyter notebook启动器 \n",
    "- [PyPlot]() matplotlib的Julia封装，用于绘图\n",
    "- [GR]() 一个基于C的轻量级绘图库\n",
    "\n",
    "本教程会自动安装 **Revise**，**IJulia** 和 **GR**"
   ]
  },
  {
   "cell_type": "markdown",
   "metadata": {
    "slideshow": {
     "slide_type": "subslide"
    }
   },
   "source": [
    "### 养成查阅文档的好习惯\n",
    "\n",
    "Julia官方文档是最权威，也是最标准的参考资料。你甚至可以直接通过阅读文档来学习Julia：\n",
    "\n",
    "- 中文文档：[docs.juliacn.com](https://docs.juliacn.com)\n",
    "- 英文文档：[docs.julialang.org](https://docs.julialang.org)\n",
    "\n",
    "文档的左手边可以进行搜索"
   ]
  },
  {
   "cell_type": "markdown",
   "metadata": {
    "slideshow": {
     "slide_type": "subslide"
    }
   },
   "source": [
    "如果对什么有疑问，可以按`?`进入 `help` （帮助）模式来查看文档：\n",
    "\n",
    "```\n",
    "help?> julia\n",
    "search:\n",
    "\n",
    "  Welcome to Julia 0.7.0-beta2.33. The full manual is available at\n",
    "\n",
    "  https://docs.julialang.org/\n",
    "\n",
    "  as well as many great tutorials and learning resources:\n",
    "\n",
    "  https://julialang.org/learning/\n",
    "\n",
    "  For help on a specific function or macro, type ? followed by its name, e.g. ?cos, or\n",
    "  ?@time, and press enter.\n",
    "```"
   ]
  },
  {
   "cell_type": "markdown",
   "metadata": {
    "slideshow": {
     "slide_type": "subslide"
    }
   },
   "source": [
    "如果需要临时进入shell进行操作，按 `;` 可以进入 `shell` 模式：\n",
    "\n",
    "```julia\n",
    "shell> ls\n",
    "Applications\tDocuments\tLibrary\t\tMusic\t\tPublic\n",
    "Desktop\t\tDownloads\tMovies\t\tPictures\ttest.jl\n",
    "```"
   ]
  },
  {
   "cell_type": "markdown",
   "metadata": {
    "slideshow": {
     "slide_type": "subslide"
    }
   },
   "source": [
    "顺便一提，你还可以通过重载 `REPL` 模块里的方法创建个性的交互式界面，比如 `OhMyREPL`\n",
    "\n",
    "![oh-my-repl](https://camo.githubusercontent.com/3cc1b639c8e0c129b419bb4727266cb56432241e/68747470733a2f2f692e696d6775722e636f6d2f777452304153442e706e67)"
   ]
  },
  {
   "cell_type": "markdown",
   "metadata": {
    "slideshow": {
     "slide_type": "subslide"
    }
   },
   "source": [
    "### 运行这个教程的示例程序\n",
    "\n",
    "这个教程使用jupyter notebook编写，你可以在安装TutorialZH以后通过在REPL中输入\n",
    "\n",
    "```julia\n",
    "julia> using TutorialZH\n",
    "\n",
    "julia> tutorial()\n",
    "```\n",
    "\n",
    "来打开这个notebook。"
   ]
  },
  {
   "cell_type": "markdown",
   "metadata": {
    "slideshow": {
     "slide_type": "slide"
    }
   },
   "source": [
    "## 本次教程的目标\n",
    "\n",
    "- 学会基本的语法（变量，控制流）\n",
    "- 了解开发Julia的工具\n",
    "- 了解一些常用的包和工具\n",
    "- 了解宏和Julia编译器\n",
    "- 了解如何编写高性能的Julia代码\n"
   ]
  },
  {
   "cell_type": "markdown",
   "metadata": {
    "slideshow": {
     "slide_type": "slide"
    }
   },
   "source": [
    "## 基本语法\n",
    "\n",
    "这一部分我们将简单地学习Julia的语法，包括它的字符串，变量，控制流还有函数的声明。"
   ]
  },
  {
   "cell_type": "markdown",
   "metadata": {
    "slideshow": {
     "slide_type": "subslide"
    }
   },
   "source": [
    "### Hello World\n",
    "\n",
    "打印一个字符串非常简单，在Julia里类似于C语言，字符串使用双引号，而字符使用单引号。"
   ]
  },
  {
   "cell_type": "code",
   "execution_count": null,
   "metadata": {
    "slideshow": {
     "slide_type": "fragment"
    }
   },
   "outputs": [],
   "source": [
    "println(\"Hello World!\")"
   ]
  },
  {
   "cell_type": "code",
   "execution_count": null,
   "metadata": {
    "slideshow": {
     "slide_type": "fragment"
    }
   },
   "outputs": [],
   "source": [
    "@show \"Hello World!\""
   ]
  },
  {
   "cell_type": "markdown",
   "metadata": {
    "slideshow": {
     "slide_type": "subslide"
    }
   },
   "source": [
    "### 变量\n",
    "\n",
    "你也可以绑定一个变量"
   ]
  },
  {
   "cell_type": "code",
   "execution_count": null,
   "metadata": {
    "slideshow": {
     "slide_type": "fragment"
    }
   },
   "outputs": [],
   "source": [
    "x = \"Hello World\""
   ]
  },
  {
   "cell_type": "markdown",
   "metadata": {
    "slideshow": {
     "slide_type": "fragment"
    }
   },
   "source": [
    "变量名称不仅仅可以是ASCII字符，也可以是其它的Unicode字符，甚至是中文"
   ]
  },
  {
   "cell_type": "code",
   "execution_count": null,
   "metadata": {
    "slideshow": {
     "slide_type": "fragment"
    }
   },
   "outputs": [],
   "source": [
    "你好 = \"Hello!\"\n",
    "你好"
   ]
  },
  {
   "cell_type": "markdown",
   "metadata": {
    "slideshow": {
     "slide_type": "subslide"
    }
   },
   "source": [
    "还可以是Emoji，输入 `\\:smile` 然后再按 `tab`"
   ]
  },
  {
   "cell_type": "code",
   "execution_count": null,
   "metadata": {
    "slideshow": {
     "slide_type": "fragment"
    }
   },
   "outputs": [],
   "source": [
    "😄 = \"smile\""
   ]
  },
  {
   "cell_type": "markdown",
   "metadata": {
    "slideshow": {
     "slide_type": "fragment"
    }
   },
   "source": [
    "还可以利用LaTeX来输入特别的数学符号，在notebook或者REPL里输入 `\\` + `epsilon` 按 `tab` 键"
   ]
  },
  {
   "cell_type": "code",
   "execution_count": null,
   "metadata": {
    "slideshow": {
     "slide_type": "fragment"
    }
   },
   "outputs": [],
   "source": [
    "ϵ = 2.2"
   ]
  },
  {
   "cell_type": "markdown",
   "metadata": {
    "slideshow": {
     "slide_type": "fragment"
    }
   },
   "source": [
    "Julia还利用了LLVM的一些常数（无限精度）："
   ]
  },
  {
   "cell_type": "code",
   "execution_count": null,
   "metadata": {
    "slideshow": {
     "slide_type": "fragment"
    }
   },
   "outputs": [],
   "source": [
    "π"
   ]
  },
  {
   "cell_type": "markdown",
   "metadata": {
    "slideshow": {
     "slide_type": "subslide"
    }
   },
   "source": [
    "## 任务一：对数组求和\n",
    "\n",
    "我们定义一个求和函数 `sum(a)`，它会计算\n",
    "$$\n",
    "\\mathrm{sum}(a) = \\sum_{i=1}^n a_i,\n",
    "$$\n",
    "这里 $n$ 是 `a` 的长度。"
   ]
  },
  {
   "cell_type": "markdown",
   "metadata": {
    "slideshow": {
     "slide_type": "subslide"
    }
   },
   "source": [
    "#### 首先，我们来创建一个数组（Array）\n",
    "\n",
    "下面这行代码创建了一个随机矩阵（二维数组），然后将它绑定到名字为 `A` 的变量上去"
   ]
  },
  {
   "cell_type": "code",
   "execution_count": 2,
   "metadata": {
    "slideshow": {
     "slide_type": "fragment"
    }
   },
   "outputs": [
    {
     "data": {
      "text/plain": [
       "10×10 Array{Float64,2}:\n",
       " 0.845906  0.615737  0.778366  0.0688443  …  0.918817  0.0631186  0.33845  \n",
       " 0.997016  0.472171  0.141833  0.0623059     0.119848  0.0998882  0.799582 \n",
       " 0.279013  0.639588  0.360945  0.190829      0.171301  0.367456   0.0727776\n",
       " 0.586879  0.858203  0.628774  0.29052       0.192734  0.511676   0.999699 \n",
       " 0.302769  0.881413  0.801076  0.126405      0.924439  0.586453   0.951982 \n",
       " 0.81484   0.990071  0.755555  0.677426   …  0.974954  0.947641   0.871375 \n",
       " 0.569931  0.561748  0.514817  0.115109      0.543304  0.917505   0.228818 \n",
       " 0.364693  0.467692  0.957352  0.983408      0.210965  0.183115   0.653803 \n",
       " 0.331954  0.425651  0.682921  0.990647      0.532392  0.437645   0.576273 \n",
       " 0.644689  0.685384  0.457818  0.972617      0.529199  0.580472   0.572595 "
      ]
     },
     "execution_count": 2,
     "metadata": {},
     "output_type": "execute_result"
    }
   ],
   "source": [
    "A = rand(10, 10)"
   ]
  },
  {
   "cell_type": "markdown",
   "metadata": {
    "slideshow": {
     "slide_type": "subslide"
    }
   },
   "source": [
    "变量（Variable）：某个值的名字，以方便你保存这个值供后面使用。"
   ]
  },
  {
   "cell_type": "markdown",
   "metadata": {
    "slideshow": {
     "slide_type": "subslide"
    }
   },
   "source": [
    "如何创建一个随机向量（一维数组）？"
   ]
  },
  {
   "cell_type": "code",
   "execution_count": 3,
   "metadata": {
    "slideshow": {
     "slide_type": "fragment"
    }
   },
   "outputs": [
    {
     "data": {
      "text/plain": [
       "10-element Array{Float64,1}:\n",
       " 0.18009630600850035\n",
       " 0.2252949348753761 \n",
       " 0.11296845192135474\n",
       " 0.19758037281223095\n",
       " 0.8104862802530217 \n",
       " 0.9932834078696775 \n",
       " 0.15072630569722523\n",
       " 0.3664206877401146 \n",
       " 0.7742701234407905 \n",
       " 0.8829186039514656 "
      ]
     },
     "execution_count": 3,
     "metadata": {},
     "output_type": "execute_result"
    }
   ],
   "source": [
    "A = rand(10)"
   ]
  },
  {
   "cell_type": "markdown",
   "metadata": {
    "slideshow": {
     "slide_type": "subslide"
    }
   },
   "source": [
    "参考资料：\n",
    "\n",
    "- [Multidimensional Array](https://docs.julialang.org/en/v1/manual/arrays/)\n",
    "- [中文文档：多维数组](https://docs.juliacn.com/latest/manual/arrays/)"
   ]
  },
  {
   "cell_type": "markdown",
   "metadata": {
    "slideshow": {
     "slide_type": "subslide"
    }
   },
   "source": [
    "### 函数声明\n",
    "\n",
    "在Julia里我们使用 `function` 关键字声明一个函数，例如我们可以这样声明一个 `foo` 函数，它接收一个变量然后把它打印出来\n",
    "\n",
    "```julia\n",
    "function foo(x)\n",
    "    println(x)\n",
    "end\n",
    "```"
   ]
  },
  {
   "cell_type": "markdown",
   "metadata": {
    "slideshow": {
     "slide_type": "subslide"
    }
   },
   "source": [
    "或者还有更加简介的声明方式，就像我们在数学表达式中定义函数一样\n",
    "\n",
    "```julia\n",
    "foo(x) = println(x)\n",
    "```"
   ]
  },
  {
   "cell_type": "code",
   "execution_count": 4,
   "metadata": {
    "slideshow": {
     "slide_type": "subslide"
    }
   },
   "outputs": [
    {
     "data": {
      "text/plain": [
       "mysum (generic function with 1 method)"
      ]
     },
     "execution_count": 4,
     "metadata": {},
     "output_type": "execute_result"
    }
   ],
   "source": [
    "function mysum(x)\n",
    "    acc = 0\n",
    "    for each in x\n",
    "        acc += each\n",
    "    end\n",
    "    return acc\n",
    "end"
   ]
  },
  {
   "cell_type": "markdown",
   "metadata": {
    "slideshow": {
     "slide_type": "subslide"
    }
   },
   "source": [
    "随机的数组求和不太容易检验，我们就对1到10的整数进行求和来看看结果对不对。如何声明1到10的整数呢？\n",
    "\n",
    "方法一：构造一个都是零的一维数组，然后赋值"
   ]
  },
  {
   "cell_type": "code",
   "execution_count": 5,
   "metadata": {},
   "outputs": [
    {
     "data": {
      "text/plain": [
       "10-element Array{Float64,1}:\n",
       " 0.0\n",
       " 0.0\n",
       " 0.0\n",
       " 0.0\n",
       " 0.0\n",
       " 0.0\n",
       " 0.0\n",
       " 0.0\n",
       " 0.0\n",
       " 0.0"
      ]
     },
     "execution_count": 5,
     "metadata": {},
     "output_type": "execute_result"
    }
   ],
   "source": [
    "V = zeros(10)"
   ]
  },
  {
   "cell_type": "code",
   "execution_count": 6,
   "metadata": {
    "slideshow": {
     "slide_type": "subslide"
    }
   },
   "outputs": [
    {
     "data": {
      "text/plain": [
       "10-element Array{Float64,1}:\n",
       "  1.0\n",
       "  2.0\n",
       "  3.0\n",
       "  4.0\n",
       "  5.0\n",
       "  6.0\n",
       "  7.0\n",
       "  8.0\n",
       "  9.0\n",
       " 10.0"
      ]
     },
     "execution_count": 6,
     "metadata": {},
     "output_type": "execute_result"
    }
   ],
   "source": [
    "for k in 1:10\n",
    "    V[k] = k\n",
    "end\n",
    "\n",
    "V"
   ]
  },
  {
   "cell_type": "markdown",
   "metadata": {},
   "source": [
    "方法二：列表推导（list comprehension）\n",
    "\n",
    "这是Julia的一个语法糖（syntax sugar）可以让你写出更加简洁的代码，是我们鼓励的写法"
   ]
  },
  {
   "cell_type": "code",
   "execution_count": 7,
   "metadata": {},
   "outputs": [
    {
     "data": {
      "text/plain": [
       "10-element Array{Int64,1}:\n",
       "  1\n",
       "  2\n",
       "  3\n",
       "  4\n",
       "  5\n",
       "  6\n",
       "  7\n",
       "  8\n",
       "  9\n",
       " 10"
      ]
     },
     "execution_count": 7,
     "metadata": {},
     "output_type": "execute_result"
    }
   ],
   "source": [
    "V = [k for k in 1:10]"
   ]
  },
  {
   "cell_type": "code",
   "execution_count": 8,
   "metadata": {},
   "outputs": [
    {
     "data": {
      "text/plain": [
       "55"
      ]
     },
     "execution_count": 8,
     "metadata": {},
     "output_type": "execute_result"
    }
   ],
   "source": [
    "mysum(V)"
   ]
  },
  {
   "cell_type": "markdown",
   "metadata": {
    "slideshow": {
     "slide_type": "subslide"
    }
   },
   "source": [
    "对偶数角标求和："
   ]
  },
  {
   "cell_type": "code",
   "execution_count": 10,
   "metadata": {},
   "outputs": [
    {
     "data": {
      "text/plain": [
       "is_even (generic function with 1 method)"
      ]
     },
     "execution_count": 10,
     "metadata": {},
     "output_type": "execute_result"
    }
   ],
   "source": [
    "is_even(x::Int) = x % 2 == 0"
   ]
  },
  {
   "cell_type": "code",
   "execution_count": 13,
   "metadata": {
    "slideshow": {
     "slide_type": "-"
    }
   },
   "outputs": [
    {
     "data": {
      "text/plain": [
       "2.665498007248865"
      ]
     },
     "execution_count": 13,
     "metadata": {},
     "output_type": "execute_result"
    }
   ],
   "source": [
    "function sum_even(A)\n",
    "    acc = 0.0\n",
    "    for i in eachindex(A)\n",
    "        if is_even(i)\n",
    "            acc += A[i]\n",
    "        end\n",
    "    end\n",
    "    return acc\n",
    "end\n",
    "\n",
    "sum_even(A)"
   ]
  },
  {
   "cell_type": "markdown",
   "metadata": {
    "slideshow": {
     "slide_type": "subslide"
    }
   },
   "source": [
    "所有的Julia对象都有类型，当标注了类型而输入了错误的参数类型时就会报错。"
   ]
  },
  {
   "cell_type": "code",
   "execution_count": null,
   "metadata": {
    "slideshow": {
     "slide_type": "-"
    }
   },
   "outputs": [],
   "source": [
    "is_even(2.0)"
   ]
  },
  {
   "cell_type": "markdown",
   "metadata": {
    "slideshow": {
     "slide_type": "subslide"
    }
   },
   "source": [
    "最后让我们为 `is_even` 加上文档（文档是 `markdown` 格式，细则请参见文档：[英文](https://docs.julialang.org/en/latest/manual/documentation/)）"
   ]
  },
  {
   "cell_type": "code",
   "execution_count": null,
   "metadata": {},
   "outputs": [],
   "source": [
    "\"\"\"\n",
    "    is_even(x::Int) -> Bool\n",
    "\n",
    "判断一个整数 `x` 是否是偶数\n",
    "\"\"\"\n",
    "is_even"
   ]
  },
  {
   "cell_type": "markdown",
   "metadata": {
    "slideshow": {
     "slide_type": "subslide"
    }
   },
   "source": [
    "用 `@doc` 宏来查看或编辑文档，或者使用帮助模式（help mode）"
   ]
  },
  {
   "cell_type": "code",
   "execution_count": null,
   "metadata": {},
   "outputs": [],
   "source": [
    "?is_even"
   ]
  },
  {
   "cell_type": "markdown",
   "metadata": {
    "slideshow": {
     "slide_type": "subslide"
    }
   },
   "source": [
    "你可能已经从以上打印的信息中注意到，Julia的所有变量都有 **类型（type）**，例如 `A` 这个随机数组是 `Array{Float64, 2}` 类型，意思是说一个二维的，元素类型为 `Float64` 的 `Array` 数组类型。我们往往使用类型来描述一个对象（object），例如\n",
    "\n",
    "比如我们可以这样定义一个车子类型\n",
    "\n",
    "```julia\n",
    "struct Car end\n",
    "```"
   ]
  },
  {
   "cell_type": "markdown",
   "metadata": {
    "slideshow": {
     "slide_type": "subslide"
    }
   },
   "source": [
    "下面我们来实现一个叫 `OneTo` 的类型"
   ]
  },
  {
   "cell_type": "code",
   "execution_count": 14,
   "metadata": {},
   "outputs": [],
   "source": [
    "struct OneTo\n",
    "    stop::Int\n",
    "end"
   ]
  },
  {
   "cell_type": "markdown",
   "metadata": {},
   "source": [
    "使得它传入 `mysum` 以后会从 `1` 加到 `stop`"
   ]
  },
  {
   "cell_type": "markdown",
   "metadata": {
    "slideshow": {
     "slide_type": "subslide"
    }
   },
   "source": [
    "构造一个类型需要实现构造器（constructor），Julia的每个类型都自带一个构造器。我们可以直接这样构造一个 `OneTo` 类型的实例（instance）"
   ]
  },
  {
   "cell_type": "code",
   "execution_count": 15,
   "metadata": {},
   "outputs": [
    {
     "data": {
      "text/plain": [
       "OneTo(10)"
      ]
     },
     "execution_count": 15,
     "metadata": {},
     "output_type": "execute_result"
    }
   ],
   "source": [
    "OneTo(10)"
   ]
  },
  {
   "cell_type": "markdown",
   "metadata": {
    "slideshow": {
     "slide_type": "subslide"
    }
   },
   "source": [
    "而对于这个类型，我们可以直接计算出结果，而不是进行for循环\n",
    "\n",
    "$$\n",
    "\\frac{n (n + 1)}{2}\n",
    "$$"
   ]
  },
  {
   "cell_type": "code",
   "execution_count": 16,
   "metadata": {},
   "outputs": [
    {
     "data": {
      "text/plain": [
       "mysum (generic function with 2 methods)"
      ]
     },
     "execution_count": 16,
     "metadata": {},
     "output_type": "execute_result"
    }
   ],
   "source": [
    "mysum(x::OneTo) = x.stop * (x.stop + 1) ÷ 2"
   ]
  },
  {
   "cell_type": "code",
   "execution_count": 17,
   "metadata": {
    "slideshow": {
     "slide_type": "fragment"
    }
   },
   "outputs": [
    {
     "data": {
      "text/plain": [
       "55"
      ]
     },
     "execution_count": 17,
     "metadata": {},
     "output_type": "execute_result"
    }
   ],
   "source": [
    "mysum(OneTo(10))"
   ]
  },
  {
   "cell_type": "markdown",
   "metadata": {
    "slideshow": {
     "slide_type": "subslide"
    }
   },
   "source": [
    "在Julia里，我们有两个概念：generic function和method，每个函数名字定义了一个generic function，而每一种函数变量类型的组合定义了一个method。Julia会在你定义了一个method之后自动产生这个generic函数，然后给这个generic函数增加一个method。\n",
    "\n",
    "所以当然你可以只声明一个generic函数"
   ]
  },
  {
   "cell_type": "code",
   "execution_count": 18,
   "metadata": {},
   "outputs": [
    {
     "data": {
      "text/plain": [
       "foo (generic function with 0 methods)"
      ]
     },
     "execution_count": 18,
     "metadata": {},
     "output_type": "execute_result"
    }
   ],
   "source": [
    "function foo end"
   ]
  },
  {
   "cell_type": "markdown",
   "metadata": {
    "slideshow": {
     "slide_type": "subslide"
    }
   },
   "source": [
    "我们上面定义的 `mysum` 作为一个generic函数拥有两个method，一个是非常general的用循环求和的实现，另外一个是针对 `OneTo` 的实现，但他们的意义都是一样的。\n",
    "\n",
    "实际上不同于其它编程语言，Julia程序的设计采用所谓的 **面向方法的编程范式（method oriented programming）**，如果你想深入了解面向方法和面向对象的区别，可以阅读：[再谈Julia的编程范式](https://zhuanlan.zhihu.com/p/54957610)"
   ]
  },
  {
   "cell_type": "markdown",
   "metadata": {
    "slideshow": {
     "slide_type": "subslide"
    }
   },
   "source": [
    "但是问题来了，如果有两个实际意义不同但是名字相同的generic函数或者变量，亦或者是类型，如何区分他们呢？例如\n",
    "\n",
    "\n",
    "对于文本文件，可以有 `readfile` 这个函数，但对于图片或者其它文件也可以有 `readfile` 这个函数，但是他们的实际实现是不同的，但输入的类型都是用 `String` 类型表示的地址\n",
    "\n",
    "```julia\n",
    "readfile(\"foo.txt\")\n",
    "```\n",
    "\n",
    "和\n",
    "\n",
    "```julia\n",
    "readfile(\"foo.png\")\n",
    "```"
   ]
  },
  {
   "cell_type": "markdown",
   "metadata": {
    "slideshow": {
     "slide_type": "subslide"
    }
   },
   "source": [
    "Julia提供了模块（module）来进行名字空间的管理，你可以使用 **module** 关键字声明一个模块，上面的例子就可以变成"
   ]
  },
  {
   "cell_type": "code",
   "execution_count": 18,
   "metadata": {},
   "outputs": [
    {
     "name": "stderr",
     "output_type": "stream",
     "text": [
      "WARNING: replacing module PNGFile.\n"
     ]
    },
    {
     "data": {
      "text/plain": [
       "Main.PNGFile"
      ]
     },
     "execution_count": 18,
     "metadata": {},
     "output_type": "execute_result"
    }
   ],
   "source": [
    "module PNGFile\n",
    "   function readfile(path::String)\n",
    "      println(\"read a png file\")\n",
    "   end\n",
    "end"
   ]
  },
  {
   "cell_type": "code",
   "execution_count": 17,
   "metadata": {},
   "outputs": [
    {
     "name": "stderr",
     "output_type": "stream",
     "text": [
      "WARNING: replacing module TextFile.\n"
     ]
    },
    {
     "data": {
      "text/plain": [
       "Main.TextFile"
      ]
     },
     "execution_count": 17,
     "metadata": {},
     "output_type": "execute_result"
    }
   ],
   "source": [
    "module TextFile\n",
    "   function readfile(path::String)\n",
    "      println(\"read a text file\")\n",
    "   end\n",
    "end"
   ]
  },
  {
   "cell_type": "markdown",
   "metadata": {
    "slideshow": {
     "slide_type": "subslide"
    }
   },
   "source": [
    "然后你就可以通过点操作符号，来访问不同函数"
   ]
  },
  {
   "cell_type": "code",
   "execution_count": 19,
   "metadata": {},
   "outputs": [
    {
     "name": "stdout",
     "output_type": "stream",
     "text": [
      "read a text file\n"
     ]
    }
   ],
   "source": [
    "TextFile.readfile(\"foo.txt\")"
   ]
  },
  {
   "cell_type": "code",
   "execution_count": 20,
   "metadata": {},
   "outputs": [
    {
     "name": "stdout",
     "output_type": "stream",
     "text": [
      "read a png file\n"
     ]
    }
   ],
   "source": [
    "PNGFile.readfile(\"foo.png\")"
   ]
  },
  {
   "cell_type": "markdown",
   "metadata": {
    "slideshow": {
     "slide_type": "subslide"
    }
   },
   "source": [
    "实际上所有的Julia程序都是在一个模块里。默认Julia代码存在于 `Main` 模块中，你可以通过 `@__MODULE__` 来获得当前的module"
   ]
  },
  {
   "cell_type": "code",
   "execution_count": 21,
   "metadata": {},
   "outputs": [
    {
     "data": {
      "text/plain": [
       "Main"
      ]
     },
     "execution_count": 21,
     "metadata": {},
     "output_type": "execute_result"
    }
   ],
   "source": [
    "@__MODULE__"
   ]
  },
  {
   "cell_type": "markdown",
   "metadata": {
    "slideshow": {
     "slide_type": "subslide"
    }
   },
   "source": [
    "有时候当我们确认命名没有冲突，或者只需要其中一个函数的时候。每次都写全模块全称很麻烦，所以我们可以使用 `import` 来导入一个模块的名称，例如\n",
    "\n",
    "```julia\n",
    "import TextFile: readfile\n",
    "```\n",
    "\n",
    "或者我们可以在模块内部标记默认会导出的命名"
   ]
  },
  {
   "cell_type": "code",
   "execution_count": 22,
   "metadata": {},
   "outputs": [
    {
     "name": "stderr",
     "output_type": "stream",
     "text": [
      "WARNING: replacing module TextFile.\n",
      "WARNING: replacing module PNGFile.\n"
     ]
    },
    {
     "data": {
      "text/plain": [
       "Main.PNGFile"
      ]
     },
     "execution_count": 22,
     "metadata": {},
     "output_type": "execute_result"
    }
   ],
   "source": [
    "module TextFile\n",
    "    export readfile\n",
    "    function readfile(path::String)\n",
    "      println(\"read a text file\")\n",
    "   end\n",
    "end\n",
    "\n",
    "module PNGFile\n",
    "   export readfile\n",
    "   function readfile(path::String)\n",
    "      println(\"read a png file\")\n",
    "   end\n",
    "end"
   ]
  },
  {
   "cell_type": "code",
   "execution_count": 23,
   "metadata": {
    "slideshow": {
     "slide_type": "subslide"
    }
   },
   "outputs": [
    {
     "name": "stdout",
     "output_type": "stream",
     "text": [
      "read a text file\n"
     ]
    }
   ],
   "source": [
    "using .TextFile\n",
    "readfile(\"foo.txt\")"
   ]
  },
  {
   "cell_type": "markdown",
   "metadata": {},
   "source": [
    "这里 `.` 用于标记路径为当前module中的相对路径，它等价于 `using Main.TextFile` "
   ]
  },
  {
   "cell_type": "markdown",
   "metadata": {
    "slideshow": {
     "slide_type": "subslide"
    }
   },
   "source": [
    "在编程语言中，我们常见的一个概念是作用域（scope），它决定了一个变量的可见区域。在Julia里作用域的结束一般使用 `end` 标记，开始由不同的关键字标记（ **function**, **begin**, **quote** 等等）\n",
    "\n",
    "总体而言，Julia有两种作用域：\n",
    "\n",
    "- 全局作用域（global scope）\n",
    "- 局部作用域（local scope）"
   ]
  },
  {
   "cell_type": "markdown",
   "metadata": {
    "slideshow": {
     "slide_type": "subslide"
    }
   },
   "source": [
    "局部作用域可以互相嵌套，子作用域会继承父作用域的变量名，例如我们上面的 `mysum`\n",
    "\n",
    "```julia\n",
    "function mysum(x)\n",
    "    s = 0\n",
    "    for each in x\n",
    "        s += each\n",
    "    end\n",
    "    return s\n",
    "end\n",
    "```\n",
    "\n",
    "函数作用域和for循环中的作用域都是局部作用域，所以for循环会继承函数的作用域，使得我们可以在for循环中对s进行累加。"
   ]
  },
  {
   "cell_type": "markdown",
   "metadata": {
    "slideshow": {
     "slide_type": "subslide"
    }
   },
   "source": [
    "但，全局作用域不会被局部作用域继承，例如"
   ]
  },
  {
   "cell_type": "code",
   "execution_count": 27,
   "metadata": {},
   "outputs": [
    {
     "ename": "UndefVarError",
     "evalue": "UndefVarError: a not defined",
     "output_type": "error",
     "traceback": [
      "UndefVarError: a not defined",
      "",
      "Stacktrace:",
      " [1] foo() at ./In[27]:4",
      " [2] top-level scope at In[27]:7"
     ]
    }
   ],
   "source": [
    "a = 2\n",
    "\n",
    "function foo()\n",
    "    a += a + 1\n",
    "    return a\n",
    "end\n",
    "\n",
    "foo()"
   ]
  },
  {
   "cell_type": "markdown",
   "metadata": {
    "slideshow": {
     "slide_type": "slide"
    }
   },
   "source": [
    "## 随机行走\n",
    "\n",
    "**随机行走** （Random Walk）是在 **物理**，**金融**，**化学**，**生物** 等领域都会遇到的基本问题，我们这里将模拟最简单的一种：随机在一维坐标下行走。通过这个例子我们来了解基本的Julia程序编写过程。"
   ]
  },
  {
   "cell_type": "code",
   "execution_count": null,
   "metadata": {
    "slideshow": {
     "slide_type": "subslide"
    }
   },
   "outputs": [],
   "source": [
    "\"\"\"\n",
    "    walk(t) -> trajectory\n",
    "\n",
    "模拟随机行走\n",
    "\"\"\"\n",
    "function walk(t)\n",
    "    x = 0 # 初始位置\n",
    "    trajectory = [x] # 初始化轨迹\n",
    "    \n",
    "    for t in 1:t\n",
    "        if rand() < 0.5\n",
    "            x += 1\n",
    "        else\n",
    "            x -= 1\n",
    "        end\n",
    "        push!(trajectory, x)\n",
    "    end\n",
    "    return trajectory\n",
    "end"
   ]
  },
  {
   "cell_type": "code",
   "execution_count": null,
   "metadata": {
    "slideshow": {
     "slide_type": "subslide"
    }
   },
   "outputs": [],
   "source": [
    "?walk"
   ]
  },
  {
   "cell_type": "markdown",
   "metadata": {
    "slideshow": {
     "slide_type": "subslide"
    }
   },
   "source": [
    "### 可视化\n",
    "\n",
    "Julia有很多绘图库，这里我推荐 `GR` 模块，它的速度飞快，如果只是简单的绘图，使用 GR 最方便。当然你也可以使用官方推荐的 `Plots` 模块，它是一个提供了多种后端的绘图库。"
   ]
  },
  {
   "cell_type": "code",
   "execution_count": 1,
   "metadata": {},
   "outputs": [
    {
     "name": "stderr",
     "output_type": "stream",
     "text": [
      "┌ Info: Recompiling stale cache file /Users/roger/.julia/compiled/v1.1/GR/NDU5Y.ji for GR [28b8d3ca-fb5f-59d9-8090-bfdbd6d07a71]\n",
      "└ @ Base loading.jl:1184\n"
     ]
    },
    {
     "ename": "ArgumentError",
     "evalue": "ArgumentError: Package Interact not found in current path:\n- Run `import Pkg; Pkg.add(\"Interact\")` to install the Interact package.\n",
     "output_type": "error",
     "traceback": [
      "ArgumentError: Package Interact not found in current path:\n- Run `import Pkg; Pkg.add(\"Interact\")` to install the Interact package.\n",
      "",
      "Stacktrace:",
      " [1] require(::Module, ::Symbol) at ./loading.jl:823",
      " [2] top-level scope at In[1]:1"
     ]
    }
   ],
   "source": [
    "using GR, Interact\n",
    "\n",
    "T = 100\n",
    "plot(0:T, walk(T))"
   ]
  },
  {
   "cell_type": "code",
   "execution_count": null,
   "metadata": {
    "slideshow": {
     "slide_type": "subslide"
    }
   },
   "outputs": [],
   "source": [
    "@manipulate for T in 10:100\n",
    "    plot(0:T, walk(T))\n",
    "end"
   ]
  },
  {
   "cell_type": "markdown",
   "metadata": {
    "slideshow": {
     "slide_type": "subslide"
    }
   },
   "source": [
    "### 存储数据\n",
    "\n",
    "Julia 支持存储为空格或者其他符合分割的`dlm`格式，或者也可以存到 `csv` 格式，但是我更加推荐使用Julia自带的数据序列化工具 `JLD2`，JLD文件类型是基于一种高效的存储格式HDF5的，而 `JLD2` 是一个纯Julia实现的跨平台序列化工具，像Python的pickle一样，你可以将任何Julia对象存下来。"
   ]
  },
  {
   "cell_type": "code",
   "execution_count": null,
   "metadata": {},
   "outputs": [],
   "source": [
    "using JLD2\n",
    "\n",
    "traj = walk(1000)\n",
    "\n",
    "@save \"data.jld2\" traj"
   ]
  },
  {
   "cell_type": "code",
   "execution_count": null,
   "metadata": {},
   "outputs": [],
   "source": [
    "@load \"data.jld2\" traj\n",
    "typeof(traj)"
   ]
  },
  {
   "cell_type": "markdown",
   "metadata": {
    "slideshow": {
     "slide_type": "slide"
    }
   },
   "source": [
    "## Julia语言的编程范式\n",
    "\n",
    "Julia里所有的一切都是对象，但是和面向对象语言围绕对象设计程序不同，Julia的程序设计以围绕method进行，我们称为method oriented programming。"
   ]
  },
  {
   "cell_type": "markdown",
   "metadata": {
    "slideshow": {
     "slide_type": "subslide"
    }
   },
   "source": [
    "## 定义一个复数类型\n",
    "\n",
    "复数是很多数值计算和数据分析算法都会用到的类型，然而一般的处理器上并不是自带复数类型的，我们往往使用两倍精度的浮点数来模拟一个复数，例如在 `C` 语言里，双精度的复数可以写作：\n",
    "\n",
    "```c\n",
    "double _Complex a;\n",
    "```\n",
    "\n",
    "或者在 `C++` 中，双精度的复数可以写作：\n",
    "\n",
    "```c++\n",
    "std::complex<double> a;\n",
    "```\n",
    "\n",
    "在 `Python` 里，没有显示类型，但是我们可以使用 `j`：\n",
    "\n",
    "```ipython\n",
    "In [1]: 1 + 1.j\n",
    "Out[1]: (1+1j)\n",
    "```"
   ]
  },
  {
   "cell_type": "markdown",
   "metadata": {
    "slideshow": {
     "slide_type": "subslide"
    }
   },
   "source": [
    "而实际上和 `C`/`C++` 一样，Julia的复数类型也是纯Julia实现的，我们这里会简单地实现一个复数类型 `MyComplex`。Julia的类型使用 `struct` 关键字，然后用 `end` 表示这一段表达式的结束。每个Julia类型有一个默认的构造函数，这个构造函数的变量即为类型声明的成员。"
   ]
  },
  {
   "cell_type": "code",
   "execution_count": null,
   "metadata": {},
   "outputs": [],
   "source": [
    "struct MyComplex\n",
    "    real::Float64\n",
    "    imag::Float64\n",
    "end\n",
    "\n",
    "# 一个复数就是 MyComplex 类型的一个实例，也就是一种对象\n",
    "a = MyComplex(1.0, 2.0)"
   ]
  },
  {
   "cell_type": "code",
   "execution_count": null,
   "metadata": {},
   "outputs": [],
   "source": [
    "a.real"
   ]
  },
  {
   "cell_type": "code",
   "execution_count": null,
   "metadata": {},
   "outputs": [],
   "source": [
    "a.imag"
   ]
  },
  {
   "cell_type": "markdown",
   "metadata": {
    "slideshow": {
     "slide_type": "subslide"
    }
   },
   "source": [
    "但是仅仅声明了类型还远远不够，我们还需要对复数定义复数运算，方便起见我们这里仅重载 `*` 算符：\n",
    "\n",
    "$$\n",
    "(a + b \\cdot i) (c + d \\cdot i) = (ac - bd) + (ad + bc)i\n",
    "$$\n",
    "\n",
    "\n",
    "首先我们需要将要重载的东西从 `Base` 模块中拿出来（而不是自己声明一个新的，为什么？留给大家之后思考），在Julia里，**运算符** 只是一种特殊的函数，并不会被特别对待"
   ]
  },
  {
   "cell_type": "code",
   "execution_count": null,
   "metadata": {},
   "outputs": [],
   "source": [
    "import Base: *\n",
    "\n",
    "*(a::MyComplex, b::MyComplex) = MyComplex(a.real * b.real - a.imag * b.imag, a.real * b.imag + a.imag * b.real)"
   ]
  },
  {
   "cell_type": "code",
   "execution_count": null,
   "metadata": {},
   "outputs": [],
   "source": [
    "b = MyComplex(1.0, 3.0)\n",
    "\n",
    "a * b"
   ]
  },
  {
   "cell_type": "markdown",
   "metadata": {
    "slideshow": {
     "slide_type": "subslide"
    }
   },
   "source": [
    "现在输出不是很好看，我们重载一下 `show` 方法把默认打印出来的字符串修改一下，这里字符串里的 `$` 是字符串插入，可以将一个Julia表达式的输出转换为字符串（ `String` 类型）然后插入到字符串里。"
   ]
  },
  {
   "cell_type": "code",
   "execution_count": null,
   "metadata": {},
   "outputs": [],
   "source": [
    "import Base: show\n",
    "\n",
    "show(io::IO, ::MIME\"text/plain\", x::MyComplex) = print(io, \"$(x.real) + $(x.imag)im\")"
   ]
  },
  {
   "cell_type": "code",
   "execution_count": null,
   "metadata": {},
   "outputs": [],
   "source": [
    "a * b"
   ]
  },
  {
   "cell_type": "markdown",
   "metadata": {
    "slideshow": {
     "slide_type": "subslide"
    }
   },
   "source": [
    "## 任意精度的复数类型\n",
    "\n",
    "我们已经有了一个简单的复数类型，但是实际上真正在用的时候，我们可能会需要不同精度的复数类型，例如使用 `32`位浮点精度的复数类型。为了能够使用不同的复数类型，我们需要使用参数类型，而复数的实部和虚部都是实数，我们还需要限制其类型范围"
   ]
  },
  {
   "cell_type": "code",
   "execution_count": null,
   "metadata": {},
   "outputs": [],
   "source": [
    "struct MyComplex2{T <: Real}\n",
    "    real::T\n",
    "    imag::T\n",
    "end"
   ]
  },
  {
   "cell_type": "markdown",
   "metadata": {},
   "source": [
    "参数类型也有默认的构造函数"
   ]
  },
  {
   "cell_type": "code",
   "execution_count": null,
   "metadata": {},
   "outputs": [],
   "source": [
    "MyComplex2{Float32}(1.0f0, 2.0f0)"
   ]
  },
  {
   "cell_type": "markdown",
   "metadata": {
    "slideshow": {
     "slide_type": "subslide"
    }
   },
   "source": [
    "但是实际上你还可以定义一些自己的构造函数，在 Julia 里因为是没有 `class` 的，除了 **构造函数** 以外的方法都不能写在类型声明内部。而一旦你在类型声明中声明了一个自己的构造函数，**默认的构造将被覆盖**。比如试试下面这个例子"
   ]
  },
  {
   "cell_type": "code",
   "execution_count": null,
   "metadata": {
    "slideshow": {
     "slide_type": "-"
    }
   },
   "outputs": [],
   "source": [
    "struct MyComplex3{T <: Real}\n",
    "    real::T\n",
    "    imag::T\n",
    "\n",
    "    MyComplex3(real::T) where {T <: Real} = new{T}(real, 0)\n",
    "end\n",
    "\n",
    "MyComplex3(1.0)"
   ]
  },
  {
   "cell_type": "markdown",
   "metadata": {
    "slideshow": {
     "slide_type": "subslide"
    }
   },
   "source": [
    "### 什么时候用内部构造函数，什么时候用外部构造函数？\n",
    "\n",
    "内部构造函数往往是为了在生成这个实例前做一些预处理（例如判断输入变量是否符合要求等）更详细的例子请参见文档：[英文](https://docs.julialang.org/en/latest/manual/constructors/)\n"
   ]
  },
  {
   "cell_type": "markdown",
   "metadata": {
    "slideshow": {
     "slide_type": "slide"
    }
   },
   "source": [
    "## 多重派发和Julia的编程范式\n",
    "\n",
    "Julia语言是没有 `class` 的，但这并不意味着 Julia 无法有效的组织程序和进行抽象，Julia对象的方法（method）通过 **多重派发** 和 **类型树** 进行分配，而不依赖于 `class` 这种结构。"
   ]
  },
  {
   "cell_type": "markdown",
   "metadata": {
    "slideshow": {
     "slide_type": "subslide"
    }
   },
   "source": [
    "想了解什么是多重派发，我们要先从**单重派发（single dispatch）** 说起，大部分支持 `class` 的语言都是单重派发，我再用 `Python` 举个例子，Python 3.4有一个的提案（[PEP 443](https://www.python.org/dev/peps/pep-0443/)）里有一个对单重派发通用函数的提案：\n",
    "\n",
    "```python\n",
    "from functools import singledispatch\n",
    "\n",
    "@singledispatch\n",
    "def fun(arg, verbose=Falase):\n",
    "    print(arg)\n",
    "    \n",
    "@fun.register(int)\n",
    "def _(arg, verbose=False):\n",
    "    print(arg)\n",
    "```"
   ]
  },
  {
   "cell_type": "markdown",
   "metadata": {
    "slideshow": {
     "slide_type": "-"
    }
   },
   "source": [
    "虽然说 `C++` 有函数重载（也被称为静态多重派发，static multiple dispatch）但是由于类型信息的确实，无法处理动态类型的情况\n",
    "\n",
    "\n",
    "```C++\n",
    "#include <iostream>\n",
    "\n",
    "struct A {};\n",
    "struct B : public A {};\n",
    "\n",
    "class Foo {\n",
    "public:\n",
    "    virtual void wooo(A *a, A *b) { std::cout << \"A/A\" << std::endl; };\n",
    "    virtual void wooo(A *a, B *b) { std::cout << \"A/B\" << std::endl; };\n",
    "};\n",
    "```"
   ]
  },
  {
   "cell_type": "markdown",
   "metadata": {
    "slideshow": {
     "slide_type": "subslide"
    }
   },
   "source": [
    "```c++\n",
    "void CallMyFn(Foo *p, A *arg1, A *arg2) {\n",
    "    p->wooo(arg1, arg2);\n",
    "}\n",
    "\n",
    "int main(int argc, char const *argv[]) {\n",
    "    Foo *f = new Foo();\n",
    "    A *a = new A(); B *b = new B();\n",
    "    CallMyFn(f, a, b);\n",
    "    return 0;\n",
    "}\n",
    "```"
   ]
  },
  {
   "cell_type": "markdown",
   "metadata": {
    "slideshow": {
     "slide_type": "subslide"
    }
   },
   "source": [
    "运行上面的 `C++` 代码将会得到\n",
    "\n",
    "```sh\n",
    "A/A\n",
    "```\n",
    "\n",
    "而我们预期的是\n",
    "\n",
    "```sh\n",
    "A/B\n",
    "```\n",
    "\n",
    "这是因为 `C++` 只支持 Single Dispatch (多重派发在提案中：[Report on language support for Multi-Methods and Open-Methods for C++](http://www.open-std.org/jtc1/sc22/wg21/docs/papers/2007/n2216.pdf))，对于动态类型，编译器只能通过 `class` 名称决定调用的方法，当需要根据参数等信息决定方法的时候就无能为力了。注意，多重派发是一个动态类型的特性，这里 `A`，`B`都是做成了动态类型，于函数重载不同，一些类似于多重派发在 `C++` 中实际上是函数重载，出现歧义（ambiguous）是由于 `C++` 的隐式类型转换。"
   ]
  },
  {
   "cell_type": "markdown",
   "metadata": {
    "slideshow": {
     "slide_type": "subslide"
    }
   },
   "source": [
    "## 总结一下\n",
    "\n",
    "单派发，**Single Dispatch** ，是说只按照一种类型进行派发，例如在 `C++` 的例子里，只按照所调用的 `Foo` 来派发动态类型，于是遇到方法里面重载了两种不同动态类型时，编译器不会报错，但是会调用 `A/A`。亦或者是PEP443里，会按照第一个参数的类型进行派发。"
   ]
  },
  {
   "cell_type": "markdown",
   "metadata": {
    "slideshow": {
     "slide_type": "subslide"
    }
   },
   "source": [
    "## 多重派发\n",
    "\n",
    "顾名思义，就是会根据所有的参数来进行派发。例如让我们在Julia里重新实现 `C++` 里的例子，注意由于 Julia 没有继承，我们在这里用抽象类型代替。Julia会匹配参数类型最符合的方法，然后调用。在Julia里，由于Julia本身是动态语言，函数的重载（overload）与多重派发是一个意思，但是实际上Julia的派发会发生在运行时和编译时，而这在很少的情况下有可能影响性能。"
   ]
  },
  {
   "cell_type": "code",
   "execution_count": null,
   "metadata": {},
   "outputs": [],
   "source": [
    "abstract type TypeA end\n",
    "\n",
    "struct TypeB <: TypeA end\n",
    "struct TypeC <: TypeA end\n",
    "\n",
    "wooo(a1::TypeA, a2::TypeA) = println(\"A/A\")\n",
    "wooo(a::TypeA, b::TypeB) = println(\"A/B\")\n",
    "\n",
    "callme(a1::TypeA, a2::TypeA) = wooo(a1, a2)\n",
    "\n",
    "b = TypeB(); c = TypeC();\n",
    "callme(c, b)"
   ]
  },
  {
   "cell_type": "markdown",
   "metadata": {
    "slideshow": {
     "slide_type": "subslide"
    }
   },
   "source": [
    "## 类型系统\n",
    "\n",
    "Julia的类型主要分为抽象类型（Abstract Type）和实体类型（Concrete Type），实体类型主要分为可变类型（Mutable Type）和不可变类型（Immutable Type）"
   ]
  },
  {
   "cell_type": "code",
   "execution_count": null,
   "metadata": {},
   "outputs": [],
   "source": [
    "abstract type AbstractType end\n",
    "\n",
    "struct ImmutableType <: AbstractType\n",
    "end\n",
    "\n",
    "mutable struct MutableType <: AbstractType\n",
    "end"
   ]
  },
  {
   "cell_type": "markdown",
   "metadata": {
    "slideshow": {
     "slide_type": "subslide"
    }
   },
   "source": [
    "一个抽象类型的所有子类型会构成一颗树，其中实体类型一定在树的叶子结点\n",
    "\n",
    "下面这个 `view_tree` 函数会对一颗类型树进行深度优先遍历（DFS）"
   ]
  },
  {
   "cell_type": "code",
   "execution_count": null,
   "metadata": {},
   "outputs": [],
   "source": [
    "using InteractiveUtils\n",
    "\n",
    "function view_tree(T, depth=0)\n",
    "    println(\"  \"^depth, T)\n",
    "    for each in subtypes(T)\n",
    "        view_tree(each, depth+1)\n",
    "    end\n",
    "end\n",
    "\n",
    "view_tree(AbstractType)"
   ]
  },
  {
   "cell_type": "markdown",
   "metadata": {
    "slideshow": {
     "slide_type": "subslide"
    }
   },
   "source": [
    "再看一个复杂一些的例子："
   ]
  },
  {
   "cell_type": "code",
   "execution_count": null,
   "metadata": {},
   "outputs": [],
   "source": [
    "abstract type AbstractAnimal end\n",
    "\n",
    "abstract type AbstractBird <: AbstractAnimal end\n",
    "abstract type AbstractDog <: AbstractAnimal end\n",
    "abstract type AbstractCat <: AbstractAnimal end\n",
    "\n",
    "struct Sparrow <: AbstractBird end\n",
    "struct Kitty <: AbstractCat end\n",
    "struct Snoope <: AbstractDog end\n",
    "\n",
    "view_tree(AbstractAnimal)"
   ]
  },
  {
   "cell_type": "markdown",
   "metadata": {
    "slideshow": {
     "slide_type": "subslide"
    }
   },
   "source": [
    "可以看到，Julia总会匹配类型树里总的来说最靠下的方法"
   ]
  },
  {
   "cell_type": "code",
   "execution_count": null,
   "metadata": {},
   "outputs": [],
   "source": [
    "combine(a::AbstractAnimal, b::AbstractAnimal, c::AbstractAnimal) = \"three animals get together!\" # method 1\n",
    "combine(a::Sparrow, b::AbstractCat, c::AbstractAnimal) = \"a sparrow, a cat and some animal\" # method 2\n",
    "\n",
    "combine(Sparrow(), Kitty(), Sparrow()) # 这个会匹配方法2"
   ]
  },
  {
   "cell_type": "markdown",
   "metadata": {
    "slideshow": {
     "slide_type": "subslide"
    }
   },
   "source": [
    "类型在 Julia 里是非常廉价的，利用多重派发和廉价的类型，我们可以针对数学对象实现更详细的优化，例如对于满足不同性质的矩阵，我们有对它们之间互相乘积的优化方法，我们可以将部分操作作为懒惰求值（Lazy Evaluation）加入运算中，然后再为满足不同性质的矩阵派发精细的优化方法：\n",
    "\n",
    "- 对满足 $A^T A = I$ 的矩阵，如果遇到了自己的转置可以什么都不算\n",
    "- 对满足上三角的矩阵（或者下三角矩阵），在一些矩阵分解等操作的时候可以调用更快的数值方法\n",
    "- 而对于单位矩阵，我们总可以什么都不算\n",
    "\n",
    "实际上Julia在标准库里已经这么做了 （虽然实际上依然还有更多的特殊矩阵，你也许可以在 [JuliaArrays](https://github.com/JuliaArrays) 里找到你需要的矩阵类型），不同类型的矩阵会被派发到不同类型的方法上去。"
   ]
  },
  {
   "cell_type": "code",
   "execution_count": null,
   "metadata": {},
   "outputs": [],
   "source": [
    "view_tree(AbstractMatrix)"
   ]
  },
  {
   "cell_type": "markdown",
   "metadata": {
    "slideshow": {
     "slide_type": "subslide"
    }
   },
   "source": [
    "## 总结一下\n",
    "\n",
    "Julia有这样的特点：**廉价的类型**和**多重派发**+**类型树**的结构，我们可以**继承类型的行为（behavior）**而不能**继承类型的成员**，而多重派发让所有Julia类型很自然地变成了鸭子类型（Duck Type），我们只要定义好不同的**接口**/**interface**就足以定义类型的行为。\n",
    "\n",
    "实际上由于严格保持了树的结构，Julia也不允许多重继承，也不存在混入（mixin）这样的设计模式，这避免了**钻石继承的问题**。\n",
    "\n",
    "需要说明的是，以上仅仅是Julia的特点，它带来了一些好处，也同时带来了一些缺点。限于篇幅暂且不表。\n",
    "\n",
    "问题：想想这几种 `rand` 的接口，例如 `rand(1:10)`，`rand(Bool)`, `rand(Bool, 2, 2)` 等是怎么实现的？"
   ]
  },
  {
   "cell_type": "markdown",
   "metadata": {
    "slideshow": {
     "slide_type": "slide"
    }
   },
   "source": [
    "## 一切都是表达式\n",
    "\n",
    "在Julia里，所有的东西不仅仅可以是**对象**，他们也都是**表达式**，当然**表达式**也是**对象**。也许你一开始还在讨厌Julia的 `end` 不够简洁，但是学了这一部分，你就会发现 `end` 关键字的妙处了。"
   ]
  },
  {
   "cell_type": "markdown",
   "metadata": {
    "slideshow": {
     "slide_type": "subslide"
    }
   },
   "source": [
    "在 Julia 里我们可以使用语言本身的语法来处理 Julia 自己的表达式，这被称为元编程（Meta Programming），那么元编程有什么用呢？\n",
    "\n",
    "- 代码生成，产生更加高效的代码（低抽象的代码）\n",
    "- 预处理表达式，提高代码可读性（例如实现一个DSL）\n",
    "\n",
    "在我开头提到的 **TensorOperations** 之所以比 `numpy` 快，很大的原因是因为作者使用元编程将大部分预处理挪到了编译时期（compile time）然后还顺便支持了数学上的einsum格式，而尽管`numpy.einsum`实际上有不少优化，但是仍然需要跑很多遍for循环。"
   ]
  },
  {
   "cell_type": "markdown",
   "metadata": {
    "slideshow": {
     "slide_type": "subslide"
    }
   },
   "source": [
    "## 定义自己的字符串字面量\n",
    "\n",
    "字符串的字面量是区分不同类型的字符串的一种非常方便的方法，在Python里，我们有正则表达式字面量 `r\"(.*)\"`，格式化字面量 `f\"hello {who}\"`。而在Julia里，则可以通过宏定义自己的字符串字面量，只需声明以 `_str` 为结尾的宏即可"
   ]
  },
  {
   "cell_type": "code",
   "execution_count": null,
   "metadata": {},
   "outputs": [],
   "source": [
    "struct MyStr <: AbstractString\n",
    "    data::String\n",
    "end\n",
    "\n",
    "Base.show(io::IO, s::MyStr) = print(io, \"My String is: \", s.data)\n",
    "\n",
    "macro my_str(s)\n",
    "   MyStr(s)    \n",
    "end\n",
    "\n",
    "my\"hello!\""
   ]
  },
  {
   "cell_type": "markdown",
   "metadata": {
    "slideshow": {
     "slide_type": "subslide"
    }
   },
   "source": [
    "这大大方便了需要做大量字符串处理的任务，例如生物信息等。此外这也使得Julia很容易在文档里支持 `LaTeX`，`Markdown` 等多种不同的格式，并且按照统一的接口（Interface）给它们派发不同的方法。"
   ]
  },
  {
   "cell_type": "code",
   "execution_count": null,
   "metadata": {},
   "outputs": [],
   "source": [
    "import Base.Markdown: @md_str\n",
    "\n",
    "md\"\"\"\n",
    "# Header 1\n",
    "## Header 2\n",
    "### Header 3\n",
    "#### Header 4\n",
    "\"\"\""
   ]
  },
  {
   "cell_type": "markdown",
   "metadata": {
    "slideshow": {
     "slide_type": "subslide"
    }
   },
   "source": [
    "为了理解Julia的元编程，我们首先需要大致了解一下Julia的编译过程\n",
    "\n",
    "![](compile-process.png)\n",
    "\n"
   ]
  },
  {
   "cell_type": "markdown",
   "metadata": {
    "slideshow": {
     "slide_type": "subslide"
    }
   },
   "source": [
    "### 如何获得Julia的表达式？\n",
    "\n",
    "在Julia里获得表达式的方法被称为引用（quote），可以有两种方法进行引用\n",
    "\n",
    "对于短小的表达式使用 `:( blabla )` 进行引用"
   ]
  },
  {
   "cell_type": "code",
   "execution_count": null,
   "metadata": {},
   "outputs": [],
   "source": [
    "ex = :(a + b)"
   ]
  },
  {
   "cell_type": "markdown",
   "metadata": {},
   "source": [
    "对于大段的表达式，使用 `quote` 关键字进行引用"
   ]
  },
  {
   "cell_type": "code",
   "execution_count": null,
   "metadata": {},
   "outputs": [],
   "source": [
    "quote\n",
    "    a + b\n",
    "    b + c\n",
    "end"
   ]
  },
  {
   "cell_type": "markdown",
   "metadata": {
    "slideshow": {
     "slide_type": "subslide"
    }
   },
   "source": [
    "到了这里你也许已经发现了，实际上任何一部分Julia代码都是表达式，而不同的表达式有不同的 `tag` 而正是因为使用了 `end` 才能够和各种不同的代码块进行匹配。例如实际上函数关键字 `function` 和 `end` 本身定义了一个代码块"
   ]
  },
  {
   "cell_type": "code",
   "execution_count": null,
   "metadata": {},
   "outputs": [],
   "source": [
    "ex = quote\n",
    "    function foo()\n",
    "        println()\n",
    "    end\n",
    "end\n",
    "\n",
    "ex.args"
   ]
  },
  {
   "cell_type": "markdown",
   "metadata": {
    "slideshow": {
     "slide_type": "subslide"
    }
   },
   "source": [
    "所有的表达式都是 `Expr`，`QuoteNode`，`Symbol` 三种类型之一。"
   ]
  },
  {
   "cell_type": "code",
   "execution_count": null,
   "metadata": {},
   "outputs": [],
   "source": [
    "typeof(:(a + b))"
   ]
  },
  {
   "cell_type": "code",
   "execution_count": null,
   "metadata": {},
   "outputs": [],
   "source": [
    "typeof(:(a))"
   ]
  },
  {
   "cell_type": "code",
   "execution_count": null,
   "metadata": {},
   "outputs": [],
   "source": [
    "typeof(:(:(a)))"
   ]
  },
  {
   "cell_type": "markdown",
   "metadata": {
    "slideshow": {
     "slide_type": "subslide"
    }
   },
   "source": [
    "## 用宏实现函数的合成\n",
    "\n",
    "当我们有很多个函数嵌套调用的时候会需要打很多括号，而在一些函数式语言里，则比较方便地用空格表示函数合成例如：`g f k l` $\\Rightarrow$ `g(f(k(l(x))))`，我们将在这里实现一个非常简单的（单变量）函数合成的宏 `@>`"
   ]
  },
  {
   "cell_type": "code",
   "execution_count": null,
   "metadata": {},
   "outputs": [],
   "source": [
    "fa(x) = (println(\"call a\"); x)\n",
    "fb(x) = (println(\"call b\"); x)\n",
    "fc(x) = (println(\"call c\"); x)\n",
    "\n",
    "macro >(fs...)\n",
    "    fs\n",
    "end"
   ]
  },
  {
   "cell_type": "markdown",
   "metadata": {},
   "source": [
    "使用 `@macroexpand` 查看你的宏所产生的表达式"
   ]
  },
  {
   "cell_type": "code",
   "execution_count": null,
   "metadata": {},
   "outputs": [],
   "source": [
    "@macroexpand @> fa fb fc # => x->fa(fb(fc(x)))"
   ]
  },
  {
   "cell_type": "markdown",
   "metadata": {
    "slideshow": {
     "slide_type": "subslide"
    }
   },
   "source": [
    "在Julia里，有一个叫做函数管道的运算符 `|>`，`x |> f` 相当于 `f(x)`，我们目标就是产生一串函数管道"
   ]
  },
  {
   "cell_type": "code",
   "execution_count": null,
   "metadata": {},
   "outputs": [],
   "source": [
    "macro >(fs...)\n",
    "    ex = :($(last(fs))(x))\n",
    "    for f in reverse(fs[1:end-1])\n",
    "        ex = :($f($ex))\n",
    "    end\n",
    "    :(x->$ex)\n",
    "end"
   ]
  },
  {
   "cell_type": "markdown",
   "metadata": {
    "slideshow": {
     "slide_type": "subslide"
    }
   },
   "source": [
    "再查看一下，现在展开的表达式是否正确"
   ]
  },
  {
   "cell_type": "code",
   "execution_count": null,
   "metadata": {},
   "outputs": [],
   "source": [
    "@macroexpand @> fa fb fc # => x->fa(fb(fc(x)))"
   ]
  },
  {
   "cell_type": "code",
   "execution_count": null,
   "metadata": {},
   "outputs": [],
   "source": [
    "f = @> fa fb fc\n",
    "f(2)"
   ]
  },
  {
   "cell_type": "markdown",
   "metadata": {
    "slideshow": {
     "slide_type": "subslide"
    }
   },
   "source": [
    "实际上，作为一个**多范式**的编程语言，Julia本身是支持函数式编程的，而函数式编程常常会使用[Lazy](https://github.com/MikeInnes/Lazy.jl)这个包，里面写好了更加强大的用于函数合成的宏 `@>`，它支持多变量函数的合成，例如：\n",
    "\n",
    "```julia\n",
    "@> x g(y, z) f # == f(g(x, y, z))\n",
    "```"
   ]
  },
  {
   "cell_type": "markdown",
   "metadata": {
    "slideshow": {
     "slide_type": "slide"
    }
   },
   "source": [
    "## 在Julia里调用Python\n",
    "\n",
    "在当下，如果有人说放弃 Python 那一定是一个很愚蠢的决定，正如开头所说，Python 和 Julia 各自有其优缺点，而我们在迁移到 Julia 之后依然可以调用我们的一些历史依赖，并且也依然可以将新写的更快更简单的代码作为 Python 的包提供给 Python 社区。所以你可以选择\n",
    "\n",
    "- 用Julia给Python加速\n",
    "- 整体迁移到Julia上来，但是调用自己的历史代码。\n",
    "\n",
    "这主要需要依赖于两个包：`PyCall.jl` 和 `pyjulia`。这一部分我们主要讲 `PyCall.jl`"
   ]
  },
  {
   "cell_type": "markdown",
   "metadata": {
    "slideshow": {
     "slide_type": "subslide"
    }
   },
   "source": [
    "如果你没有安装 `PyCall` 模块，请使用Julia的包管理器安装 `PyCall`，如果你的环境里没有安装 `python` 或者不在标准路径中，那么Julia将会下载一个 miniconda 来安装 python 环境。如果你想使用你已经安装的 `python`，请在Julia的环境变量 `ENV` 中设置 `python` 路径：\n",
    "\n",
    "```julia\n",
    "julia> ENV[\"PYTHON\"] = \"... python 路径 ...\"\n",
    "\n",
    "julia> Pkg.build(\"PyCall\")\n",
    "```\n",
    "\n",
    "\n",
    "安装好之后 `PyCall` 的使用方法和原生 Python 的语法很接近 （多亏了Julia的宏！）"
   ]
  },
  {
   "cell_type": "code",
   "execution_count": null,
   "metadata": {},
   "outputs": [],
   "source": [
    "using PyCall\n",
    "\n",
    "@pyimport numpy as np\n",
    "\n",
    "np.zeros(10)"
   ]
  },
  {
   "cell_type": "markdown",
   "metadata": {
    "slideshow": {
     "slide_type": "subslide"
    }
   },
   "source": [
    "Julia自带的多维数组类型 `Array` 和 `numpy` 可以共享一块内存，所以当使用 `numpy` 在 Python 中得到了一个 `numpy.ndarray` 后在Julia里会看到一个新的 `Array`。\n",
    "\n",
    "除了像 `@pyimport`, `@pydef` 这样的宏以外，和其它FFI（外部函数接口）的模块一样，`PyCall`也有python的字符串字面量，它将会执行一行python代码/或者在 `__main__` 模块里执行一段 Python 代码，然后将其转换为Julia对象。"
   ]
  },
  {
   "cell_type": "code",
   "execution_count": null,
   "metadata": {},
   "outputs": [],
   "source": [
    "py\"sum([1, 2, 3])\""
   ]
  },
  {
   "cell_type": "markdown",
   "metadata": {
    "slideshow": {
     "slide_type": "slide"
    }
   },
   "source": [
    "## 编写高性能Julia代码的建议\n",
    "\n",
    "Julia 是一个通用的编程语言（general purpose language），而不论在 `C/C++` 还是在 `Fortran` 里，编写高性能的代码都不是随便一写就很快的。本身程序的性能优化就是一门学问，同样在Julia里也是这样，但是对于一些简单的，常用的情况，这里有一些建议帮助你写出高性能的代码。\n",
    "\n",
    "在官方文档中还有很多这样的建议，还请参考文档中关于提高性能的建议部分：[英文](https://docs.julialang.org/en/latest/manual/performance-tips/)"
   ]
  },
  {
   "cell_type": "markdown",
   "metadata": {
    "slideshow": {
     "slide_type": "subslide"
    }
   },
   "source": [
    "首先，为了测试性能，我们需要安装 `BenchmarkTools` 这个工具包，使用方法很简单，里面有一个宏：`@benchmark`，你想测哪里就写哪里，例如"
   ]
  },
  {
   "cell_type": "code",
   "execution_count": null,
   "metadata": {},
   "outputs": [],
   "source": [
    "using BenchmarkTools\n",
    "a = rand(1000)\n",
    "@benchmark sum(a)"
   ]
  },
  {
   "cell_type": "markdown",
   "metadata": {
    "slideshow": {
     "slide_type": "subslide"
    }
   },
   "source": [
    "回过头来，我们看看我们之前实现的 `mysum` 速度如何，慢了很多，为什么呢？"
   ]
  },
  {
   "cell_type": "code",
   "execution_count": null,
   "metadata": {},
   "outputs": [],
   "source": [
    "@benchmark mysum(a)"
   ]
  },
  {
   "cell_type": "markdown",
   "metadata": {
    "slideshow": {
     "slide_type": "subslide"
    }
   },
   "source": [
    "SIMD指令，目前Julia还不能自动将循环向量化，需要手动增加向量化标记"
   ]
  },
  {
   "cell_type": "code",
   "execution_count": null,
   "metadata": {},
   "outputs": [],
   "source": [
    "function mysum(A)\n",
    "    s = 0.0 # s = zero(eltype(A))\n",
    "    @simd for a in A\n",
    "        s += a\n",
    "    end\n",
    "    s\n",
    "end"
   ]
  },
  {
   "cell_type": "code",
   "execution_count": null,
   "metadata": {},
   "outputs": [],
   "source": [
    "@benchmark mysum(a)"
   ]
  },
  {
   "cell_type": "markdown",
   "metadata": {
    "slideshow": {
     "slide_type": "subslide"
    }
   },
   "source": [
    "我们来看一下C代码编译出来的速度是多少，Julia可以直接编译C代码并且调用C代码，所以无需退出notebook。"
   ]
  },
  {
   "cell_type": "code",
   "execution_count": null,
   "metadata": {
    "slideshow": {
     "slide_type": "subslide"
    }
   },
   "outputs": [],
   "source": [
    "C_code = \"\"\"\n",
    "#include <stddef.h>\n",
    "double c_sum(size_t n, double *X) {\n",
    "    double s = 0.0;\n",
    "    for (size_t i = 0; i < n; ++i) {\n",
    "        s += X[i];\n",
    "    }\n",
    "    return s;\n",
    "}\n",
    "\"\"\"\n",
    "\n",
    "const Clib = tempname()   # make a temporary file\n",
    "\n",
    "\n",
    "# compile to a shared library by piping C_code to gcc\n",
    "# (works only if you have gcc installed):\n",
    "\n",
    "open(`gcc -fPIC -O3 -msse3 -xc -shared -o $(Clib * \".\" * Libdl.dlext) -`, \"w\") do f\n",
    "    print(f, C_code) \n",
    "end\n",
    "\n",
    "# define a Julia function that calls the C function:\n",
    "c_sum(X::Array{Float64}) = ccall((\"c_sum\", Clib), Float64, (Csize_t, Ptr{Float64}), length(X), X);"
   ]
  },
  {
   "cell_type": "code",
   "execution_count": null,
   "metadata": {},
   "outputs": [],
   "source": [
    "@benchmark c_sum(a)"
   ]
  },
  {
   "cell_type": "code",
   "execution_count": null,
   "metadata": {
    "slideshow": {
     "slide_type": "subslide"
    }
   },
   "outputs": [],
   "source": [
    "# Python，switch the kernel\n",
    "\n",
    "import numpy as np\n",
    "a = np.random.rand(1000)\n",
    "\n",
    "%timeit np.sum(a)"
   ]
  },
  {
   "cell_type": "markdown",
   "metadata": {
    "slideshow": {
     "slide_type": "subslide"
    }
   },
   "source": [
    "在Julia里，如果对数组类型进行了索引，可以通过 `@inbounds` 去掉边界检查"
   ]
  },
  {
   "cell_type": "code",
   "execution_count": null,
   "metadata": {},
   "outputs": [],
   "source": [
    "using BenchmarkTools\n",
    "\n",
    "function mysum(a)\n",
    "    s = 0.0\n",
    "    for i in 1:length(a)\n",
    "        s += a[i]\n",
    "    end\n",
    "    s\n",
    "end\n",
    "\n",
    "a = rand(1000)\n",
    "@benchmark mysum(a)"
   ]
  },
  {
   "cell_type": "code",
   "execution_count": null,
   "metadata": {
    "slideshow": {
     "slide_type": "subslide"
    }
   },
   "outputs": [],
   "source": [
    "function mysum(a)\n",
    "    s = 0.0\n",
    "    @inbounds for i in 1:length(a)\n",
    "        s += a[i]\n",
    "    end\n",
    "    s\n",
    "end\n",
    "\n",
    "@benchmark mysum(a)"
   ]
  },
  {
   "cell_type": "code",
   "execution_count": null,
   "metadata": {
    "slideshow": {
     "slide_type": "subslide"
    }
   },
   "outputs": [],
   "source": [
    "function mysum(a)\n",
    "    s = 0.0\n",
    "    @inbounds @simd for i in 1:length(a)\n",
    "        s += a[i]\n",
    "    end\n",
    "    s\n",
    "end\n",
    "\n",
    "@benchmark mysum(a)"
   ]
  },
  {
   "cell_type": "markdown",
   "metadata": {},
   "source": [
    "## 融合的（Fused）广播\n",
    "\n",
    "当我们连续对几个数组进行广播的操作的时候，将这些操作融合到一起广播显然更加划算。从Julia 0.7（1.0的测试版）开始，Julia提供了融合广播操作 `@.`。"
   ]
  },
  {
   "cell_type": "code",
   "execution_count": null,
   "metadata": {},
   "outputs": [],
   "source": [
    "f(x) = 3x.^2 + 4x + 7x.^3\n",
    "\n",
    "fdot(x) = @. 3x^2 + 4x + 7x^3 # equivalent to 3 .* x.^2 .+ 4 .* x .+ 7 .* x.^3"
   ]
  },
  {
   "cell_type": "code",
   "execution_count": null,
   "metadata": {},
   "outputs": [],
   "source": [
    "using BenchmarkTools\n",
    "\n",
    "a = rand(1000)\n",
    "\n",
    "@benchmark f(a)"
   ]
  },
  {
   "cell_type": "code",
   "execution_count": null,
   "metadata": {},
   "outputs": [],
   "source": [
    "@benchmark fdot(a)"
   ]
  },
  {
   "cell_type": "markdown",
   "metadata": {},
   "source": [
    "## 致谢\n",
    "\n",
    "本中文教程参考了台湾杜岳华先生的幻灯片，和Steven G. Johnson教授的英文教程，和David Sanders在JuliaCon 2017的Tutorial，感谢Intel的史雪松先生对C++部分的建议。"
   ]
  }
 ],
 "metadata": {
  "celltoolbar": "幻灯片",
  "kernelspec": {
   "display_name": "Julia 1.1.0",
   "language": "julia",
   "name": "julia-1.1"
  },
  "language_info": {
   "file_extension": ".jl",
   "mimetype": "application/julia",
   "name": "julia",
   "version": "1.1.0"
  }
 },
 "nbformat": 4,
 "nbformat_minor": 2
}
